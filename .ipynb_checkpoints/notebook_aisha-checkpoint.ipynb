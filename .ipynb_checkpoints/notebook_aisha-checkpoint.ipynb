{
 "cells": [
  {
   "cell_type": "code",
   "execution_count": 1,
   "metadata": {},
   "outputs": [],
   "source": [
    "import pandas as pd\n",
    "import matplotlib.pyplot as plt\n",
    "import seaborn as sns\n",
    "from sklearn.impute import KNNImputer\n",
    "import numpy as np\n",
    "from sklearn.preprocessing import StandardScaler\n",
    "from sklearn.model_selection import train_test_split\n",
    "from sklearn.linear_model import LogisticRegression\n",
    "from sklearn.metrics import accuracy_score, recall_score, precision_score, f1_score\n",
    "from sklearn.metrics import plot_confusion_matrix\n",
    "from sklearn.metrics import roc_auc_score, plot_roc_curve\n",
    "from sklearn.tree import DecisionTreeClassifier\n",
    "from sklearn.model_selection import cross_val_score\n",
    "from sklearn import tree\n",
    "from sklearn.ensemble import RandomForestClassifier\n",
    "from sklearn.datasets import make_classification\n",
    "from sklearn import metrics\n",
    "from sklearn.neighbors import KNeighborsClassifier\n",
    "from sklearn.preprocessing import OneHotEncoder\n",
    "from sklearn.model_selection import GridSearchCV\n",
    "from sklearn.impute import SimpleImputer"
   ]
  },
  {
   "cell_type": "code",
   "execution_count": 2,
   "metadata": {},
   "outputs": [],
   "source": [
    "df_training_set = pd.read_csv(\"data/training_set_features.csv\", na_values='?')"
   ]
  },
  {
   "cell_type": "code",
   "execution_count": 3,
   "metadata": {},
   "outputs": [
    {
     "data": {
      "text/plain": [
       "Female    15858\n",
       "Male      10849\n",
       "Name: sex, dtype: int64"
      ]
     },
     "execution_count": 3,
     "metadata": {},
     "output_type": "execute_result"
    }
   ],
   "source": [
    "df_training_set['sex'].value_counts()"
   ]
  },
  {
   "cell_type": "code",
   "execution_count": 4,
   "metadata": {},
   "outputs": [],
   "source": [
    "df_training_labels = pd.read_csv(\"data/training_set_labels.csv\", na_values='?')"
   ]
  },
  {
   "cell_type": "code",
   "execution_count": 5,
   "metadata": {},
   "outputs": [
    {
     "data": {
      "text/plain": [
       "26707"
      ]
     },
     "execution_count": 5,
     "metadata": {},
     "output_type": "execute_result"
    }
   ],
   "source": [
    "len(df_training_set)"
   ]
  },
  {
   "cell_type": "code",
   "execution_count": 6,
   "metadata": {},
   "outputs": [
    {
     "data": {
      "text/plain": [
       "26707"
      ]
     },
     "execution_count": 6,
     "metadata": {},
     "output_type": "execute_result"
    }
   ],
   "source": [
    "len(df_training_labels)"
   ]
  },
  {
   "cell_type": "code",
   "execution_count": 7,
   "metadata": {},
   "outputs": [
    {
     "data": {
      "text/plain": [
       "Index(['respondent_id', 'h1n1_vaccine', 'seasonal_vaccine'], dtype='object')"
      ]
     },
     "execution_count": 7,
     "metadata": {},
     "output_type": "execute_result"
    }
   ],
   "source": [
    "df_training_labels.columns"
   ]
  },
  {
   "cell_type": "code",
   "execution_count": 8,
   "metadata": {},
   "outputs": [
    {
     "data": {
      "text/plain": [
       "Index(['respondent_id', 'h1n1_concern', 'h1n1_knowledge',\n",
       "       'behavioral_antiviral_meds', 'behavioral_avoidance',\n",
       "       'behavioral_face_mask', 'behavioral_wash_hands',\n",
       "       'behavioral_large_gatherings', 'behavioral_outside_home',\n",
       "       'behavioral_touch_face', 'doctor_recc_h1n1', 'doctor_recc_seasonal',\n",
       "       'chronic_med_condition', 'child_under_6_months', 'health_worker',\n",
       "       'health_insurance', 'opinion_h1n1_vacc_effective', 'opinion_h1n1_risk',\n",
       "       'opinion_h1n1_sick_from_vacc', 'opinion_seas_vacc_effective',\n",
       "       'opinion_seas_risk', 'opinion_seas_sick_from_vacc', 'age_group',\n",
       "       'education', 'race', 'sex', 'income_poverty', 'marital_status',\n",
       "       'rent_or_own', 'employment_status', 'hhs_geo_region', 'census_msa',\n",
       "       'household_adults', 'household_children', 'employment_industry',\n",
       "       'employment_occupation'],\n",
       "      dtype='object')"
      ]
     },
     "execution_count": 8,
     "metadata": {},
     "output_type": "execute_result"
    }
   ],
   "source": [
    "df_training_set.columns"
   ]
  },
  {
   "cell_type": "code",
   "execution_count": 9,
   "metadata": {},
   "outputs": [
    {
     "name": "stdout",
     "output_type": "stream",
     "text": [
      "3\n",
      "36\n"
     ]
    }
   ],
   "source": [
    "print(len(df_training_labels.columns))\n",
    "print(len(df_training_set.columns))"
   ]
  },
  {
   "cell_type": "code",
   "execution_count": 10,
   "metadata": {},
   "outputs": [
    {
     "data": {
      "text/html": [
       "<div>\n",
       "<style scoped>\n",
       "    .dataframe tbody tr th:only-of-type {\n",
       "        vertical-align: middle;\n",
       "    }\n",
       "\n",
       "    .dataframe tbody tr th {\n",
       "        vertical-align: top;\n",
       "    }\n",
       "\n",
       "    .dataframe thead th {\n",
       "        text-align: right;\n",
       "    }\n",
       "</style>\n",
       "<table border=\"1\" class=\"dataframe\">\n",
       "  <thead>\n",
       "    <tr style=\"text-align: right;\">\n",
       "      <th></th>\n",
       "      <th>respondent_id</th>\n",
       "      <th>h1n1_concern</th>\n",
       "      <th>h1n1_knowledge</th>\n",
       "      <th>behavioral_antiviral_meds</th>\n",
       "      <th>behavioral_avoidance</th>\n",
       "      <th>behavioral_face_mask</th>\n",
       "      <th>behavioral_wash_hands</th>\n",
       "      <th>behavioral_large_gatherings</th>\n",
       "      <th>behavioral_outside_home</th>\n",
       "      <th>behavioral_touch_face</th>\n",
       "      <th>...</th>\n",
       "      <th>income_poverty</th>\n",
       "      <th>marital_status</th>\n",
       "      <th>rent_or_own</th>\n",
       "      <th>employment_status</th>\n",
       "      <th>hhs_geo_region</th>\n",
       "      <th>census_msa</th>\n",
       "      <th>household_adults</th>\n",
       "      <th>household_children</th>\n",
       "      <th>employment_industry</th>\n",
       "      <th>employment_occupation</th>\n",
       "    </tr>\n",
       "  </thead>\n",
       "  <tbody>\n",
       "    <tr>\n",
       "      <th>0</th>\n",
       "      <td>0</td>\n",
       "      <td>1.0</td>\n",
       "      <td>0.0</td>\n",
       "      <td>0.0</td>\n",
       "      <td>0.0</td>\n",
       "      <td>0.0</td>\n",
       "      <td>0.0</td>\n",
       "      <td>0.0</td>\n",
       "      <td>1.0</td>\n",
       "      <td>1.0</td>\n",
       "      <td>...</td>\n",
       "      <td>Below Poverty</td>\n",
       "      <td>Not Married</td>\n",
       "      <td>Own</td>\n",
       "      <td>Not in Labor Force</td>\n",
       "      <td>oxchjgsf</td>\n",
       "      <td>Non-MSA</td>\n",
       "      <td>0.0</td>\n",
       "      <td>0.0</td>\n",
       "      <td>NaN</td>\n",
       "      <td>NaN</td>\n",
       "    </tr>\n",
       "    <tr>\n",
       "      <th>1</th>\n",
       "      <td>1</td>\n",
       "      <td>3.0</td>\n",
       "      <td>2.0</td>\n",
       "      <td>0.0</td>\n",
       "      <td>1.0</td>\n",
       "      <td>0.0</td>\n",
       "      <td>1.0</td>\n",
       "      <td>0.0</td>\n",
       "      <td>1.0</td>\n",
       "      <td>1.0</td>\n",
       "      <td>...</td>\n",
       "      <td>Below Poverty</td>\n",
       "      <td>Not Married</td>\n",
       "      <td>Rent</td>\n",
       "      <td>Employed</td>\n",
       "      <td>bhuqouqj</td>\n",
       "      <td>MSA, Not Principle  City</td>\n",
       "      <td>0.0</td>\n",
       "      <td>0.0</td>\n",
       "      <td>pxcmvdjn</td>\n",
       "      <td>xgwztkwe</td>\n",
       "    </tr>\n",
       "    <tr>\n",
       "      <th>2</th>\n",
       "      <td>2</td>\n",
       "      <td>1.0</td>\n",
       "      <td>1.0</td>\n",
       "      <td>0.0</td>\n",
       "      <td>1.0</td>\n",
       "      <td>0.0</td>\n",
       "      <td>0.0</td>\n",
       "      <td>0.0</td>\n",
       "      <td>0.0</td>\n",
       "      <td>0.0</td>\n",
       "      <td>...</td>\n",
       "      <td>&lt;= $75,000, Above Poverty</td>\n",
       "      <td>Not Married</td>\n",
       "      <td>Own</td>\n",
       "      <td>Employed</td>\n",
       "      <td>qufhixun</td>\n",
       "      <td>MSA, Not Principle  City</td>\n",
       "      <td>2.0</td>\n",
       "      <td>0.0</td>\n",
       "      <td>rucpziij</td>\n",
       "      <td>xtkaffoo</td>\n",
       "    </tr>\n",
       "    <tr>\n",
       "      <th>3</th>\n",
       "      <td>3</td>\n",
       "      <td>1.0</td>\n",
       "      <td>1.0</td>\n",
       "      <td>0.0</td>\n",
       "      <td>1.0</td>\n",
       "      <td>0.0</td>\n",
       "      <td>1.0</td>\n",
       "      <td>1.0</td>\n",
       "      <td>0.0</td>\n",
       "      <td>0.0</td>\n",
       "      <td>...</td>\n",
       "      <td>Below Poverty</td>\n",
       "      <td>Not Married</td>\n",
       "      <td>Rent</td>\n",
       "      <td>Not in Labor Force</td>\n",
       "      <td>lrircsnp</td>\n",
       "      <td>MSA, Principle City</td>\n",
       "      <td>0.0</td>\n",
       "      <td>0.0</td>\n",
       "      <td>NaN</td>\n",
       "      <td>NaN</td>\n",
       "    </tr>\n",
       "    <tr>\n",
       "      <th>4</th>\n",
       "      <td>4</td>\n",
       "      <td>2.0</td>\n",
       "      <td>1.0</td>\n",
       "      <td>0.0</td>\n",
       "      <td>1.0</td>\n",
       "      <td>0.0</td>\n",
       "      <td>1.0</td>\n",
       "      <td>1.0</td>\n",
       "      <td>0.0</td>\n",
       "      <td>1.0</td>\n",
       "      <td>...</td>\n",
       "      <td>&lt;= $75,000, Above Poverty</td>\n",
       "      <td>Married</td>\n",
       "      <td>Own</td>\n",
       "      <td>Employed</td>\n",
       "      <td>qufhixun</td>\n",
       "      <td>MSA, Not Principle  City</td>\n",
       "      <td>1.0</td>\n",
       "      <td>0.0</td>\n",
       "      <td>wxleyezf</td>\n",
       "      <td>emcorrxb</td>\n",
       "    </tr>\n",
       "  </tbody>\n",
       "</table>\n",
       "<p>5 rows × 36 columns</p>\n",
       "</div>"
      ],
      "text/plain": [
       "   respondent_id  h1n1_concern  h1n1_knowledge  behavioral_antiviral_meds  \\\n",
       "0              0           1.0             0.0                        0.0   \n",
       "1              1           3.0             2.0                        0.0   \n",
       "2              2           1.0             1.0                        0.0   \n",
       "3              3           1.0             1.0                        0.0   \n",
       "4              4           2.0             1.0                        0.0   \n",
       "\n",
       "   behavioral_avoidance  behavioral_face_mask  behavioral_wash_hands  \\\n",
       "0                   0.0                   0.0                    0.0   \n",
       "1                   1.0                   0.0                    1.0   \n",
       "2                   1.0                   0.0                    0.0   \n",
       "3                   1.0                   0.0                    1.0   \n",
       "4                   1.0                   0.0                    1.0   \n",
       "\n",
       "   behavioral_large_gatherings  behavioral_outside_home  \\\n",
       "0                          0.0                      1.0   \n",
       "1                          0.0                      1.0   \n",
       "2                          0.0                      0.0   \n",
       "3                          1.0                      0.0   \n",
       "4                          1.0                      0.0   \n",
       "\n",
       "   behavioral_touch_face  ...             income_poverty  marital_status  \\\n",
       "0                    1.0  ...              Below Poverty     Not Married   \n",
       "1                    1.0  ...              Below Poverty     Not Married   \n",
       "2                    0.0  ...  <= $75,000, Above Poverty     Not Married   \n",
       "3                    0.0  ...              Below Poverty     Not Married   \n",
       "4                    1.0  ...  <= $75,000, Above Poverty         Married   \n",
       "\n",
       "   rent_or_own   employment_status  hhs_geo_region                census_msa  \\\n",
       "0          Own  Not in Labor Force        oxchjgsf                   Non-MSA   \n",
       "1         Rent            Employed        bhuqouqj  MSA, Not Principle  City   \n",
       "2          Own            Employed        qufhixun  MSA, Not Principle  City   \n",
       "3         Rent  Not in Labor Force        lrircsnp       MSA, Principle City   \n",
       "4          Own            Employed        qufhixun  MSA, Not Principle  City   \n",
       "\n",
       "   household_adults  household_children  employment_industry  \\\n",
       "0               0.0                 0.0                  NaN   \n",
       "1               0.0                 0.0             pxcmvdjn   \n",
       "2               2.0                 0.0             rucpziij   \n",
       "3               0.0                 0.0                  NaN   \n",
       "4               1.0                 0.0             wxleyezf   \n",
       "\n",
       "   employment_occupation  \n",
       "0                    NaN  \n",
       "1               xgwztkwe  \n",
       "2               xtkaffoo  \n",
       "3                    NaN  \n",
       "4               emcorrxb  \n",
       "\n",
       "[5 rows x 36 columns]"
      ]
     },
     "execution_count": 10,
     "metadata": {},
     "output_type": "execute_result"
    }
   ],
   "source": [
    "df_training_set.head()"
   ]
  },
  {
   "cell_type": "code",
   "execution_count": 11,
   "metadata": {},
   "outputs": [
    {
     "data": {
      "text/html": [
       "<div>\n",
       "<style scoped>\n",
       "    .dataframe tbody tr th:only-of-type {\n",
       "        vertical-align: middle;\n",
       "    }\n",
       "\n",
       "    .dataframe tbody tr th {\n",
       "        vertical-align: top;\n",
       "    }\n",
       "\n",
       "    .dataframe thead th {\n",
       "        text-align: right;\n",
       "    }\n",
       "</style>\n",
       "<table border=\"1\" class=\"dataframe\">\n",
       "  <thead>\n",
       "    <tr style=\"text-align: right;\">\n",
       "      <th></th>\n",
       "      <th>respondent_id</th>\n",
       "      <th>h1n1_vaccine</th>\n",
       "      <th>seasonal_vaccine</th>\n",
       "    </tr>\n",
       "  </thead>\n",
       "  <tbody>\n",
       "    <tr>\n",
       "      <th>0</th>\n",
       "      <td>0</td>\n",
       "      <td>0</td>\n",
       "      <td>0</td>\n",
       "    </tr>\n",
       "    <tr>\n",
       "      <th>1</th>\n",
       "      <td>1</td>\n",
       "      <td>0</td>\n",
       "      <td>1</td>\n",
       "    </tr>\n",
       "    <tr>\n",
       "      <th>2</th>\n",
       "      <td>2</td>\n",
       "      <td>0</td>\n",
       "      <td>0</td>\n",
       "    </tr>\n",
       "    <tr>\n",
       "      <th>3</th>\n",
       "      <td>3</td>\n",
       "      <td>0</td>\n",
       "      <td>1</td>\n",
       "    </tr>\n",
       "    <tr>\n",
       "      <th>4</th>\n",
       "      <td>4</td>\n",
       "      <td>0</td>\n",
       "      <td>0</td>\n",
       "    </tr>\n",
       "  </tbody>\n",
       "</table>\n",
       "</div>"
      ],
      "text/plain": [
       "   respondent_id  h1n1_vaccine  seasonal_vaccine\n",
       "0              0             0                 0\n",
       "1              1             0                 1\n",
       "2              2             0                 0\n",
       "3              3             0                 1\n",
       "4              4             0                 0"
      ]
     },
     "execution_count": 11,
     "metadata": {},
     "output_type": "execute_result"
    }
   ],
   "source": [
    "df_training_labels.head()"
   ]
  },
  {
   "cell_type": "code",
   "execution_count": 12,
   "metadata": {},
   "outputs": [
    {
     "data": {
      "image/png": "[encoded data removed]",
      "text/plain": [
       "<Figure size 576x720 with 2 Axes>"
      ]
     },
     "metadata": {
      "needs_background": "light"
     },
     "output_type": "display_data"
    }
   ],
   "source": [
    "# see the distribution of the two target variables. \n",
    "# 'seasonal_vaccine' target is more balanced\n",
    "\n",
    "fig, ax = plt.subplots(2, 1, sharex=True, figsize = (8,10))\n",
    "\n",
    "n_obs = df_training_labels.shape[0]\n",
    "\n",
    "(df_training_labels['h1n1_vaccine']\n",
    "    .value_counts()\n",
    "    .div(n_obs)\n",
    "    .plot.bar(title=\"Proportion of H1N1 Vaccine\", ax=ax[0], color = 'maroon')\n",
    ")\n",
    "ax[0].set_ylabel(\"h1n1_vaccine\")\n",
    "\n",
    "(df_training_labels['seasonal_vaccine']\n",
    "    .value_counts()\n",
    "    .div(n_obs)\n",
    "    .plot.bar(title=\"Proportion of Seasonal Vaccine\", ax=ax[1], color = 'maroon')\n",
    ")\n",
    "ax[1].set_ylabel(\"seasonal_vaccine\")\n",
    "\n",
    "fig.tight_layout()"
   ]
  },
  {
   "cell_type": "code",
   "execution_count": 13,
   "metadata": {},
   "outputs": [
    {
     "data": {
      "text/plain": [
       "0.37714265306144623"
      ]
     },
     "execution_count": 13,
     "metadata": {},
     "output_type": "execute_result"
    }
   ],
   "source": [
    "# Phi Coefficient is the same as Pearson for two binary variables\n",
    "(df_training_labels[\"h1n1_vaccine\"]\n",
    "     .corr(df_training_labels[\"seasonal_vaccine\"], method=\"pearson\")\n",
    ")"
   ]
  },
  {
   "cell_type": "code",
   "execution_count": 14,
   "metadata": {},
   "outputs": [
    {
     "data": {
      "text/plain": [
       "21"
      ]
     },
     "execution_count": 14,
     "metadata": {},
     "output_type": "execute_result"
    }
   ],
   "source": [
    "# how many categories in the 'employment_industry' feature\n",
    "len(df_training_set['employment_industry'].value_counts())"
   ]
  },
  {
   "cell_type": "code",
   "execution_count": 15,
   "metadata": {},
   "outputs": [
    {
     "data": {
      "text/plain": [
       "23"
      ]
     },
     "execution_count": 15,
     "metadata": {},
     "output_type": "execute_result"
    }
   ],
   "source": [
    "# # how many categories in the 'employment_occupation' feature\n",
    "len(df_training_set['employment_occupation'].value_counts())"
   ]
  },
  {
   "cell_type": "code",
   "execution_count": 16,
   "metadata": {},
   "outputs": [],
   "source": [
    "# concatenate 'training_set_features' and 'training_labels' datasets \n",
    "df = pd.concat([df_training_labels,df_training_set], axis = 1)"
   ]
  },
  {
   "cell_type": "code",
   "execution_count": 17,
   "metadata": {},
   "outputs": [
    {
     "data": {
      "text/html": [
       "<div>\n",
       "<style scoped>\n",
       "    .dataframe tbody tr th:only-of-type {\n",
       "        vertical-align: middle;\n",
       "    }\n",
       "\n",
       "    .dataframe tbody tr th {\n",
       "        vertical-align: top;\n",
       "    }\n",
       "\n",
       "    .dataframe thead th {\n",
       "        text-align: right;\n",
       "    }\n",
       "</style>\n",
       "<table border=\"1\" class=\"dataframe\">\n",
       "  <thead>\n",
       "    <tr style=\"text-align: right;\">\n",
       "      <th></th>\n",
       "      <th>respondent_id</th>\n",
       "      <th>h1n1_vaccine</th>\n",
       "      <th>seasonal_vaccine</th>\n",
       "      <th>respondent_id</th>\n",
       "      <th>h1n1_concern</th>\n",
       "      <th>h1n1_knowledge</th>\n",
       "      <th>behavioral_antiviral_meds</th>\n",
       "      <th>behavioral_avoidance</th>\n",
       "      <th>behavioral_face_mask</th>\n",
       "      <th>behavioral_wash_hands</th>\n",
       "      <th>...</th>\n",
       "      <th>income_poverty</th>\n",
       "      <th>marital_status</th>\n",
       "      <th>rent_or_own</th>\n",
       "      <th>employment_status</th>\n",
       "      <th>hhs_geo_region</th>\n",
       "      <th>census_msa</th>\n",
       "      <th>household_adults</th>\n",
       "      <th>household_children</th>\n",
       "      <th>employment_industry</th>\n",
       "      <th>employment_occupation</th>\n",
       "    </tr>\n",
       "  </thead>\n",
       "  <tbody>\n",
       "    <tr>\n",
       "      <th>0</th>\n",
       "      <td>0</td>\n",
       "      <td>0</td>\n",
       "      <td>0</td>\n",
       "      <td>0</td>\n",
       "      <td>1.0</td>\n",
       "      <td>0.0</td>\n",
       "      <td>0.0</td>\n",
       "      <td>0.0</td>\n",
       "      <td>0.0</td>\n",
       "      <td>0.0</td>\n",
       "      <td>...</td>\n",
       "      <td>Below Poverty</td>\n",
       "      <td>Not Married</td>\n",
       "      <td>Own</td>\n",
       "      <td>Not in Labor Force</td>\n",
       "      <td>oxchjgsf</td>\n",
       "      <td>Non-MSA</td>\n",
       "      <td>0.0</td>\n",
       "      <td>0.0</td>\n",
       "      <td>NaN</td>\n",
       "      <td>NaN</td>\n",
       "    </tr>\n",
       "    <tr>\n",
       "      <th>1</th>\n",
       "      <td>1</td>\n",
       "      <td>0</td>\n",
       "      <td>1</td>\n",
       "      <td>1</td>\n",
       "      <td>3.0</td>\n",
       "      <td>2.0</td>\n",
       "      <td>0.0</td>\n",
       "      <td>1.0</td>\n",
       "      <td>0.0</td>\n",
       "      <td>1.0</td>\n",
       "      <td>...</td>\n",
       "      <td>Below Poverty</td>\n",
       "      <td>Not Married</td>\n",
       "      <td>Rent</td>\n",
       "      <td>Employed</td>\n",
       "      <td>bhuqouqj</td>\n",
       "      <td>MSA, Not Principle  City</td>\n",
       "      <td>0.0</td>\n",
       "      <td>0.0</td>\n",
       "      <td>pxcmvdjn</td>\n",
       "      <td>xgwztkwe</td>\n",
       "    </tr>\n",
       "    <tr>\n",
       "      <th>2</th>\n",
       "      <td>2</td>\n",
       "      <td>0</td>\n",
       "      <td>0</td>\n",
       "      <td>2</td>\n",
       "      <td>1.0</td>\n",
       "      <td>1.0</td>\n",
       "      <td>0.0</td>\n",
       "      <td>1.0</td>\n",
       "      <td>0.0</td>\n",
       "      <td>0.0</td>\n",
       "      <td>...</td>\n",
       "      <td>&lt;= $75,000, Above Poverty</td>\n",
       "      <td>Not Married</td>\n",
       "      <td>Own</td>\n",
       "      <td>Employed</td>\n",
       "      <td>qufhixun</td>\n",
       "      <td>MSA, Not Principle  City</td>\n",
       "      <td>2.0</td>\n",
       "      <td>0.0</td>\n",
       "      <td>rucpziij</td>\n",
       "      <td>xtkaffoo</td>\n",
       "    </tr>\n",
       "    <tr>\n",
       "      <th>3</th>\n",
       "      <td>3</td>\n",
       "      <td>0</td>\n",
       "      <td>1</td>\n",
       "      <td>3</td>\n",
       "      <td>1.0</td>\n",
       "      <td>1.0</td>\n",
       "      <td>0.0</td>\n",
       "      <td>1.0</td>\n",
       "      <td>0.0</td>\n",
       "      <td>1.0</td>\n",
       "      <td>...</td>\n",
       "      <td>Below Poverty</td>\n",
       "      <td>Not Married</td>\n",
       "      <td>Rent</td>\n",
       "      <td>Not in Labor Force</td>\n",
       "      <td>lrircsnp</td>\n",
       "      <td>MSA, Principle City</td>\n",
       "      <td>0.0</td>\n",
       "      <td>0.0</td>\n",
       "      <td>NaN</td>\n",
       "      <td>NaN</td>\n",
       "    </tr>\n",
       "    <tr>\n",
       "      <th>4</th>\n",
       "      <td>4</td>\n",
       "      <td>0</td>\n",
       "      <td>0</td>\n",
       "      <td>4</td>\n",
       "      <td>2.0</td>\n",
       "      <td>1.0</td>\n",
       "      <td>0.0</td>\n",
       "      <td>1.0</td>\n",
       "      <td>0.0</td>\n",
       "      <td>1.0</td>\n",
       "      <td>...</td>\n",
       "      <td>&lt;= $75,000, Above Poverty</td>\n",
       "      <td>Married</td>\n",
       "      <td>Own</td>\n",
       "      <td>Employed</td>\n",
       "      <td>qufhixun</td>\n",
       "      <td>MSA, Not Principle  City</td>\n",
       "      <td>1.0</td>\n",
       "      <td>0.0</td>\n",
       "      <td>wxleyezf</td>\n",
       "      <td>emcorrxb</td>\n",
       "    </tr>\n",
       "  </tbody>\n",
       "</table>\n",
       "<p>5 rows × 39 columns</p>\n",
       "</div>"
      ],
      "text/plain": [
       "   respondent_id  h1n1_vaccine  seasonal_vaccine  respondent_id  h1n1_concern  \\\n",
       "0              0             0                 0              0           1.0   \n",
       "1              1             0                 1              1           3.0   \n",
       "2              2             0                 0              2           1.0   \n",
       "3              3             0                 1              3           1.0   \n",
       "4              4             0                 0              4           2.0   \n",
       "\n",
       "   h1n1_knowledge  behavioral_antiviral_meds  behavioral_avoidance  \\\n",
       "0             0.0                        0.0                   0.0   \n",
       "1             2.0                        0.0                   1.0   \n",
       "2             1.0                        0.0                   1.0   \n",
       "3             1.0                        0.0                   1.0   \n",
       "4             1.0                        0.0                   1.0   \n",
       "\n",
       "   behavioral_face_mask  behavioral_wash_hands  ...  \\\n",
       "0                   0.0                    0.0  ...   \n",
       "1                   0.0                    1.0  ...   \n",
       "2                   0.0                    0.0  ...   \n",
       "3                   0.0                    1.0  ...   \n",
       "4                   0.0                    1.0  ...   \n",
       "\n",
       "              income_poverty  marital_status  rent_or_own   employment_status  \\\n",
       "0              Below Poverty     Not Married          Own  Not in Labor Force   \n",
       "1              Below Poverty     Not Married         Rent            Employed   \n",
       "2  <= $75,000, Above Poverty     Not Married          Own            Employed   \n",
       "3              Below Poverty     Not Married         Rent  Not in Labor Force   \n",
       "4  <= $75,000, Above Poverty         Married          Own            Employed   \n",
       "\n",
       "   hhs_geo_region                census_msa  household_adults  \\\n",
       "0        oxchjgsf                   Non-MSA               0.0   \n",
       "1        bhuqouqj  MSA, Not Principle  City               0.0   \n",
       "2        qufhixun  MSA, Not Principle  City               2.0   \n",
       "3        lrircsnp       MSA, Principle City               0.0   \n",
       "4        qufhixun  MSA, Not Principle  City               1.0   \n",
       "\n",
       "   household_children  employment_industry  employment_occupation  \n",
       "0                 0.0                  NaN                    NaN  \n",
       "1                 0.0             pxcmvdjn               xgwztkwe  \n",
       "2                 0.0             rucpziij               xtkaffoo  \n",
       "3                 0.0                  NaN                    NaN  \n",
       "4                 0.0             wxleyezf               emcorrxb  \n",
       "\n",
       "[5 rows x 39 columns]"
      ]
     },
     "execution_count": 17,
     "metadata": {},
     "output_type": "execute_result"
    }
   ],
   "source": [
    "df.head()"
   ]
  },
  {
   "cell_type": "code",
   "execution_count": 18,
   "metadata": {},
   "outputs": [
    {
     "data": {
      "text/plain": [
       "39"
      ]
     },
     "execution_count": 18,
     "metadata": {},
     "output_type": "execute_result"
    }
   ],
   "source": [
    "df.shape[1]"
   ]
  },
  {
   "cell_type": "code",
   "execution_count": 19,
   "metadata": {},
   "outputs": [
    {
     "data": {
      "text/plain": [
       "26707"
      ]
     },
     "execution_count": 19,
     "metadata": {},
     "output_type": "execute_result"
    }
   ],
   "source": [
    "df.shape[0]"
   ]
  },
  {
   "cell_type": "code",
   "execution_count": 20,
   "metadata": {},
   "outputs": [],
   "source": [
    "# drop the id column\n",
    "df.drop(['respondent_id'], axis = 1, inplace = True)"
   ]
  },
  {
   "cell_type": "code",
   "execution_count": 21,
   "metadata": {},
   "outputs": [
    {
     "data": {
      "text/plain": [
       "(26707, 37)"
      ]
     },
     "execution_count": 21,
     "metadata": {},
     "output_type": "execute_result"
    }
   ],
   "source": [
    "df.shape"
   ]
  },
  {
   "cell_type": "code",
   "execution_count": 22,
   "metadata": {},
   "outputs": [
    {
     "data": {
      "text/html": [
       "<div>\n",
       "<style scoped>\n",
       "    .dataframe tbody tr th:only-of-type {\n",
       "        vertical-align: middle;\n",
       "    }\n",
       "\n",
       "    .dataframe tbody tr th {\n",
       "        vertical-align: top;\n",
       "    }\n",
       "\n",
       "    .dataframe thead th {\n",
       "        text-align: right;\n",
       "    }\n",
       "</style>\n",
       "<table border=\"1\" class=\"dataframe\">\n",
       "  <thead>\n",
       "    <tr style=\"text-align: right;\">\n",
       "      <th></th>\n",
       "      <th>h1n1_vaccine</th>\n",
       "      <th>seasonal_vaccine</th>\n",
       "      <th>h1n1_concern</th>\n",
       "      <th>h1n1_knowledge</th>\n",
       "      <th>behavioral_antiviral_meds</th>\n",
       "      <th>behavioral_avoidance</th>\n",
       "      <th>behavioral_face_mask</th>\n",
       "      <th>behavioral_wash_hands</th>\n",
       "      <th>behavioral_large_gatherings</th>\n",
       "      <th>behavioral_outside_home</th>\n",
       "      <th>...</th>\n",
       "      <th>income_poverty</th>\n",
       "      <th>marital_status</th>\n",
       "      <th>rent_or_own</th>\n",
       "      <th>employment_status</th>\n",
       "      <th>hhs_geo_region</th>\n",
       "      <th>census_msa</th>\n",
       "      <th>household_adults</th>\n",
       "      <th>household_children</th>\n",
       "      <th>employment_industry</th>\n",
       "      <th>employment_occupation</th>\n",
       "    </tr>\n",
       "  </thead>\n",
       "  <tbody>\n",
       "    <tr>\n",
       "      <th>0</th>\n",
       "      <td>0</td>\n",
       "      <td>0</td>\n",
       "      <td>1.0</td>\n",
       "      <td>0.0</td>\n",
       "      <td>0.0</td>\n",
       "      <td>0.0</td>\n",
       "      <td>0.0</td>\n",
       "      <td>0.0</td>\n",
       "      <td>0.0</td>\n",
       "      <td>1.0</td>\n",
       "      <td>...</td>\n",
       "      <td>Below Poverty</td>\n",
       "      <td>Not Married</td>\n",
       "      <td>Own</td>\n",
       "      <td>Not in Labor Force</td>\n",
       "      <td>oxchjgsf</td>\n",
       "      <td>Non-MSA</td>\n",
       "      <td>0.0</td>\n",
       "      <td>0.0</td>\n",
       "      <td>NaN</td>\n",
       "      <td>NaN</td>\n",
       "    </tr>\n",
       "    <tr>\n",
       "      <th>1</th>\n",
       "      <td>0</td>\n",
       "      <td>1</td>\n",
       "      <td>3.0</td>\n",
       "      <td>2.0</td>\n",
       "      <td>0.0</td>\n",
       "      <td>1.0</td>\n",
       "      <td>0.0</td>\n",
       "      <td>1.0</td>\n",
       "      <td>0.0</td>\n",
       "      <td>1.0</td>\n",
       "      <td>...</td>\n",
       "      <td>Below Poverty</td>\n",
       "      <td>Not Married</td>\n",
       "      <td>Rent</td>\n",
       "      <td>Employed</td>\n",
       "      <td>bhuqouqj</td>\n",
       "      <td>MSA, Not Principle  City</td>\n",
       "      <td>0.0</td>\n",
       "      <td>0.0</td>\n",
       "      <td>pxcmvdjn</td>\n",
       "      <td>xgwztkwe</td>\n",
       "    </tr>\n",
       "    <tr>\n",
       "      <th>2</th>\n",
       "      <td>0</td>\n",
       "      <td>0</td>\n",
       "      <td>1.0</td>\n",
       "      <td>1.0</td>\n",
       "      <td>0.0</td>\n",
       "      <td>1.0</td>\n",
       "      <td>0.0</td>\n",
       "      <td>0.0</td>\n",
       "      <td>0.0</td>\n",
       "      <td>0.0</td>\n",
       "      <td>...</td>\n",
       "      <td>&lt;= $75,000, Above Poverty</td>\n",
       "      <td>Not Married</td>\n",
       "      <td>Own</td>\n",
       "      <td>Employed</td>\n",
       "      <td>qufhixun</td>\n",
       "      <td>MSA, Not Principle  City</td>\n",
       "      <td>2.0</td>\n",
       "      <td>0.0</td>\n",
       "      <td>rucpziij</td>\n",
       "      <td>xtkaffoo</td>\n",
       "    </tr>\n",
       "    <tr>\n",
       "      <th>3</th>\n",
       "      <td>0</td>\n",
       "      <td>1</td>\n",
       "      <td>1.0</td>\n",
       "      <td>1.0</td>\n",
       "      <td>0.0</td>\n",
       "      <td>1.0</td>\n",
       "      <td>0.0</td>\n",
       "      <td>1.0</td>\n",
       "      <td>1.0</td>\n",
       "      <td>0.0</td>\n",
       "      <td>...</td>\n",
       "      <td>Below Poverty</td>\n",
       "      <td>Not Married</td>\n",
       "      <td>Rent</td>\n",
       "      <td>Not in Labor Force</td>\n",
       "      <td>lrircsnp</td>\n",
       "      <td>MSA, Principle City</td>\n",
       "      <td>0.0</td>\n",
       "      <td>0.0</td>\n",
       "      <td>NaN</td>\n",
       "      <td>NaN</td>\n",
       "    </tr>\n",
       "    <tr>\n",
       "      <th>4</th>\n",
       "      <td>0</td>\n",
       "      <td>0</td>\n",
       "      <td>2.0</td>\n",
       "      <td>1.0</td>\n",
       "      <td>0.0</td>\n",
       "      <td>1.0</td>\n",
       "      <td>0.0</td>\n",
       "      <td>1.0</td>\n",
       "      <td>1.0</td>\n",
       "      <td>0.0</td>\n",
       "      <td>...</td>\n",
       "      <td>&lt;= $75,000, Above Poverty</td>\n",
       "      <td>Married</td>\n",
       "      <td>Own</td>\n",
       "      <td>Employed</td>\n",
       "      <td>qufhixun</td>\n",
       "      <td>MSA, Not Principle  City</td>\n",
       "      <td>1.0</td>\n",
       "      <td>0.0</td>\n",
       "      <td>wxleyezf</td>\n",
       "      <td>emcorrxb</td>\n",
       "    </tr>\n",
       "  </tbody>\n",
       "</table>\n",
       "<p>5 rows × 37 columns</p>\n",
       "</div>"
      ],
      "text/plain": [
       "   h1n1_vaccine  seasonal_vaccine  h1n1_concern  h1n1_knowledge  \\\n",
       "0             0                 0           1.0             0.0   \n",
       "1             0                 1           3.0             2.0   \n",
       "2             0                 0           1.0             1.0   \n",
       "3             0                 1           1.0             1.0   \n",
       "4             0                 0           2.0             1.0   \n",
       "\n",
       "   behavioral_antiviral_meds  behavioral_avoidance  behavioral_face_mask  \\\n",
       "0                        0.0                   0.0                   0.0   \n",
       "1                        0.0                   1.0                   0.0   \n",
       "2                        0.0                   1.0                   0.0   \n",
       "3                        0.0                   1.0                   0.0   \n",
       "4                        0.0                   1.0                   0.0   \n",
       "\n",
       "   behavioral_wash_hands  behavioral_large_gatherings  \\\n",
       "0                    0.0                          0.0   \n",
       "1                    1.0                          0.0   \n",
       "2                    0.0                          0.0   \n",
       "3                    1.0                          1.0   \n",
       "4                    1.0                          1.0   \n",
       "\n",
       "   behavioral_outside_home  ...             income_poverty  marital_status  \\\n",
       "0                      1.0  ...              Below Poverty     Not Married   \n",
       "1                      1.0  ...              Below Poverty     Not Married   \n",
       "2                      0.0  ...  <= $75,000, Above Poverty     Not Married   \n",
       "3                      0.0  ...              Below Poverty     Not Married   \n",
       "4                      0.0  ...  <= $75,000, Above Poverty         Married   \n",
       "\n",
       "   rent_or_own   employment_status  hhs_geo_region                census_msa  \\\n",
       "0          Own  Not in Labor Force        oxchjgsf                   Non-MSA   \n",
       "1         Rent            Employed        bhuqouqj  MSA, Not Principle  City   \n",
       "2          Own            Employed        qufhixun  MSA, Not Principle  City   \n",
       "3         Rent  Not in Labor Force        lrircsnp       MSA, Principle City   \n",
       "4          Own            Employed        qufhixun  MSA, Not Principle  City   \n",
       "\n",
       "   household_adults  household_children  employment_industry  \\\n",
       "0               0.0                 0.0                  NaN   \n",
       "1               0.0                 0.0             pxcmvdjn   \n",
       "2               2.0                 0.0             rucpziij   \n",
       "3               0.0                 0.0                  NaN   \n",
       "4               1.0                 0.0             wxleyezf   \n",
       "\n",
       "   employment_occupation  \n",
       "0                    NaN  \n",
       "1               xgwztkwe  \n",
       "2               xtkaffoo  \n",
       "3                    NaN  \n",
       "4               emcorrxb  \n",
       "\n",
       "[5 rows x 37 columns]"
      ]
     },
     "execution_count": 22,
     "metadata": {},
     "output_type": "execute_result"
    }
   ],
   "source": [
    "df.head()"
   ]
  },
  {
   "cell_type": "code",
   "execution_count": 23,
   "metadata": {},
   "outputs": [
    {
     "data": {
      "text/plain": [
       "Index(['h1n1_vaccine', 'seasonal_vaccine', 'h1n1_concern', 'h1n1_knowledge',\n",
       "       'behavioral_antiviral_meds', 'behavioral_avoidance',\n",
       "       'behavioral_face_mask', 'behavioral_wash_hands',\n",
       "       'behavioral_large_gatherings', 'behavioral_outside_home',\n",
       "       'behavioral_touch_face', 'doctor_recc_h1n1', 'doctor_recc_seasonal',\n",
       "       'chronic_med_condition', 'child_under_6_months', 'health_worker',\n",
       "       'health_insurance', 'opinion_h1n1_vacc_effective', 'opinion_h1n1_risk',\n",
       "       'opinion_h1n1_sick_from_vacc', 'opinion_seas_vacc_effective',\n",
       "       'opinion_seas_risk', 'opinion_seas_sick_from_vacc', 'age_group',\n",
       "       'education', 'race', 'sex', 'income_poverty', 'marital_status',\n",
       "       'rent_or_own', 'employment_status', 'hhs_geo_region', 'census_msa',\n",
       "       'household_adults', 'household_children', 'employment_industry',\n",
       "       'employment_occupation'],\n",
       "      dtype='object')"
      ]
     },
     "execution_count": 23,
     "metadata": {},
     "output_type": "execute_result"
    }
   ],
   "source": [
    "df.columns"
   ]
  },
  {
   "cell_type": "code",
   "execution_count": 24,
   "metadata": {},
   "outputs": [
    {
     "data": {
      "text/plain": [
       "False    26707\n",
       "Name: seasonal_vaccine, dtype: int64"
      ]
     },
     "execution_count": 24,
     "metadata": {},
     "output_type": "execute_result"
    }
   ],
   "source": [
    "# is the 'seasonal_vaccine' column missing any values?\n",
    "df['seasonal_vaccine'].isna().value_counts()"
   ]
  },
  {
   "cell_type": "code",
   "execution_count": 25,
   "metadata": {},
   "outputs": [
    {
     "data": {
      "text/plain": [
       "False    26707\n",
       "Name: h1n1_vaccine, dtype: int64"
      ]
     },
     "execution_count": 25,
     "metadata": {},
     "output_type": "execute_result"
    }
   ],
   "source": [
    "# is the 'h1n1_vaccine' column missing any values?\n",
    "df['h1n1_vaccine'].isna().value_counts()"
   ]
  },
  {
   "cell_type": "code",
   "execution_count": 26,
   "metadata": {},
   "outputs": [],
   "source": [
    "# encode certain features into a numeric form\n",
    "df['age_group'].replace({ '18 - 34 Years' : 1, '35 - 44 Years' : 2, '45 - 54 Years' : 3,'55 - 64 Years' : 4,'65+ Years' : 5 }, inplace = True)\n",
    "df['education'].replace({ '< 12 Years' : 1, '12 Years' : 2, 'Some College' : 3,'College Graduate' : 4}, inplace = True)\n",
    "df['race'].replace({ 'Black' : 1, 'Hispanic' : 2, 'White' : 3,'Other or Multiple' : 4}, inplace = True)\n",
    "df['sex'].replace({ 'Female' : 0, 'Male' : 1}, inplace = True)\n",
    "df['income_poverty'].replace({ 'Below Poverty' : 1, '> $75,000' : 2,'<= $75,000, Above Poverty' : 3}, inplace = True)\n",
    "df['marital_status'].replace({ 'Married' : 0, 'Not Married' : 1}, inplace = True)\n",
    "df['rent_or_own'].replace({ 'Rent' : 0, 'Own' : 1}, inplace = True)\n",
    "df['employment_status'].replace({ 'Unemployed' : 1, 'Not in Labor Force' : 2,'Employed' : 3}, inplace = True)\n",
    "df['hhs_geo_region'].replace({ 'lzgpxyit' : 1, 'fpwskwrf' : 2, 'qufhixun' : 3,'oxchjgsf' : 4,'kbazzjca' : 5, 'bhuqouqj' : 6, 'mlyzmhmf' : 7, 'lrircsnp' : 8,'atmpeygn' : 9, 'dqpwygqj' : 10 }, inplace = True)\n",
    "df['census_msa'].replace({ 'Non-MSA' : 1, 'MSA, Not Principle  City' : 2,'MSA, Principle City' : 3}, inplace = True)\n"
   ]
  },
  {
   "cell_type": "code",
   "execution_count": 27,
   "metadata": {},
   "outputs": [
    {
     "data": {
      "text/plain": [
       "True     13470\n",
       "False    13237\n",
       "Name: employment_occupation, dtype: int64"
      ]
     },
     "execution_count": 27,
     "metadata": {},
     "output_type": "execute_result"
    }
   ],
   "source": [
    "df['employment_occupation'].isna().value_counts()"
   ]
  },
  {
   "cell_type": "code",
   "execution_count": 28,
   "metadata": {},
   "outputs": [
    {
     "data": {
      "text/plain": [
       "False    13377\n",
       "True     13330\n",
       "Name: employment_industry, dtype: int64"
      ]
     },
     "execution_count": 28,
     "metadata": {},
     "output_type": "execute_result"
    }
   ],
   "source": [
    "df['employment_industry'].isna().value_counts()"
   ]
  },
  {
   "cell_type": "code",
   "execution_count": 29,
   "metadata": {},
   "outputs": [],
   "source": [
    "# drop 'employment_occupation' and 'employment_industry' features because too many (~50 %)\n",
    "# of the data is null."
   ]
  },
  {
   "cell_type": "code",
   "execution_count": 30,
   "metadata": {},
   "outputs": [],
   "source": [
    "df.drop(columns = ['employment_occupation','employment_industry'], inplace = True)"
   ]
  },
  {
   "cell_type": "code",
   "execution_count": 31,
   "metadata": {},
   "outputs": [
    {
     "data": {
      "text/html": [
       "<div>\n",
       "<style scoped>\n",
       "    .dataframe tbody tr th:only-of-type {\n",
       "        vertical-align: middle;\n",
       "    }\n",
       "\n",
       "    .dataframe tbody tr th {\n",
       "        vertical-align: top;\n",
       "    }\n",
       "\n",
       "    .dataframe thead th {\n",
       "        text-align: right;\n",
       "    }\n",
       "</style>\n",
       "<table border=\"1\" class=\"dataframe\">\n",
       "  <thead>\n",
       "    <tr style=\"text-align: right;\">\n",
       "      <th></th>\n",
       "      <th>h1n1_vaccine</th>\n",
       "      <th>seasonal_vaccine</th>\n",
       "      <th>h1n1_concern</th>\n",
       "      <th>h1n1_knowledge</th>\n",
       "      <th>behavioral_antiviral_meds</th>\n",
       "      <th>behavioral_avoidance</th>\n",
       "      <th>behavioral_face_mask</th>\n",
       "      <th>behavioral_wash_hands</th>\n",
       "      <th>behavioral_large_gatherings</th>\n",
       "      <th>behavioral_outside_home</th>\n",
       "      <th>...</th>\n",
       "      <th>race</th>\n",
       "      <th>sex</th>\n",
       "      <th>income_poverty</th>\n",
       "      <th>marital_status</th>\n",
       "      <th>rent_or_own</th>\n",
       "      <th>employment_status</th>\n",
       "      <th>hhs_geo_region</th>\n",
       "      <th>census_msa</th>\n",
       "      <th>household_adults</th>\n",
       "      <th>household_children</th>\n",
       "    </tr>\n",
       "  </thead>\n",
       "  <tbody>\n",
       "    <tr>\n",
       "      <th>0</th>\n",
       "      <td>0</td>\n",
       "      <td>0</td>\n",
       "      <td>1.0</td>\n",
       "      <td>0.0</td>\n",
       "      <td>0.0</td>\n",
       "      <td>0.0</td>\n",
       "      <td>0.0</td>\n",
       "      <td>0.0</td>\n",
       "      <td>0.0</td>\n",
       "      <td>1.0</td>\n",
       "      <td>...</td>\n",
       "      <td>3</td>\n",
       "      <td>0</td>\n",
       "      <td>1.0</td>\n",
       "      <td>1.0</td>\n",
       "      <td>1.0</td>\n",
       "      <td>2.0</td>\n",
       "      <td>4</td>\n",
       "      <td>1</td>\n",
       "      <td>0.0</td>\n",
       "      <td>0.0</td>\n",
       "    </tr>\n",
       "    <tr>\n",
       "      <th>1</th>\n",
       "      <td>0</td>\n",
       "      <td>1</td>\n",
       "      <td>3.0</td>\n",
       "      <td>2.0</td>\n",
       "      <td>0.0</td>\n",
       "      <td>1.0</td>\n",
       "      <td>0.0</td>\n",
       "      <td>1.0</td>\n",
       "      <td>0.0</td>\n",
       "      <td>1.0</td>\n",
       "      <td>...</td>\n",
       "      <td>3</td>\n",
       "      <td>1</td>\n",
       "      <td>1.0</td>\n",
       "      <td>1.0</td>\n",
       "      <td>0.0</td>\n",
       "      <td>3.0</td>\n",
       "      <td>6</td>\n",
       "      <td>2</td>\n",
       "      <td>0.0</td>\n",
       "      <td>0.0</td>\n",
       "    </tr>\n",
       "    <tr>\n",
       "      <th>2</th>\n",
       "      <td>0</td>\n",
       "      <td>0</td>\n",
       "      <td>1.0</td>\n",
       "      <td>1.0</td>\n",
       "      <td>0.0</td>\n",
       "      <td>1.0</td>\n",
       "      <td>0.0</td>\n",
       "      <td>0.0</td>\n",
       "      <td>0.0</td>\n",
       "      <td>0.0</td>\n",
       "      <td>...</td>\n",
       "      <td>3</td>\n",
       "      <td>1</td>\n",
       "      <td>3.0</td>\n",
       "      <td>1.0</td>\n",
       "      <td>1.0</td>\n",
       "      <td>3.0</td>\n",
       "      <td>3</td>\n",
       "      <td>2</td>\n",
       "      <td>2.0</td>\n",
       "      <td>0.0</td>\n",
       "    </tr>\n",
       "    <tr>\n",
       "      <th>3</th>\n",
       "      <td>0</td>\n",
       "      <td>1</td>\n",
       "      <td>1.0</td>\n",
       "      <td>1.0</td>\n",
       "      <td>0.0</td>\n",
       "      <td>1.0</td>\n",
       "      <td>0.0</td>\n",
       "      <td>1.0</td>\n",
       "      <td>1.0</td>\n",
       "      <td>0.0</td>\n",
       "      <td>...</td>\n",
       "      <td>3</td>\n",
       "      <td>0</td>\n",
       "      <td>1.0</td>\n",
       "      <td>1.0</td>\n",
       "      <td>0.0</td>\n",
       "      <td>2.0</td>\n",
       "      <td>8</td>\n",
       "      <td>3</td>\n",
       "      <td>0.0</td>\n",
       "      <td>0.0</td>\n",
       "    </tr>\n",
       "    <tr>\n",
       "      <th>4</th>\n",
       "      <td>0</td>\n",
       "      <td>0</td>\n",
       "      <td>2.0</td>\n",
       "      <td>1.0</td>\n",
       "      <td>0.0</td>\n",
       "      <td>1.0</td>\n",
       "      <td>0.0</td>\n",
       "      <td>1.0</td>\n",
       "      <td>1.0</td>\n",
       "      <td>0.0</td>\n",
       "      <td>...</td>\n",
       "      <td>3</td>\n",
       "      <td>0</td>\n",
       "      <td>3.0</td>\n",
       "      <td>0.0</td>\n",
       "      <td>1.0</td>\n",
       "      <td>3.0</td>\n",
       "      <td>3</td>\n",
       "      <td>2</td>\n",
       "      <td>1.0</td>\n",
       "      <td>0.0</td>\n",
       "    </tr>\n",
       "  </tbody>\n",
       "</table>\n",
       "<p>5 rows × 35 columns</p>\n",
       "</div>"
      ],
      "text/plain": [
       "   h1n1_vaccine  seasonal_vaccine  h1n1_concern  h1n1_knowledge  \\\n",
       "0             0                 0           1.0             0.0   \n",
       "1             0                 1           3.0             2.0   \n",
       "2             0                 0           1.0             1.0   \n",
       "3             0                 1           1.0             1.0   \n",
       "4             0                 0           2.0             1.0   \n",
       "\n",
       "   behavioral_antiviral_meds  behavioral_avoidance  behavioral_face_mask  \\\n",
       "0                        0.0                   0.0                   0.0   \n",
       "1                        0.0                   1.0                   0.0   \n",
       "2                        0.0                   1.0                   0.0   \n",
       "3                        0.0                   1.0                   0.0   \n",
       "4                        0.0                   1.0                   0.0   \n",
       "\n",
       "   behavioral_wash_hands  behavioral_large_gatherings  \\\n",
       "0                    0.0                          0.0   \n",
       "1                    1.0                          0.0   \n",
       "2                    0.0                          0.0   \n",
       "3                    1.0                          1.0   \n",
       "4                    1.0                          1.0   \n",
       "\n",
       "   behavioral_outside_home  ...  race  sex  income_poverty  marital_status  \\\n",
       "0                      1.0  ...     3    0             1.0             1.0   \n",
       "1                      1.0  ...     3    1             1.0             1.0   \n",
       "2                      0.0  ...     3    1             3.0             1.0   \n",
       "3                      0.0  ...     3    0             1.0             1.0   \n",
       "4                      0.0  ...     3    0             3.0             0.0   \n",
       "\n",
       "   rent_or_own  employment_status  hhs_geo_region  census_msa  \\\n",
       "0          1.0                2.0               4           1   \n",
       "1          0.0                3.0               6           2   \n",
       "2          1.0                3.0               3           2   \n",
       "3          0.0                2.0               8           3   \n",
       "4          1.0                3.0               3           2   \n",
       "\n",
       "   household_adults  household_children  \n",
       "0               0.0                 0.0  \n",
       "1               0.0                 0.0  \n",
       "2               2.0                 0.0  \n",
       "3               0.0                 0.0  \n",
       "4               1.0                 0.0  \n",
       "\n",
       "[5 rows x 35 columns]"
      ]
     },
     "execution_count": 31,
     "metadata": {},
     "output_type": "execute_result"
    }
   ],
   "source": [
    "df.head()"
   ]
  },
  {
   "cell_type": "code",
   "execution_count": 32,
   "metadata": {},
   "outputs": [
    {
     "name": "stdout",
     "output_type": "stream",
     "text": [
      "<class 'pandas.core.frame.DataFrame'>\n",
      "RangeIndex: 26707 entries, 0 to 26706\n",
      "Data columns (total 35 columns):\n",
      " #   Column                       Non-Null Count  Dtype  \n",
      "---  ------                       --------------  -----  \n",
      " 0   h1n1_vaccine                 26707 non-null  int64  \n",
      " 1   seasonal_vaccine             26707 non-null  int64  \n",
      " 2   h1n1_concern                 26615 non-null  float64\n",
      " 3   h1n1_knowledge               26591 non-null  float64\n",
      " 4   behavioral_antiviral_meds    26636 non-null  float64\n",
      " 5   behavioral_avoidance         26499 non-null  float64\n",
      " 6   behavioral_face_mask         26688 non-null  float64\n",
      " 7   behavioral_wash_hands        26665 non-null  float64\n",
      " 8   behavioral_large_gatherings  26620 non-null  float64\n",
      " 9   behavioral_outside_home      26625 non-null  float64\n",
      " 10  behavioral_touch_face        26579 non-null  float64\n",
      " 11  doctor_recc_h1n1             24547 non-null  float64\n",
      " 12  doctor_recc_seasonal         24547 non-null  float64\n",
      " 13  chronic_med_condition        25736 non-null  float64\n",
      " 14  child_under_6_months         25887 non-null  float64\n",
      " 15  health_worker                25903 non-null  float64\n",
      " 16  health_insurance             14433 non-null  float64\n",
      " 17  opinion_h1n1_vacc_effective  26316 non-null  float64\n",
      " 18  opinion_h1n1_risk            26319 non-null  float64\n",
      " 19  opinion_h1n1_sick_from_vacc  26312 non-null  float64\n",
      " 20  opinion_seas_vacc_effective  26245 non-null  float64\n",
      " 21  opinion_seas_risk            26193 non-null  float64\n",
      " 22  opinion_seas_sick_from_vacc  26170 non-null  float64\n",
      " 23  age_group                    26707 non-null  int64  \n",
      " 24  education                    25300 non-null  float64\n",
      " 25  race                         26707 non-null  int64  \n",
      " 26  sex                          26707 non-null  int64  \n",
      " 27  income_poverty               22284 non-null  float64\n",
      " 28  marital_status               25299 non-null  float64\n",
      " 29  rent_or_own                  24665 non-null  float64\n",
      " 30  employment_status            25244 non-null  float64\n",
      " 31  hhs_geo_region               26707 non-null  int64  \n",
      " 32  census_msa                   26707 non-null  int64  \n",
      " 33  household_adults             26458 non-null  float64\n",
      " 34  household_children           26458 non-null  float64\n",
      "dtypes: float64(28), int64(7)\n",
      "memory usage: 7.1 MB\n"
     ]
    }
   ],
   "source": [
    "df.info()"
   ]
  },
  {
   "cell_type": "code",
   "execution_count": 33,
   "metadata": {},
   "outputs": [
    {
     "data": {
      "text/plain": [
       "False    26707\n",
       "Name: race, dtype: int64"
      ]
     },
     "execution_count": 33,
     "metadata": {},
     "output_type": "execute_result"
    }
   ],
   "source": [
    "df['race'].isna().value_counts()"
   ]
  },
  {
   "cell_type": "code",
   "execution_count": 34,
   "metadata": {},
   "outputs": [
    {
     "data": {
      "text/plain": [
       "19"
      ]
     },
     "execution_count": 34,
     "metadata": {},
     "output_type": "execute_result"
    }
   ],
   "source": [
    "df['behavioral_face_mask'].isna().sum()"
   ]
  },
  {
   "cell_type": "code",
   "execution_count": 35,
   "metadata": {},
   "outputs": [
    {
     "data": {
      "text/plain": [
       "h1n1_vaccine                       0\n",
       "seasonal_vaccine                   0\n",
       "h1n1_concern                      92\n",
       "h1n1_knowledge                   116\n",
       "behavioral_antiviral_meds         71\n",
       "behavioral_avoidance             208\n",
       "behavioral_face_mask              19\n",
       "behavioral_wash_hands             42\n",
       "behavioral_large_gatherings       87\n",
       "behavioral_outside_home           82\n",
       "behavioral_touch_face            128\n",
       "doctor_recc_h1n1                2160\n",
       "doctor_recc_seasonal            2160\n",
       "chronic_med_condition            971\n",
       "child_under_6_months             820\n",
       "health_worker                    804\n",
       "health_insurance               12274\n",
       "opinion_h1n1_vacc_effective      391\n",
       "opinion_h1n1_risk                388\n",
       "opinion_h1n1_sick_from_vacc      395\n",
       "opinion_seas_vacc_effective      462\n",
       "opinion_seas_risk                514\n",
       "opinion_seas_sick_from_vacc      537\n",
       "age_group                          0\n",
       "education                       1407\n",
       "race                               0\n",
       "sex                                0\n",
       "income_poverty                  4423\n",
       "marital_status                  1408\n",
       "rent_or_own                     2042\n",
       "employment_status               1463\n",
       "hhs_geo_region                     0\n",
       "census_msa                         0\n",
       "household_adults                 249\n",
       "household_children               249\n",
       "dtype: int64"
      ]
     },
     "execution_count": 35,
     "metadata": {},
     "output_type": "execute_result"
    }
   ],
   "source": [
    "# the number of null values in each column\n",
    "df.isna().sum()"
   ]
  },
  {
   "cell_type": "code",
   "execution_count": 36,
   "metadata": {},
   "outputs": [],
   "source": [
    "ohe = OneHotEncoder(categories=\"auto\", sparse=False, handle_unknown=\"ignore\")"
   ]
  },
  {
   "cell_type": "code",
   "execution_count": 37,
   "metadata": {},
   "outputs": [
    {
     "data": {
      "text/plain": [
       "Index(['h1n1_vaccine', 'seasonal_vaccine', 'h1n1_concern', 'h1n1_knowledge',\n",
       "       'behavioral_antiviral_meds', 'behavioral_avoidance',\n",
       "       'behavioral_face_mask', 'behavioral_wash_hands',\n",
       "       'behavioral_large_gatherings', 'behavioral_outside_home',\n",
       "       'behavioral_touch_face', 'doctor_recc_h1n1', 'doctor_recc_seasonal',\n",
       "       'chronic_med_condition', 'child_under_6_months', 'health_worker',\n",
       "       'health_insurance', 'opinion_h1n1_vacc_effective', 'opinion_h1n1_risk',\n",
       "       'opinion_h1n1_sick_from_vacc', 'opinion_seas_vacc_effective',\n",
       "       'opinion_seas_risk', 'opinion_seas_sick_from_vacc', 'age_group',\n",
       "       'education', 'race', 'sex', 'income_poverty', 'marital_status',\n",
       "       'rent_or_own', 'employment_status', 'hhs_geo_region', 'census_msa',\n",
       "       'household_adults', 'household_children'],\n",
       "      dtype='object')"
      ]
     },
     "execution_count": 37,
     "metadata": {},
     "output_type": "execute_result"
    }
   ],
   "source": [
    "df.columns"
   ]
  },
  {
   "cell_type": "code",
   "execution_count": 38,
   "metadata": {},
   "outputs": [
    {
     "data": {
      "text/plain": [
       "0.0    18672\n",
       "1.0     3175\n",
       "2.0     2864\n",
       "3.0     1747\n",
       "Name: household_children, dtype: int64"
      ]
     },
     "execution_count": 38,
     "metadata": {},
     "output_type": "execute_result"
    }
   ],
   "source": [
    "df['household_children'].value_counts()"
   ]
  },
  {
   "cell_type": "code",
   "execution_count": 39,
   "metadata": {},
   "outputs": [],
   "source": [
    "# 'health_insurance' column is missing 46 % of the values so we want to drop this column\n",
    "df.drop('health_insurance', axis = 1, inplace = True)"
   ]
  },
  {
   "cell_type": "code",
   "execution_count": 40,
   "metadata": {},
   "outputs": [],
   "source": [
    "# 'income_poverty' column is missing 16.5 % of the values so we will drop this column\n",
    "df.drop('income_poverty', axis = 1, inplace = True)"
   ]
  },
  {
   "cell_type": "code",
   "execution_count": 41,
   "metadata": {},
   "outputs": [
    {
     "data": {
      "text/plain": [
       "(26707, 33)"
      ]
     },
     "execution_count": 41,
     "metadata": {},
     "output_type": "execute_result"
    }
   ],
   "source": [
    "df.shape"
   ]
  },
  {
   "cell_type": "code",
   "execution_count": 42,
   "metadata": {},
   "outputs": [],
   "source": [
    "df_target = df[['h1n1_vaccine','seasonal_vaccine']]"
   ]
  },
  {
   "cell_type": "code",
   "execution_count": 43,
   "metadata": {},
   "outputs": [
    {
     "data": {
      "text/html": [
       "<div>\n",
       "<style scoped>\n",
       "    .dataframe tbody tr th:only-of-type {\n",
       "        vertical-align: middle;\n",
       "    }\n",
       "\n",
       "    .dataframe tbody tr th {\n",
       "        vertical-align: top;\n",
       "    }\n",
       "\n",
       "    .dataframe thead th {\n",
       "        text-align: right;\n",
       "    }\n",
       "</style>\n",
       "<table border=\"1\" class=\"dataframe\">\n",
       "  <thead>\n",
       "    <tr style=\"text-align: right;\">\n",
       "      <th></th>\n",
       "      <th>h1n1_vaccine</th>\n",
       "      <th>seasonal_vaccine</th>\n",
       "    </tr>\n",
       "  </thead>\n",
       "  <tbody>\n",
       "    <tr>\n",
       "      <th>0</th>\n",
       "      <td>0</td>\n",
       "      <td>0</td>\n",
       "    </tr>\n",
       "    <tr>\n",
       "      <th>1</th>\n",
       "      <td>0</td>\n",
       "      <td>1</td>\n",
       "    </tr>\n",
       "    <tr>\n",
       "      <th>2</th>\n",
       "      <td>0</td>\n",
       "      <td>0</td>\n",
       "    </tr>\n",
       "    <tr>\n",
       "      <th>3</th>\n",
       "      <td>0</td>\n",
       "      <td>1</td>\n",
       "    </tr>\n",
       "    <tr>\n",
       "      <th>4</th>\n",
       "      <td>0</td>\n",
       "      <td>0</td>\n",
       "    </tr>\n",
       "    <tr>\n",
       "      <th>...</th>\n",
       "      <td>...</td>\n",
       "      <td>...</td>\n",
       "    </tr>\n",
       "    <tr>\n",
       "      <th>26702</th>\n",
       "      <td>0</td>\n",
       "      <td>0</td>\n",
       "    </tr>\n",
       "    <tr>\n",
       "      <th>26703</th>\n",
       "      <td>0</td>\n",
       "      <td>0</td>\n",
       "    </tr>\n",
       "    <tr>\n",
       "      <th>26704</th>\n",
       "      <td>0</td>\n",
       "      <td>1</td>\n",
       "    </tr>\n",
       "    <tr>\n",
       "      <th>26705</th>\n",
       "      <td>0</td>\n",
       "      <td>0</td>\n",
       "    </tr>\n",
       "    <tr>\n",
       "      <th>26706</th>\n",
       "      <td>0</td>\n",
       "      <td>0</td>\n",
       "    </tr>\n",
       "  </tbody>\n",
       "</table>\n",
       "<p>26707 rows × 2 columns</p>\n",
       "</div>"
      ],
      "text/plain": [
       "       h1n1_vaccine  seasonal_vaccine\n",
       "0                 0                 0\n",
       "1                 0                 1\n",
       "2                 0                 0\n",
       "3                 0                 1\n",
       "4                 0                 0\n",
       "...             ...               ...\n",
       "26702             0                 0\n",
       "26703             0                 0\n",
       "26704             0                 1\n",
       "26705             0                 0\n",
       "26706             0                 0\n",
       "\n",
       "[26707 rows x 2 columns]"
      ]
     },
     "execution_count": 43,
     "metadata": {},
     "output_type": "execute_result"
    }
   ],
   "source": [
    "df_target"
   ]
  },
  {
   "cell_type": "code",
   "execution_count": 44,
   "metadata": {},
   "outputs": [
    {
     "data": {
      "text/plain": [
       "Index(['h1n1_vaccine', 'seasonal_vaccine', 'h1n1_concern', 'h1n1_knowledge',\n",
       "       'behavioral_antiviral_meds', 'behavioral_avoidance',\n",
       "       'behavioral_face_mask', 'behavioral_wash_hands',\n",
       "       'behavioral_large_gatherings', 'behavioral_outside_home',\n",
       "       'behavioral_touch_face', 'doctor_recc_h1n1', 'doctor_recc_seasonal',\n",
       "       'chronic_med_condition', 'child_under_6_months', 'health_worker',\n",
       "       'opinion_h1n1_vacc_effective', 'opinion_h1n1_risk',\n",
       "       'opinion_h1n1_sick_from_vacc', 'opinion_seas_vacc_effective',\n",
       "       'opinion_seas_risk', 'opinion_seas_sick_from_vacc', 'age_group',\n",
       "       'education', 'race', 'sex', 'marital_status', 'rent_or_own',\n",
       "       'employment_status', 'hhs_geo_region', 'census_msa', 'household_adults',\n",
       "       'household_children'],\n",
       "      dtype='object')"
      ]
     },
     "execution_count": 44,
     "metadata": {},
     "output_type": "execute_result"
    }
   ],
   "source": [
    "df.columns"
   ]
  },
  {
   "cell_type": "code",
   "execution_count": 45,
   "metadata": {},
   "outputs": [],
   "source": [
    "imputer = SimpleImputer(missing_values = np.nan,\n",
    "                        strategy = \"most_frequent\")"
   ]
  },
  {
   "cell_type": "code",
   "execution_count": 46,
   "metadata": {},
   "outputs": [],
   "source": [
    "imputer = imputer.fit(df)"
   ]
  },
  {
   "cell_type": "code",
   "execution_count": 47,
   "metadata": {},
   "outputs": [],
   "source": [
    "df_simple_imputer = imputer.transform(df)"
   ]
  },
  {
   "cell_type": "code",
   "execution_count": 48,
   "metadata": {},
   "outputs": [],
   "source": [
    "df = pd.DataFrame(df_simple_imputer, columns = ['h1n1_vaccine', 'seasonal_vaccine', 'h1n1_concern', 'h1n1_knowledge',\n",
    "       'behavioral_antiviral_meds', 'behavioral_avoidance',\n",
    "       'behavioral_face_mask', 'behavioral_wash_hands',\n",
    "       'behavioral_large_gatherings', 'behavioral_outside_home',\n",
    "       'behavioral_touch_face', 'doctor_recc_h1n1', 'doctor_recc_seasonal',\n",
    "       'chronic_med_condition', 'child_under_6_months', 'health_worker',\n",
    "       'opinion_h1n1_vacc_effective', 'opinion_h1n1_risk',\n",
    "       'opinion_h1n1_sick_from_vacc', 'opinion_seas_vacc_effective',\n",
    "       'opinion_seas_risk', 'opinion_seas_sick_from_vacc', 'age_group',\n",
    "       'education', 'race', 'sex', 'marital_status', 'rent_or_own',\n",
    "       'employment_status', 'hhs_geo_region', 'census_msa', 'household_adults',\n",
    "       'household_children'])"
   ]
  },
  {
   "cell_type": "code",
   "execution_count": 49,
   "metadata": {},
   "outputs": [
    {
     "data": {
      "text/plain": [
       "h1n1_vaccine                   0\n",
       "seasonal_vaccine               0\n",
       "h1n1_concern                   0\n",
       "h1n1_knowledge                 0\n",
       "behavioral_antiviral_meds      0\n",
       "behavioral_avoidance           0\n",
       "behavioral_face_mask           0\n",
       "behavioral_wash_hands          0\n",
       "behavioral_large_gatherings    0\n",
       "behavioral_outside_home        0\n",
       "behavioral_touch_face          0\n",
       "doctor_recc_h1n1               0\n",
       "doctor_recc_seasonal           0\n",
       "chronic_med_condition          0\n",
       "child_under_6_months           0\n",
       "health_worker                  0\n",
       "opinion_h1n1_vacc_effective    0\n",
       "opinion_h1n1_risk              0\n",
       "opinion_h1n1_sick_from_vacc    0\n",
       "opinion_seas_vacc_effective    0\n",
       "opinion_seas_risk              0\n",
       "opinion_seas_sick_from_vacc    0\n",
       "age_group                      0\n",
       "education                      0\n",
       "race                           0\n",
       "sex                            0\n",
       "marital_status                 0\n",
       "rent_or_own                    0\n",
       "employment_status              0\n",
       "hhs_geo_region                 0\n",
       "census_msa                     0\n",
       "household_adults               0\n",
       "household_children             0\n",
       "dtype: int64"
      ]
     },
     "execution_count": 49,
     "metadata": {},
     "output_type": "execute_result"
    }
   ],
   "source": [
    "df.isna().sum()"
   ]
  },
  {
   "cell_type": "code",
   "execution_count": 50,
   "metadata": {},
   "outputs": [],
   "source": [
    "categorical_nonbinary = ['h1n1_concern','h1n1_knowledge','opinion_h1n1_vacc_effective','opinion_h1n1_risk','opinion_seas_risk','opinion_seas_sick_from_vacc','age_group','education',\n",
    "'race','marital_status','employment_status','hhs_geo_region','census_msa','household_adults','household_children','opinion_h1n1_sick_from_vacc','opinion_seas_vacc_effective']\n"
   ]
  },
  {
   "cell_type": "code",
   "execution_count": 51,
   "metadata": {},
   "outputs": [
    {
     "data": {
      "text/plain": [
       "0"
      ]
     },
     "execution_count": 51,
     "metadata": {},
     "output_type": "execute_result"
    }
   ],
   "source": [
    "df['h1n1_concern'].isna().sum()"
   ]
  },
  {
   "cell_type": "code",
   "execution_count": 52,
   "metadata": {
    "scrolled": true
   },
   "outputs": [
    {
     "data": {
      "text/plain": [
       "2.0    10667\n",
       "1.0     8153\n",
       "3.0     4591\n",
       "0.0     3296\n",
       "Name: h1n1_concern, dtype: int64"
      ]
     },
     "execution_count": 52,
     "metadata": {},
     "output_type": "execute_result"
    }
   ],
   "source": [
    "df['h1n1_concern'].value_counts()"
   ]
  },
  {
   "cell_type": "code",
   "execution_count": 53,
   "metadata": {},
   "outputs": [],
   "source": [
    "# Use OneHotEncoding for the categorical nonbinary features\n",
    "def feature_ohe(df,my_list):\n",
    "    ohe = OneHotEncoder(categories='auto', sparse = False)\n",
    "    for feature in my_list:\n",
    "        column = df[[feature]]\n",
    "        column_encoded =ohe.fit_transform(column)\n",
    "        column_pd = pd.DataFrame(column_encoded, columns = ohe.get_feature_names([feature]), index = df.index)\n",
    "        df = pd.concat([df,column_pd], axis = 1)\n",
    "    return df"
   ]
  },
  {
   "cell_type": "code",
   "execution_count": 54,
   "metadata": {},
   "outputs": [],
   "source": [
    "df = feature_ohe(df,categorical_nonbinary)"
   ]
  },
  {
   "cell_type": "code",
   "execution_count": 55,
   "metadata": {},
   "outputs": [],
   "source": [
    "# column= df[['h1n1_concern']]\n",
    "# ohe = OneHotEncoder(categories='auto', sparse = False)\n",
    "# column_encoded =ohe.fit_transform(column)\n",
    "# column_pd = pd.DataFrame(column_encoded, columns = ohe.get_feature_names(['h1n1_concern']), index = df.index)\n",
    "# column_pd"
   ]
  },
  {
   "cell_type": "code",
   "execution_count": 56,
   "metadata": {},
   "outputs": [
    {
     "data": {
      "text/plain": [
       "Index(['h1n1_vaccine', 'seasonal_vaccine', 'h1n1_concern', 'h1n1_knowledge',\n",
       "       'behavioral_antiviral_meds', 'behavioral_avoidance',\n",
       "       'behavioral_face_mask', 'behavioral_wash_hands',\n",
       "       'behavioral_large_gatherings', 'behavioral_outside_home',\n",
       "       ...\n",
       "       'opinion_h1n1_sick_from_vacc_1.0', 'opinion_h1n1_sick_from_vacc_2.0',\n",
       "       'opinion_h1n1_sick_from_vacc_3.0', 'opinion_h1n1_sick_from_vacc_4.0',\n",
       "       'opinion_h1n1_sick_from_vacc_5.0', 'opinion_seas_vacc_effective_1.0',\n",
       "       'opinion_seas_vacc_effective_2.0', 'opinion_seas_vacc_effective_3.0',\n",
       "       'opinion_seas_vacc_effective_4.0', 'opinion_seas_vacc_effective_5.0'],\n",
       "      dtype='object', length=109)"
      ]
     },
     "execution_count": 56,
     "metadata": {},
     "output_type": "execute_result"
    }
   ],
   "source": [
    "df.columns"
   ]
  },
  {
   "cell_type": "code",
   "execution_count": 57,
   "metadata": {},
   "outputs": [
    {
     "data": {
      "text/plain": [
       "h1n1_vaccine                       0\n",
       "seasonal_vaccine                   0\n",
       "h1n1_concern                       0\n",
       "h1n1_knowledge                     0\n",
       "behavioral_antiviral_meds          0\n",
       "                                  ..\n",
       "opinion_seas_vacc_effective_1.0    0\n",
       "opinion_seas_vacc_effective_2.0    0\n",
       "opinion_seas_vacc_effective_3.0    0\n",
       "opinion_seas_vacc_effective_4.0    0\n",
       "opinion_seas_vacc_effective_5.0    0\n",
       "Length: 109, dtype: int64"
      ]
     },
     "execution_count": 57,
     "metadata": {},
     "output_type": "execute_result"
    }
   ],
   "source": [
    "df.isna().sum()"
   ]
  },
  {
   "cell_type": "code",
   "execution_count": 58,
   "metadata": {},
   "outputs": [
    {
     "data": {
      "text/plain": [
       "0.37714265306144623"
      ]
     },
     "execution_count": 58,
     "metadata": {},
     "output_type": "execute_result"
    }
   ],
   "source": [
    "# Phi Coefficient is the same as Pearson for two binary variables\n",
    "(df[\"h1n1_vaccine\"]\n",
    "     .corr(df[\"seasonal_vaccine\"], method=\"pearson\")\n",
    ")"
   ]
  },
  {
   "cell_type": "code",
   "execution_count": 59,
   "metadata": {},
   "outputs": [],
   "source": [
    "# list of binary features\n",
    "binary_list = ['behavioral_antiviral_meds','behavioral_avoidance','behavioral_face_mask','behavioral_wash_hands' , 'behavioral_large_gatherings','behavioral_outside_home','behavioral_touch_face' , 'doctor_recc_h1n1', 'doctor_recc_seasonal', 'chronic_med_condition', 'child_under_6_months', 'health_worker']"
   ]
  },
  {
   "cell_type": "code",
   "execution_count": 60,
   "metadata": {},
   "outputs": [],
   "source": [
    "def phi_coef(data,target_feature, list_features):\n",
    "    phi_list = []\n",
    "    for feature in list_features:\n",
    "        \n",
    "        phi = data[feature].corr(data[target_feature], method=\"pearson\")\n",
    "        my_tuple = (feature, phi)\n",
    "        phi_list.append(my_tuple)\n",
    "        #print(\"Phi coeff for 'seasonal_vaccine' with \" + feature + \" is \" + str (phi))\n",
    "    return phi_list"
   ]
  },
  {
   "cell_type": "code",
   "execution_count": 61,
   "metadata": {},
   "outputs": [],
   "source": [
    "phi_list_tuples = phi_coef(df,'seasonal_vaccine',binary_list)"
   ]
  },
  {
   "cell_type": "code",
   "execution_count": 62,
   "metadata": {},
   "outputs": [
    {
     "name": "stdout",
     "output_type": "stream",
     "text": [
      "[('doctor_recc_seasonal', 0.36069588759186294), ('doctor_recc_h1n1', 0.19855975292665284), ('chronic_med_condition', 0.16946507432357777), ('health_worker', 0.12697739691613988), ('behavioral_touch_face', 0.11992549653332657), ('behavioral_wash_hands', 0.11225436409011831), ('behavioral_avoidance', 0.07613022488118472), ('behavioral_large_gatherings', 0.06372195069134598), ('behavioral_outside_home', 0.05328672961895829), ('behavioral_face_mask', 0.0500197399092833), ('child_under_6_months', 0.013423576276536729), ('behavioral_antiviral_meds', 0.006012873204008944)]\n"
     ]
    }
   ],
   "source": [
    "phi_list_tuples.sort(key=lambda y: y[1], reverse = True)\n",
    "\n",
    "print(phi_list_tuples)"
   ]
  },
  {
   "cell_type": "code",
   "execution_count": 63,
   "metadata": {},
   "outputs": [
    {
     "data": {
      "image/png": "[encoded data removed]",
      "text/plain": [
       "<Figure size 432x288 with 1 Axes>"
      ]
     },
     "metadata": {
      "needs_background": "light"
     },
     "output_type": "display_data"
    }
   ],
   "source": [
    ">>> import matplotlib.pyplot as plt\n",
    ">>> testList =[(0, 6.0705199999997801e-08), (1, 2.1015700100300739e-08), \n",
    " (2, 7.6280656623374823e-09), (3, 5.7348209304555086e-09), \n",
    " (4, 3.6812203579604238e-09), (5, 4.1572516753310418e-09)]\n",
    ">>> from math import log\n",
    ">>> testList2 = [(elem1, log(elem2)) for elem1, elem2 in testList]\n",
    ">>> testList2\n",
    "[(0, -16.617236475334405), (1, -17.67799605473062), (2, -18.691431541177973), (3, -18.9767093108359), (4, -19.420021520728017), (5, -19.298411635970396)]\n",
    ">>> zip(*testList2)\n",
    "[(0, 1, 2, 3, 4, 5), (-16.617236475334405, -17.67799605473062, -18.691431541177973, -18.9767093108359, -19.420021520728017, -19.298411635970396)]\n",
    ">>> plt.scatter(*zip(*testList2))\n",
    ">>> plt.show()"
   ]
  },
  {
   "cell_type": "code",
   "execution_count": 64,
   "metadata": {},
   "outputs": [
    {
     "data": {
      "text/plain": [
       "([0, 1, 2, 3, 4, 5, 6, 7, 8, 9, 10, 11],\n",
       " [Text(0, 0, ''),\n",
       "  Text(0, 0, ''),\n",
       "  Text(0, 0, ''),\n",
       "  Text(0, 0, ''),\n",
       "  Text(0, 0, ''),\n",
       "  Text(0, 0, ''),\n",
       "  Text(0, 0, ''),\n",
       "  Text(0, 0, ''),\n",
       "  Text(0, 0, ''),\n",
       "  Text(0, 0, ''),\n",
       "  Text(0, 0, ''),\n",
       "  Text(0, 0, '')])"
      ]
     },
     "execution_count": 64,
     "metadata": {},
     "output_type": "execute_result"
    },
    {
     "data": {
      "image/png": "[encoded data removed]",
      "text/plain": [
       "<Figure size 960x800 with 1 Axes>"
      ]
     },
     "metadata": {
      "needs_background": "light"
     },
     "output_type": "display_data"
    }
   ],
   "source": [
    "from matplotlib.pyplot import figure\n",
    "\n",
    "figure(figsize=(12, 10), dpi=80)\n",
    "\n",
    "\n",
    "plt.bar(*zip(*phi_list_tuples), color = 'darkorange')\n",
    "plt.xlabel('predictive variable')\n",
    "plt.ylabel('phi coefficient')\n",
    "plt.title(\"phi coefficient of seasonal vaccine with binary input features\")\n",
    "plt.xticks( rotation='75')"
   ]
  },
  {
   "cell_type": "code",
   "execution_count": null,
   "metadata": {},
   "outputs": [],
   "source": []
  },
  {
   "cell_type": "code",
   "execution_count": null,
   "metadata": {},
   "outputs": [],
   "source": []
  },
  {
   "cell_type": "code",
   "execution_count": 65,
   "metadata": {},
   "outputs": [
    {
     "data": {
      "text/plain": [
       "Index(['h1n1_vaccine', 'seasonal_vaccine'], dtype='object')"
      ]
     },
     "execution_count": 65,
     "metadata": {},
     "output_type": "execute_result"
    }
   ],
   "source": [
    "df_target.columns"
   ]
  },
  {
   "cell_type": "code",
   "execution_count": 66,
   "metadata": {},
   "outputs": [],
   "source": [
    "X = df.drop('seasonal_vaccine', axis = 1)\n",
    "y = df.seasonal_vaccine\n",
    "X_train, X_test, y_train, y_test = train_test_split(X, y, random_state=42, test_size = 0.33)"
   ]
  },
  {
   "cell_type": "markdown",
   "metadata": {},
   "source": [
    "# baseline model"
   ]
  },
  {
   "cell_type": "code",
   "execution_count": 67,
   "metadata": {},
   "outputs": [
    {
     "data": {
      "text/plain": [
       "0    0.787546\n",
       "1    0.212454\n",
       "Name: h1n1_vaccine, dtype: float64"
      ]
     },
     "execution_count": 67,
     "metadata": {},
     "output_type": "execute_result"
    }
   ],
   "source": [
    "# baseline model for h1n1_vaccine\n",
    "# predict all to 0\n",
    "# the accuracy of the baseline model would be 0.78\n",
    "df_target['h1n1_vaccine'].value_counts(normalize = True)\n"
   ]
  },
  {
   "cell_type": "code",
   "execution_count": 68,
   "metadata": {},
   "outputs": [
    {
     "data": {
      "text/plain": [
       "0    0.534392\n",
       "1    0.465608\n",
       "Name: seasonal_vaccine, dtype: float64"
      ]
     },
     "execution_count": 68,
     "metadata": {},
     "output_type": "execute_result"
    }
   ],
   "source": [
    "# baseline model for seasonal_vaccine \n",
    "# predict all to 0\n",
    "# the accuracy of the baseline model would be 0.53\n",
    "df_target['seasonal_vaccine'].value_counts(normalize = True)\n"
   ]
  },
  {
   "cell_type": "markdown",
   "metadata": {},
   "source": [
    "# logistic regression"
   ]
  },
  {
   "cell_type": "code",
   "execution_count": 69,
   "metadata": {},
   "outputs": [
    {
     "name": "stderr",
     "output_type": "stream",
     "text": [
      "/Users/aishabaitemirova/opt/anaconda3/envs/learn-env/lib/python3.8/site-packages/sklearn/linear_model/_logistic.py:762: ConvergenceWarning: lbfgs failed to converge (status=1):\n",
      "STOP: TOTAL NO. of ITERATIONS REACHED LIMIT.\n",
      "\n",
      "Increase the number of iterations (max_iter) or scale the data as shown in:\n",
      "    https://scikit-learn.org/stable/modules/preprocessing.html\n",
      "Please also refer to the documentation for alternative solver options:\n",
      "    https://scikit-learn.org/stable/modules/linear_model.html#logistic-regression\n",
      "  n_iter_i = _check_optimize_result(\n"
     ]
    },
    {
     "data": {
      "text/plain": [
       "LogisticRegression(random_state=42)"
      ]
     },
     "execution_count": 69,
     "metadata": {},
     "output_type": "execute_result"
    }
   ],
   "source": [
    "logreg = LogisticRegression(random_state = 42)\n",
    "logreg.fit(X_train,y_train)"
   ]
  },
  {
   "cell_type": "code",
   "execution_count": 70,
   "metadata": {},
   "outputs": [
    {
     "data": {
      "text/plain": [
       "<sklearn.metrics._plot.confusion_matrix.ConfusionMatrixDisplay at 0x7f8e3846f280>"
      ]
     },
     "execution_count": 70,
     "metadata": {},
     "output_type": "execute_result"
    },
    {
     "data": {
      "image/png": "[encoded data removed]",
      "text/plain": [
       "<Figure size 432x288 with 2 Axes>"
      ]
     },
     "metadata": {
      "needs_background": "light"
     },
     "output_type": "display_data"
    }
   ],
   "source": [
    "plot_confusion_matrix(logreg,X_train,y_train, cmap = \"Oranges\")"
   ]
  },
  {
   "cell_type": "code",
   "execution_count": null,
   "metadata": {},
   "outputs": [],
   "source": []
  },
  {
   "cell_type": "code",
   "execution_count": 71,
   "metadata": {},
   "outputs": [
    {
     "data": {
      "text/plain": [
       "0.8092806898116632"
      ]
     },
     "execution_count": 71,
     "metadata": {},
     "output_type": "execute_result"
    }
   ],
   "source": [
    "# Accuracy\n",
    "method_acc = accuracy_score(y_test, logreg.predict(X_test))\n",
    "method_acc"
   ]
  },
  {
   "cell_type": "code",
   "execution_count": 72,
   "metadata": {},
   "outputs": [
    {
     "data": {
      "text/plain": [
       "0.8093741817229642"
      ]
     },
     "execution_count": 72,
     "metadata": {},
     "output_type": "execute_result"
    }
   ],
   "source": [
    "# Precision\n",
    "method_prec = precision_score(y_test, logreg.predict(X_test))\n",
    "method_prec"
   ]
  },
  {
   "cell_type": "code",
   "execution_count": 73,
   "metadata": {},
   "outputs": [
    {
     "data": {
      "text/plain": [
       "0.7643422354104846"
      ]
     },
     "execution_count": 73,
     "metadata": {},
     "output_type": "execute_result"
    }
   ],
   "source": [
    "# Recall\n",
    "method_recall = recall_score(y_test, logreg.predict(X_test))\n",
    "method_recall"
   ]
  },
  {
   "cell_type": "code",
   "execution_count": 74,
   "metadata": {},
   "outputs": [
    {
     "data": {
      "text/plain": [
       "0.7862139132646573"
      ]
     },
     "execution_count": 74,
     "metadata": {},
     "output_type": "execute_result"
    }
   ],
   "source": [
    "# F1-Score\n",
    "f1_score = (2*method_prec*method_recall)/(method_prec + method_recall)\n",
    "f1_score"
   ]
  },
  {
   "cell_type": "code",
   "execution_count": 126,
   "metadata": {},
   "outputs": [
    {
     "data": {
      "text/plain": [
       "<sklearn.metrics._plot.roc_curve.RocCurveDisplay at 0x7f8e28154760>"
      ]
     },
     "execution_count": 126,
     "metadata": {},
     "output_type": "execute_result"
    },
    {
     "data": {
      "image/png": "[encoded data removed]",
      "text/plain": [
       "<Figure size 432x288 with 1 Axes>"
      ]
     },
     "metadata": {
      "needs_background": "light"
     },
     "output_type": "display_data"
    }
   ],
   "source": [
    "fig, ax = plt.subplots()\n",
    "plot_roc_curve(logreg,X_test,y_test, ax = ax, color = 'darkorange')"
   ]
  },
  {
   "cell_type": "code",
   "execution_count": 76,
   "metadata": {},
   "outputs": [],
   "source": [
    "y_score = logreg.predict_proba(X_test)[:,1]"
   ]
  },
  {
   "cell_type": "code",
   "execution_count": 77,
   "metadata": {},
   "outputs": [
    {
     "data": {
      "text/plain": [
       "0.8794760516913531"
      ]
     },
     "execution_count": 77,
     "metadata": {},
     "output_type": "execute_result"
    }
   ],
   "source": [
    "roc_auc_score(y_test, y_score)"
   ]
  },
  {
   "cell_type": "markdown",
   "metadata": {},
   "source": [
    "# Decision Tree"
   ]
  },
  {
   "cell_type": "code",
   "execution_count": 78,
   "metadata": {},
   "outputs": [],
   "source": [
    "# decision tree classifier not optimized yet. \n",
    "clf = DecisionTreeClassifier()\n"
   ]
  },
  {
   "cell_type": "code",
   "execution_count": 79,
   "metadata": {},
   "outputs": [],
   "source": [
    "first_decision_tree = clf.fit(X_train, y_train)"
   ]
  },
  {
   "cell_type": "code",
   "execution_count": 80,
   "metadata": {},
   "outputs": [
    {
     "data": {
      "text/plain": [
       "[Text(244.04664389848517, 213.69103448275862, 'X[0] <= 0.5\\ngini = 0.498\\nsamples = 17893\\nvalue = [9502, 8391]'),\n",
       " Text(174.95899749363997, 206.19310344827585, 'X[18] <= 4.5\\ngini = 0.467\\nsamples = 14087\\nvalue = [8864, 5223]'),\n",
       " Text(121.89052073924542, 198.6951724137931, 'X[11] <= 0.5\\ngini = 0.37\\nsamples = 9441\\nvalue = [7124, 2317]'),\n",
       " Text(86.72428052357758, 191.19724137931036, 'X[19] <= 2.5\\ngini = 0.3\\nsamples = 7592\\nvalue = [6199, 1393]'),\n",
       " Text(57.127662685652986, 183.69931034482758, 'X[21] <= 4.5\\ngini = 0.236\\nsamples = 5783\\nvalue = [4994, 789]'),\n",
       " Text(28.372787917232042, 176.20137931034483, 'X[19] <= 1.5\\ngini = 0.185\\nsamples = 4761\\nvalue = [4269, 492]'),\n",
       " Text(14.300667222061481, 168.70344827586206, 'X[21] <= 3.5\\ngini = 0.103\\nsamples = 1964\\nvalue = [1857, 107]'),\n",
       " Text(9.117904498697982, 161.2055172413793, 'X[34] <= 0.5\\ngini = 0.085\\nsamples = 1465\\nvalue = [1400, 65]'),\n",
       " Text(6.6147292699717655, 153.70758620689656, 'X[55] <= 0.5\\ngini = 0.066\\nsamples = 1081\\nvalue = [1044, 37]'),\n",
       " Text(5.045599576968742, 146.2096551724138, 'X[85] <= 0.5\\ngini = 0.052\\nsamples = 901\\nvalue = [877, 24]'),\n",
       " Text(4.238904907761227, 138.71172413793101, 'X[102] <= 0.5\\ngini = 0.043\\nsamples = 821\\nvalue = [803, 18]'),\n",
       " Text(3.453922517435074, 131.21379310344827, 'X[61] <= 0.5\\ngini = 0.036\\nsamples = 764\\nvalue = [750, 14]'),\n",
       " Text(2.6321962705404625, 123.71586206896552, 'X[82] <= 0.5\\ngini = 0.049\\nsamples = 479\\nvalue = [467, 12]'),\n",
       " Text(1.4163086531842082, 116.21793103448276, 'X[23] <= 1.5\\ngini = 0.041\\nsamples = 434\\nvalue = [425, 9]'),\n",
       " Text(0.6947929242035739, 108.72, 'X[46] <= 0.5\\ngini = 0.127\\nsamples = 44\\nvalue = [41, 3]'),\n",
       " Text(0.42756487643296853, 101.22206896551724, 'X[14] <= 0.5\\ngini = 0.091\\nsamples = 42\\nvalue = [40, 2]'),\n",
       " Text(0.21378243821648427, 93.72413793103449, 'X[79] <= 0.5\\ngini = 0.053\\nsamples = 37\\nvalue = [36, 1]'),\n",
       " Text(0.10689121910824213, 86.22620689655173, 'gini = 0.0\\nsamples = 30\\nvalue = [30, 0]'),\n",
       " Text(0.3206736573247264, 86.22620689655173, 'X[25] <= 0.5\\ngini = 0.245\\nsamples = 7\\nvalue = [6, 1]'),\n",
       " Text(0.21378243821648427, 78.72827586206895, 'gini = 0.0\\nsamples = 1\\nvalue = [0, 1]'),\n",
       " Text(0.42756487643296853, 78.72827586206895, 'gini = 0.0\\nsamples = 6\\nvalue = [6, 0]'),\n",
       " Text(0.6413473146494528, 93.72413793103449, 'X[33] <= 0.5\\ngini = 0.32\\nsamples = 5\\nvalue = [4, 1]'),\n",
       " Text(0.5344560955412107, 86.22620689655173, 'gini = 0.0\\nsamples = 4\\nvalue = [4, 0]'),\n",
       " Text(0.7482385337576949, 86.22620689655173, 'gini = 0.0\\nsamples = 1\\nvalue = [0, 1]'),\n",
       " Text(0.9620209719741792, 101.22206896551724, 'X[60] <= 0.5\\ngini = 0.5\\nsamples = 2\\nvalue = [1, 1]'),\n",
       " Text(0.8551297528659371, 93.72413793103449, 'gini = 0.0\\nsamples = 1\\nvalue = [0, 1]'),\n",
       " Text(1.0689121910824213, 93.72413793103449, 'gini = 0.0\\nsamples = 1\\nvalue = [1, 0]'),\n",
       " Text(2.1378243821648426, 108.72, 'X[54] <= 0.5\\ngini = 0.03\\nsamples = 390\\nvalue = [384, 6]'),\n",
       " Text(1.549922677069511, 101.22206896551724, 'X[23] <= 3.5\\ngini = 0.091\\nsamples = 63\\nvalue = [60, 3]'),\n",
       " Text(1.2826946292989057, 93.72413793103449, 'X[22] <= 1.5\\ngini = 0.063\\nsamples = 61\\nvalue = [59, 2]'),\n",
       " Text(1.0689121910824213, 86.22620689655173, 'X[18] <= 1.5\\ngini = 0.444\\nsamples = 3\\nvalue = [2, 1]'),\n",
       " Text(0.9620209719741792, 78.72827586206895, 'gini = 0.0\\nsamples = 1\\nvalue = [0, 1]'),\n",
       " Text(1.1758034101906634, 78.72827586206895, 'gini = 0.0\\nsamples = 2\\nvalue = [2, 0]'),\n",
       " Text(1.4964770675153898, 86.22620689655173, 'X[28] <= 1.5\\ngini = 0.034\\nsamples = 58\\nvalue = [57, 1]'),\n",
       " Text(1.3895858484071477, 78.72827586206895, 'X[24] <= 0.5\\ngini = 0.219\\nsamples = 8\\nvalue = [7, 1]'),\n",
       " Text(1.2826946292989057, 71.23034482758621, 'gini = 0.0\\nsamples = 1\\nvalue = [0, 1]'),\n",
       " Text(1.4964770675153898, 71.23034482758621, 'gini = 0.0\\nsamples = 7\\nvalue = [7, 0]'),\n",
       " Text(1.603368286623632, 78.72827586206895, 'gini = 0.0\\nsamples = 50\\nvalue = [50, 0]'),\n",
       " Text(1.8171507248401162, 93.72413793103449, 'X[94] <= 0.5\\ngini = 0.5\\nsamples = 2\\nvalue = [1, 1]'),\n",
       " Text(1.7102595057318741, 86.22620689655173, 'gini = 0.0\\nsamples = 1\\nvalue = [0, 1]'),\n",
       " Text(1.9240419439483585, 86.22620689655173, 'gini = 0.0\\nsamples = 1\\nvalue = [1, 0]'),\n",
       " Text(2.7257260872601745, 101.22206896551724, 'X[78] <= 0.5\\ngini = 0.018\\nsamples = 327\\nvalue = [324, 3]'),\n",
       " Text(2.244715601273085, 93.72413793103449, 'X[83] <= 0.5\\ngini = 0.007\\nsamples = 297\\nvalue = [296, 1]'),\n",
       " Text(2.1378243821648426, 86.22620689655173, 'gini = 0.0\\nsamples = 257\\nvalue = [257, 0]'),\n",
       " Text(2.3516068203813267, 86.22620689655173, 'X[41] <= 0.5\\ngini = 0.049\\nsamples = 40\\nvalue = [39, 1]'),\n",
       " Text(2.244715601273085, 78.72827586206895, 'gini = 0.0\\nsamples = 33\\nvalue = [33, 0]'),\n",
       " Text(2.458498039489569, 78.72827586206895, 'X[73] <= 0.5\\ngini = 0.245\\nsamples = 7\\nvalue = [6, 1]'),\n",
       " Text(2.3516068203813267, 71.23034482758621, 'gini = 0.0\\nsamples = 5\\nvalue = [5, 0]'),\n",
       " Text(2.5653892585978113, 71.23034482758621, 'X[4] <= 0.5\\ngini = 0.5\\nsamples = 2\\nvalue = [1, 1]'),\n",
       " Text(2.458498039489569, 63.73241379310346, 'gini = 0.0\\nsamples = 1\\nvalue = [1, 0]'),\n",
       " Text(2.672280477706053, 63.73241379310346, 'gini = 0.0\\nsamples = 1\\nvalue = [0, 1]'),\n",
       " Text(3.206736573247264, 93.72413793103449, 'X[92] <= 0.5\\ngini = 0.124\\nsamples = 30\\nvalue = [28, 2]'),\n",
       " Text(2.9929541350307796, 86.22620689655173, 'X[44] <= 0.5\\ngini = 0.071\\nsamples = 27\\nvalue = [26, 1]'),\n",
       " Text(2.8860629159225377, 78.72827586206895, 'X[29] <= 2.5\\ngini = 0.32\\nsamples = 5\\nvalue = [4, 1]'),\n",
       " Text(2.7791716968142954, 71.23034482758621, 'gini = 0.0\\nsamples = 3\\nvalue = [3, 0]'),\n",
       " Text(2.9929541350307796, 71.23034482758621, 'X[42] <= 0.5\\ngini = 0.5\\nsamples = 2\\nvalue = [1, 1]'),\n",
       " Text(2.8860629159225377, 63.73241379310346, 'gini = 0.0\\nsamples = 1\\nvalue = [1, 0]'),\n",
       " Text(3.099845354139022, 63.73241379310346, 'gini = 0.0\\nsamples = 1\\nvalue = [0, 1]'),\n",
       " Text(3.099845354139022, 78.72827586206895, 'gini = 0.0\\nsamples = 22\\nvalue = [22, 0]'),\n",
       " Text(3.4205190114637483, 86.22620689655173, 'X[37] <= 0.5\\ngini = 0.444\\nsamples = 3\\nvalue = [2, 1]'),\n",
       " Text(3.313627792355506, 78.72827586206895, 'gini = 0.0\\nsamples = 2\\nvalue = [2, 0]'),\n",
       " Text(3.5274102305719905, 78.72827586206895, 'gini = 0.0\\nsamples = 1\\nvalue = [0, 1]'),\n",
       " Text(3.848083887896717, 116.21793103448276, 'X[29] <= 1.5\\ngini = 0.124\\nsamples = 45\\nvalue = [42, 3]'),\n",
       " Text(3.7411926687884747, 108.72, 'X[66] <= 0.5\\ngini = 0.305\\nsamples = 16\\nvalue = [13, 3]'),\n",
       " Text(3.6343014496802324, 101.22206896551724, 'X[8] <= 0.5\\ngini = 0.133\\nsamples = 14\\nvalue = [13, 1]'),\n",
       " Text(3.5274102305719905, 93.72413793103449, 'gini = 0.0\\nsamples = 12\\nvalue = [12, 0]'),\n",
       " Text(3.7411926687884747, 93.72413793103449, 'X[67] <= 0.5\\ngini = 0.5\\nsamples = 2\\nvalue = [1, 1]'),\n",
       " Text(3.6343014496802324, 86.22620689655173, 'gini = 0.0\\nsamples = 1\\nvalue = [1, 0]'),\n",
       " Text(3.848083887896717, 86.22620689655173, 'gini = 0.0\\nsamples = 1\\nvalue = [0, 1]'),\n",
       " Text(3.848083887896717, 101.22206896551724, 'gini = 0.0\\nsamples = 2\\nvalue = [0, 2]'),\n",
       " Text(3.954975107004959, 108.72, 'gini = 0.0\\nsamples = 29\\nvalue = [29, 0]'),\n",
       " Text(4.275648764329685, 123.71586206896552, 'X[89] <= 0.5\\ngini = 0.014\\nsamples = 285\\nvalue = [283, 2]'),\n",
       " Text(4.168757545221443, 116.21793103448276, 'gini = 0.0\\nsamples = 206\\nvalue = [206, 0]'),\n",
       " Text(4.382539983437927, 116.21793103448276, 'X[45] <= 0.5\\ngini = 0.049\\nsamples = 79\\nvalue = [77, 2]'),\n",
       " Text(4.168757545221443, 108.72, 'X[84] <= 0.5\\ngini = 0.027\\nsamples = 73\\nvalue = [72, 1]'),\n",
       " Text(4.061866326113201, 101.22206896551724, 'gini = 0.0\\nsamples = 63\\nvalue = [63, 0]'),\n",
       " Text(4.275648764329685, 101.22206896551724, 'X[8] <= 0.5\\ngini = 0.18\\nsamples = 10\\nvalue = [9, 1]'),\n",
       " Text(4.168757545221443, 93.72413793103449, 'gini = 0.0\\nsamples = 9\\nvalue = [9, 0]'),\n",
       " Text(4.382539983437927, 93.72413793103449, 'gini = 0.0\\nsamples = 1\\nvalue = [0, 1]'),\n",
       " Text(4.596322421654412, 108.72, 'X[77] <= 0.5\\ngini = 0.278\\nsamples = 6\\nvalue = [5, 1]'),\n",
       " Text(4.48943120254617, 101.22206896551724, 'gini = 0.0\\nsamples = 5\\nvalue = [5, 0]'),\n",
       " Text(4.7032136407626535, 101.22206896551724, 'gini = 0.0\\nsamples = 1\\nvalue = [0, 1]'),\n",
       " Text(5.02388729808738, 131.21379310344827, 'X[12] <= 0.5\\ngini = 0.131\\nsamples = 57\\nvalue = [53, 4]'),\n",
       " Text(4.810104859870896, 123.71586206896552, 'X[105] <= 0.5\\ngini = 0.042\\nsamples = 47\\nvalue = [46, 1]'),\n",
       " Text(4.7032136407626535, 116.21793103448276, 'gini = 0.0\\nsamples = 43\\nvalue = [43, 0]'),\n",
       " Text(4.916996078979138, 116.21793103448276, 'X[15] <= 2.5\\ngini = 0.375\\nsamples = 4\\nvalue = [3, 1]'),\n",
       " Text(4.810104859870896, 108.72, 'gini = 0.0\\nsamples = 1\\nvalue = [0, 1]'),\n",
       " Text(5.02388729808738, 108.72, 'gini = 0.0\\nsamples = 3\\nvalue = [3, 0]'),\n",
       " Text(5.2376697363038645, 123.71586206896552, 'X[20] <= 3.0\\ngini = 0.42\\nsamples = 10\\nvalue = [7, 3]'),\n",
       " Text(5.130778517195623, 116.21793103448276, 'gini = 0.0\\nsamples = 2\\nvalue = [0, 2]'),\n",
       " Text(5.344560955412106, 116.21793103448276, 'X[1] <= 2.0\\ngini = 0.219\\nsamples = 8\\nvalue = [7, 1]'),\n",
       " Text(5.2376697363038645, 108.72, 'gini = 0.0\\nsamples = 7\\nvalue = [7, 0]'),\n",
       " Text(5.451452174520349, 108.72, 'gini = 0.0\\nsamples = 1\\nvalue = [0, 1]'),\n",
       " Text(5.852294246176257, 138.71172413793101, 'X[22] <= 1.5\\ngini = 0.139\\nsamples = 80\\nvalue = [74, 6]'),\n",
       " Text(5.558343393628591, 131.21379310344827, 'X[31] <= 1.5\\ngini = 0.48\\nsamples = 5\\nvalue = [3, 2]'),\n",
       " Text(5.451452174520349, 123.71586206896552, 'gini = 0.0\\nsamples = 2\\nvalue = [0, 2]'),\n",
       " Text(5.665234612736833, 123.71586206896552, 'gini = 0.0\\nsamples = 3\\nvalue = [3, 0]'),\n",
       " Text(6.146245098723923, 131.21379310344827, 'X[27] <= 1.5\\ngini = 0.101\\nsamples = 75\\nvalue = [71, 4]'),\n",
       " Text(5.879017050953317, 123.71586206896552, 'X[6] <= 0.5\\ngini = 0.444\\nsamples = 6\\nvalue = [4, 2]'),\n",
       " Text(5.772125831845075, 116.21793103448276, 'X[41] <= 0.5\\ngini = 0.444\\nsamples = 3\\nvalue = [1, 2]'),\n",
       " Text(5.665234612736833, 108.72, 'gini = 0.0\\nsamples = 2\\nvalue = [0, 2]'),\n",
       " Text(5.879017050953317, 108.72, 'gini = 0.0\\nsamples = 1\\nvalue = [1, 0]'),\n",
       " Text(5.985908270061559, 116.21793103448276, 'gini = 0.0\\nsamples = 3\\nvalue = [3, 0]'),\n",
       " Text(6.413473146494528, 123.71586206896552, 'X[69] <= 0.5\\ngini = 0.056\\nsamples = 69\\nvalue = [67, 2]'),\n",
       " Text(6.199690708278044, 116.21793103448276, 'X[105] <= 0.5\\ngini = 0.029\\nsamples = 67\\nvalue = [66, 1]'),\n",
       " Text(6.092799489169802, 108.72, 'gini = 0.0\\nsamples = 61\\nvalue = [61, 0]'),\n",
       " Text(6.3065819273862855, 108.72, 'X[91] <= 0.5\\ngini = 0.278\\nsamples = 6\\nvalue = [5, 1]'),\n",
       " Text(6.199690708278044, 101.22206896551724, 'gini = 0.0\\nsamples = 1\\nvalue = [0, 1]'),\n",
       " Text(6.413473146494528, 101.22206896551724, 'gini = 0.0\\nsamples = 5\\nvalue = [5, 0]'),\n",
       " Text(6.627255584711012, 116.21793103448276, 'X[104] <= 0.5\\ngini = 0.5\\nsamples = 2\\nvalue = [1, 1]'),\n",
       " Text(6.52036436560277, 108.72, 'gini = 0.0\\nsamples = 1\\nvalue = [1, 0]'),\n",
       " Text(6.734146803819255, 108.72, 'gini = 0.0\\nsamples = 1\\nvalue = [0, 1]'),\n",
       " Text(8.183858962974789, 146.2096551724138, 'X[14] <= 0.5\\ngini = 0.134\\nsamples = 180\\nvalue = [167, 13]'),\n",
       " Text(7.709529178181964, 138.71172413793101, 'X[43] <= 0.5\\ngini = 0.104\\nsamples = 164\\nvalue = [155, 9]'),\n",
       " Text(7.348771313691647, 131.21379310344827, 'X[29] <= 2.5\\ngini = 0.084\\nsamples = 159\\nvalue = [152, 7]'),\n",
       " Text(6.947929242035738, 123.71586206896552, 'X[84] <= 0.5\\ngini = 0.02\\nsamples = 100\\nvalue = [99, 1]'),\n",
       " Text(6.8410380229274965, 116.21793103448276, 'gini = 0.0\\nsamples = 91\\nvalue = [91, 0]'),\n",
       " Text(7.054820461143981, 116.21793103448276, 'X[92] <= 0.5\\ngini = 0.198\\nsamples = 9\\nvalue = [8, 1]'),\n",
       " Text(6.947929242035738, 108.72, 'gini = 0.0\\nsamples = 8\\nvalue = [8, 0]'),\n",
       " Text(7.161711680252223, 108.72, 'gini = 0.0\\nsamples = 1\\nvalue = [0, 1]'),\n",
       " Text(7.749613385347555, 123.71586206896552, 'X[17] <= 1.5\\ngini = 0.183\\nsamples = 59\\nvalue = [53, 6]'),\n",
       " Text(7.482385337576949, 116.21793103448276, 'X[78] <= 0.5\\ngini = 0.463\\nsamples = 11\\nvalue = [7, 4]'),\n",
       " Text(7.3754941184687075, 108.72, 'X[24] <= 0.5\\ngini = 0.346\\nsamples = 9\\nvalue = [7, 2]'),\n",
       " Text(7.268602899360465, 101.22206896551724, 'X[27] <= 2.5\\ngini = 0.444\\nsamples = 3\\nvalue = [1, 2]'),\n",
       " Text(7.161711680252223, 93.72413793103449, 'gini = 0.0\\nsamples = 1\\nvalue = [1, 0]'),\n",
       " Text(7.3754941184687075, 93.72413793103449, 'gini = 0.0\\nsamples = 2\\nvalue = [0, 2]'),\n",
       " Text(7.482385337576949, 101.22206896551724, 'gini = 0.0\\nsamples = 6\\nvalue = [6, 0]'),\n",
       " Text(7.589276556685191, 108.72, 'gini = 0.0\\nsamples = 2\\nvalue = [0, 2]'),\n",
       " Text(8.01684143311816, 116.21793103448276, 'X[5] <= 0.5\\ngini = 0.08\\nsamples = 48\\nvalue = [46, 2]'),\n",
       " Text(7.803058994901676, 108.72, 'X[17] <= 3.5\\ngini = 0.043\\nsamples = 46\\nvalue = [45, 1]'),\n",
       " Text(7.696167775793434, 101.22206896551724, 'gini = 0.0\\nsamples = 38\\nvalue = [38, 0]'),\n",
       " Text(7.909950214009918, 101.22206896551724, 'X[27] <= 2.5\\ngini = 0.219\\nsamples = 8\\nvalue = [7, 1]'),\n",
       " Text(7.803058994901676, 93.72413793103449, 'X[23] <= 2.5\\ngini = 0.5\\nsamples = 2\\nvalue = [1, 1]'),\n",
       " Text(7.696167775793434, 86.22620689655173, 'gini = 0.0\\nsamples = 1\\nvalue = [1, 0]'),\n",
       " Text(7.909950214009918, 86.22620689655173, 'gini = 0.0\\nsamples = 1\\nvalue = [0, 1]'),\n",
       " Text(8.01684143311816, 93.72413793103449, 'gini = 0.0\\nsamples = 6\\nvalue = [6, 0]'),\n",
       " Text(8.230623871334645, 108.72, 'X[65] <= 0.5\\ngini = 0.5\\nsamples = 2\\nvalue = [1, 1]'),\n",
       " Text(8.123732652226401, 101.22206896551724, 'gini = 0.0\\nsamples = 1\\nvalue = [1, 0]'),\n",
       " Text(8.337515090442887, 101.22206896551724, 'gini = 0.0\\nsamples = 1\\nvalue = [0, 1]'),\n",
       " Text(8.07028704267228, 131.21379310344827, 'X[72] <= 0.5\\ngini = 0.48\\nsamples = 5\\nvalue = [3, 2]'),\n",
       " Text(7.9633958235640385, 123.71586206896552, 'gini = 0.0\\nsamples = 3\\nvalue = [3, 0]'),\n",
       " Text(8.177178261780524, 123.71586206896552, 'gini = 0.0\\nsamples = 2\\nvalue = [0, 2]'),\n",
       " Text(8.658188747767612, 138.71172413793101, 'X[59] <= 0.5\\ngini = 0.375\\nsamples = 16\\nvalue = [12, 4]'),\n",
       " Text(8.55129752865937, 131.21379310344827, 'X[88] <= 0.5\\ngini = 0.494\\nsamples = 9\\nvalue = [5, 4]'),\n",
       " Text(8.444406309551129, 123.71586206896552, 'gini = 0.0\\nsamples = 3\\nvalue = [3, 0]'),\n",
       " Text(8.658188747767612, 123.71586206896552, 'X[24] <= 0.5\\ngini = 0.444\\nsamples = 6\\nvalue = [2, 4]'),\n",
       " Text(8.55129752865937, 116.21793103448276, 'X[95] <= 0.5\\ngini = 0.444\\nsamples = 3\\nvalue = [2, 1]'),\n",
       " Text(8.444406309551129, 108.72, 'gini = 0.0\\nsamples = 2\\nvalue = [2, 0]'),\n",
       " Text(8.658188747767612, 108.72, 'gini = 0.0\\nsamples = 1\\nvalue = [0, 1]'),\n",
       " Text(8.765079966875854, 116.21793103448276, 'gini = 0.0\\nsamples = 3\\nvalue = [0, 3]'),\n",
       " Text(8.765079966875854, 131.21379310344827, 'gini = 0.0\\nsamples = 7\\nvalue = [7, 0]'),\n",
       " Text(11.621079727424199, 153.70758620689656, 'X[22] <= 3.5\\ngini = 0.135\\nsamples = 384\\nvalue = [356, 28]'),\n",
       " Text(10.782651727543925, 146.2096551724138, 'X[23] <= 3.5\\ngini = 0.098\\nsamples = 233\\nvalue = [221, 12]'),\n",
       " Text(10.234834229614185, 138.71172413793101, 'X[105] <= 0.5\\ngini = 0.072\\nsamples = 213\\nvalue = [205, 8]'),\n",
       " Text(9.780546548404155, 131.21379310344827, 'X[14] <= 0.5\\ngini = 0.049\\nsamples = 198\\nvalue = [193, 5]'),\n",
       " Text(9.299536062417065, 123.71586206896552, 'X[36] <= 0.5\\ngini = 0.033\\nsamples = 178\\nvalue = [175, 3]'),\n",
       " Text(8.97886240509234, 116.21793103448276, 'X[77] <= 0.5\\ngini = 0.013\\nsamples = 155\\nvalue = [154, 1]'),\n",
       " Text(8.871971185984098, 108.72, 'gini = 0.0\\nsamples = 127\\nvalue = [127, 0]'),\n",
       " Text(9.085753624200581, 108.72, 'X[101] <= 0.5\\ngini = 0.069\\nsamples = 28\\nvalue = [27, 1]'),\n",
       " Text(8.97886240509234, 101.22206896551724, 'gini = 0.0\\nsamples = 23\\nvalue = [23, 0]'),\n",
       " Text(9.192644843308823, 101.22206896551724, 'X[55] <= 0.5\\ngini = 0.32\\nsamples = 5\\nvalue = [4, 1]'),\n",
       " Text(9.085753624200581, 93.72413793103449, 'gini = 0.0\\nsamples = 4\\nvalue = [4, 0]'),\n",
       " Text(9.299536062417065, 93.72413793103449, 'gini = 0.0\\nsamples = 1\\nvalue = [0, 1]'),\n",
       " Text(9.620209719741792, 116.21793103448276, 'X[80] <= 0.5\\ngini = 0.159\\nsamples = 23\\nvalue = [21, 2]'),\n",
       " Text(9.51331850063355, 108.72, 'X[45] <= 0.5\\ngini = 0.087\\nsamples = 22\\nvalue = [21, 1]'),\n",
       " Text(9.406427281525307, 101.22206896551724, 'gini = 0.0\\nsamples = 19\\nvalue = [19, 0]'),\n",
       " Text(9.620209719741792, 101.22206896551724, 'X[28] <= 1.5\\ngini = 0.444\\nsamples = 3\\nvalue = [2, 1]'),\n",
       " Text(9.51331850063355, 93.72413793103449, 'gini = 0.0\\nsamples = 2\\nvalue = [2, 0]'),\n",
       " Text(9.727100938850034, 93.72413793103449, 'gini = 0.0\\nsamples = 1\\nvalue = [0, 1]'),\n",
       " Text(9.727100938850034, 108.72, 'gini = 0.0\\nsamples = 1\\nvalue = [0, 1]'),\n",
       " Text(10.261557034391245, 123.71586206896552, 'X[30] <= 2.5\\ngini = 0.18\\nsamples = 20\\nvalue = [18, 2]'),\n",
       " Text(10.04777459617476, 116.21793103448276, 'X[13] <= 0.5\\ngini = 0.105\\nsamples = 18\\nvalue = [17, 1]'),\n",
       " Text(9.940883377066518, 108.72, 'gini = 0.0\\nsamples = 15\\nvalue = [15, 0]'),\n",
       " Text(10.154665815283003, 108.72, 'X[31] <= 0.5\\ngini = 0.444\\nsamples = 3\\nvalue = [2, 1]'),\n",
       " Text(10.04777459617476, 101.22206896551724, 'gini = 0.0\\nsamples = 2\\nvalue = [2, 0]'),\n",
       " Text(10.261557034391245, 101.22206896551724, 'gini = 0.0\\nsamples = 1\\nvalue = [0, 1]'),\n",
       " Text(10.475339472607729, 116.21793103448276, 'X[28] <= 7.5\\ngini = 0.5\\nsamples = 2\\nvalue = [1, 1]'),\n",
       " Text(10.368448253499487, 108.72, 'gini = 0.0\\nsamples = 1\\nvalue = [1, 0]'),\n",
       " Text(10.58223069171597, 108.72, 'gini = 0.0\\nsamples = 1\\nvalue = [0, 1]'),\n",
       " Text(10.689121910824213, 131.21379310344827, 'X[2] <= 1.5\\ngini = 0.32\\nsamples = 15\\nvalue = [12, 3]'),\n",
       " Text(10.58223069171597, 123.71586206896552, 'gini = 0.0\\nsamples = 11\\nvalue = [11, 0]'),\n",
       " Text(10.796013129932456, 123.71586206896552, 'X[21] <= 2.5\\ngini = 0.375\\nsamples = 4\\nvalue = [1, 3]'),\n",
       " Text(10.689121910824213, 116.21793103448276, 'gini = 0.0\\nsamples = 1\\nvalue = [1, 0]'),\n",
       " Text(10.902904349040698, 116.21793103448276, 'gini = 0.0\\nsamples = 3\\nvalue = [0, 3]'),\n",
       " Text(11.330469225473665, 138.71172413793101, 'X[28] <= 1.5\\ngini = 0.32\\nsamples = 20\\nvalue = [16, 4]'),\n",
       " Text(11.116686787257182, 131.21379310344827, 'X[24] <= 0.5\\ngini = 0.444\\nsamples = 3\\nvalue = [1, 2]'),\n",
       " Text(11.00979556814894, 123.71586206896552, 'gini = 0.0\\nsamples = 1\\nvalue = [1, 0]'),\n",
       " Text(11.223578006365424, 123.71586206896552, 'gini = 0.0\\nsamples = 2\\nvalue = [0, 2]'),\n",
       " Text(11.54425166369015, 131.21379310344827, 'X[30] <= 0.5\\ngini = 0.208\\nsamples = 17\\nvalue = [15, 2]'),\n",
       " Text(11.437360444581909, 123.71586206896552, 'gini = 0.0\\nsamples = 1\\nvalue = [0, 1]'),\n",
       " Text(11.651142882798393, 123.71586206896552, 'X[84] <= 0.5\\ngini = 0.117\\nsamples = 16\\nvalue = [15, 1]'),\n",
       " Text(11.54425166369015, 116.21793103448276, 'gini = 0.0\\nsamples = 15\\nvalue = [15, 0]'),\n",
       " Text(11.758034101906635, 116.21793103448276, 'gini = 0.0\\nsamples = 1\\nvalue = [0, 1]'),\n",
       " Text(12.459507727304473, 146.2096551724138, 'X[15] <= 3.5\\ngini = 0.189\\nsamples = 151\\nvalue = [135, 16]'),\n",
       " Text(11.864925321014876, 138.71172413793101, 'X[84] <= 0.5\\ngini = 0.041\\nsamples = 48\\nvalue = [47, 1]'),\n",
       " Text(11.758034101906635, 131.21379310344827, 'gini = 0.0\\nsamples = 44\\nvalue = [44, 0]'),\n",
       " Text(11.971816540123118, 131.21379310344827, 'X[61] <= 0.5\\ngini = 0.375\\nsamples = 4\\nvalue = [3, 1]'),\n",
       " Text(11.864925321014876, 123.71586206896552, 'gini = 0.0\\nsamples = 3\\nvalue = [3, 0]'),\n",
       " Text(12.078707759231362, 123.71586206896552, 'gini = 0.0\\nsamples = 1\\nvalue = [0, 1]'),\n",
       " Text(13.054090133594071, 138.71172413793101, 'X[105] <= 0.5\\ngini = 0.249\\nsamples = 103\\nvalue = [88, 15]'),\n",
       " Text(12.947198914485828, 131.21379310344827, 'X[91] <= 0.5\\ngini = 0.237\\nsamples = 102\\nvalue = [88, 14]'),\n",
       " Text(12.292490197447846, 123.71586206896552, 'X[7] <= 0.5\\ngini = 0.337\\nsamples = 42\\nvalue = [33, 9]'),\n",
       " Text(12.185598978339604, 116.21793103448276, 'X[12] <= 0.5\\ngini = 0.436\\nsamples = 28\\nvalue = [19, 9]'),\n",
       " Text(12.078707759231362, 108.72, 'X[99] <= 0.5\\ngini = 0.476\\nsamples = 23\\nvalue = [14, 9]'),\n",
       " Text(11.758034101906635, 101.22206896551724, 'X[2] <= 1.5\\ngini = 0.391\\nsamples = 15\\nvalue = [11, 4]'),\n",
       " Text(11.651142882798393, 93.72413793103449, 'gini = 0.0\\nsamples = 6\\nvalue = [6, 0]'),\n",
       " Text(11.864925321014876, 93.72413793103449, 'X[45] <= 0.5\\ngini = 0.494\\nsamples = 9\\nvalue = [5, 4]'),\n",
       " Text(11.758034101906635, 86.22620689655173, 'X[6] <= 0.5\\ngini = 0.408\\nsamples = 7\\nvalue = [5, 2]'),\n",
       " Text(11.651142882798393, 78.72827586206895, 'gini = 0.0\\nsamples = 1\\nvalue = [0, 1]'),\n",
       " Text(11.864925321014876, 78.72827586206895, 'X[21] <= 1.5\\ngini = 0.278\\nsamples = 6\\nvalue = [5, 1]'),\n",
       " Text(11.758034101906635, 71.23034482758621, 'gini = 0.0\\nsamples = 1\\nvalue = [0, 1]'),\n",
       " Text(11.971816540123118, 71.23034482758621, 'gini = 0.0\\nsamples = 5\\nvalue = [5, 0]'),\n",
       " Text(11.971816540123118, 86.22620689655173, 'gini = 0.0\\nsamples = 2\\nvalue = [0, 2]'),\n",
       " Text(12.399381416556087, 101.22206896551724, 'X[43] <= 0.5\\ngini = 0.469\\nsamples = 8\\nvalue = [3, 5]'),\n",
       " Text(12.292490197447846, 93.72413793103449, 'X[73] <= 0.5\\ngini = 0.278\\nsamples = 6\\nvalue = [1, 5]'),\n",
       " Text(12.185598978339604, 86.22620689655173, 'gini = 0.0\\nsamples = 1\\nvalue = [1, 0]'),\n",
       " Text(12.399381416556087, 86.22620689655173, 'gini = 0.0\\nsamples = 5\\nvalue = [0, 5]'),\n",
       " Text(12.50627263566433, 93.72413793103449, 'gini = 0.0\\nsamples = 2\\nvalue = [2, 0]'),\n",
       " Text(12.292490197447846, 108.72, 'gini = 0.0\\nsamples = 5\\nvalue = [5, 0]'),\n",
       " Text(12.399381416556087, 116.21793103448276, 'gini = 0.0\\nsamples = 14\\nvalue = [14, 0]'),\n",
       " Text(13.601907631523812, 123.71586206896552, 'X[69] <= 0.5\\ngini = 0.153\\nsamples = 60\\nvalue = [55, 5]'),\n",
       " Text(13.307956778976145, 116.21793103448276, 'X[81] <= 0.5\\ngini = 0.103\\nsamples = 55\\nvalue = [52, 3]'),\n",
       " Text(13.04072873120554, 108.72, 'X[31] <= 2.5\\ngini = 0.075\\nsamples = 51\\nvalue = [49, 2]'),\n",
       " Text(12.826946292989057, 101.22206896551724, 'X[85] <= 0.5\\ngini = 0.043\\nsamples = 46\\nvalue = [45, 1]'),\n",
       " Text(12.720055073880815, 93.72413793103449, 'gini = 0.0\\nsamples = 41\\nvalue = [41, 0]'),\n",
       " Text(12.933837512097298, 93.72413793103449, 'X[60] <= 0.5\\ngini = 0.32\\nsamples = 5\\nvalue = [4, 1]'),\n",
       " Text(12.826946292989057, 86.22620689655173, 'gini = 0.0\\nsamples = 4\\nvalue = [4, 0]'),\n",
       " Text(13.04072873120554, 86.22620689655173, 'gini = 0.0\\nsamples = 1\\nvalue = [0, 1]'),\n",
       " Text(13.254511169422024, 101.22206896551724, 'X[70] <= 0.5\\ngini = 0.32\\nsamples = 5\\nvalue = [4, 1]'),\n",
       " Text(13.147619950313782, 93.72413793103449, 'gini = 0.0\\nsamples = 1\\nvalue = [0, 1]'),\n",
       " Text(13.361402388530268, 93.72413793103449, 'gini = 0.0\\nsamples = 4\\nvalue = [4, 0]'),\n",
       " Text(13.575184826746751, 108.72, 'X[26] <= 0.5\\ngini = 0.375\\nsamples = 4\\nvalue = [3, 1]'),\n",
       " Text(13.46829360763851, 101.22206896551724, 'gini = 0.0\\nsamples = 1\\nvalue = [0, 1]'),\n",
       " Text(13.682076045854993, 101.22206896551724, 'gini = 0.0\\nsamples = 3\\nvalue = [3, 0]'),\n",
       " Text(13.895858484071477, 116.21793103448276, 'X[29] <= 1.5\\ngini = 0.48\\nsamples = 5\\nvalue = [3, 2]'),\n",
       " Text(13.788967264963235, 108.72, 'gini = 0.0\\nsamples = 2\\nvalue = [0, 2]'),\n",
       " Text(14.002749703179719, 108.72, 'gini = 0.0\\nsamples = 3\\nvalue = [3, 0]'),\n",
       " Text(13.160981352702313, 131.21379310344827, 'gini = 0.0\\nsamples = 1\\nvalue = [0, 1]'),\n",
       " Text(19.483429945424977, 161.2055172413793, 'X[16] <= 1.5\\ngini = 0.154\\nsamples = 499\\nvalue = [457, 42]'),\n",
       " Text(17.762314300252424, 153.70758620689656, 'X[78] <= 0.5\\ngini = 0.117\\nsamples = 400\\nvalue = [375, 25]'),\n",
       " Text(16.551437208791867, 146.2096551724138, 'X[12] <= 0.5\\ngini = 0.096\\nsamples = 358\\nvalue = [340, 18]'),\n",
       " Text(15.626160093386147, 138.71172413793101, 'X[30] <= 1.5\\ngini = 0.067\\nsamples = 286\\nvalue = [276, 10]'),\n",
       " Text(14.684181224994763, 131.21379310344827, 'X[28] <= 6.5\\ngini = 0.046\\nsamples = 256\\nvalue = [250, 6]'),\n",
       " Text(14.216532141396204, 123.71586206896552, 'X[89] <= 0.5\\ngini = 0.011\\nsamples = 178\\nvalue = [177, 1]'),\n",
       " Text(14.109640922287962, 116.21793103448276, 'gini = 0.0\\nsamples = 137\\nvalue = [137, 0]'),\n",
       " Text(14.323423360504446, 116.21793103448276, 'X[99] <= 0.5\\ngini = 0.048\\nsamples = 41\\nvalue = [40, 1]'),\n",
       " Text(14.216532141396204, 108.72, 'gini = 0.0\\nsamples = 34\\nvalue = [34, 0]'),\n",
       " Text(14.430314579612688, 108.72, 'X[80] <= 0.5\\ngini = 0.245\\nsamples = 7\\nvalue = [6, 1]'),\n",
       " Text(14.323423360504446, 101.22206896551724, 'gini = 0.0\\nsamples = 6\\nvalue = [6, 0]'),\n",
       " Text(14.53720579872093, 101.22206896551724, 'gini = 0.0\\nsamples = 1\\nvalue = [0, 1]'),\n",
       " Text(15.151830308593322, 123.71586206896552, 'X[33] <= 0.5\\ngini = 0.12\\nsamples = 78\\nvalue = [73, 5]'),\n",
       " Text(14.750988236937415, 116.21793103448276, 'X[13] <= 0.5\\ngini = 0.036\\nsamples = 54\\nvalue = [53, 1]'),\n",
       " Text(14.644097017829171, 108.72, 'gini = 0.0\\nsamples = 50\\nvalue = [50, 0]'),\n",
       " Text(14.857879456045657, 108.72, 'X[20] <= 1.5\\ngini = 0.375\\nsamples = 4\\nvalue = [3, 1]'),\n",
       " Text(14.750988236937415, 101.22206896551724, 'X[40] <= 0.5\\ngini = 0.5\\nsamples = 2\\nvalue = [1, 1]'),\n",
       " Text(14.644097017829171, 93.72413793103449, 'gini = 0.0\\nsamples = 1\\nvalue = [0, 1]'),\n",
       " Text(14.857879456045657, 93.72413793103449, 'gini = 0.0\\nsamples = 1\\nvalue = [1, 0]'),\n",
       " Text(14.964770675153899, 101.22206896551724, 'gini = 0.0\\nsamples = 2\\nvalue = [2, 0]'),\n",
       " Text(15.55267238024923, 116.21793103448276, 'X[22] <= 2.5\\ngini = 0.278\\nsamples = 24\\nvalue = [20, 4]'),\n",
       " Text(15.285444332478624, 108.72, 'X[73] <= 0.5\\ngini = 0.5\\nsamples = 4\\nvalue = [2, 2]'),\n",
       " Text(15.178553113370382, 101.22206896551724, 'X[24] <= 0.5\\ngini = 0.444\\nsamples = 3\\nvalue = [2, 1]'),\n",
       " Text(15.07166189426214, 93.72413793103449, 'gini = 0.0\\nsamples = 2\\nvalue = [2, 0]'),\n",
       " Text(15.285444332478624, 93.72413793103449, 'gini = 0.0\\nsamples = 1\\nvalue = [0, 1]'),\n",
       " Text(15.392335551586868, 101.22206896551724, 'gini = 0.0\\nsamples = 1\\nvalue = [0, 1]'),\n",
       " Text(15.819900428019835, 108.72, 'X[18] <= 1.5\\ngini = 0.18\\nsamples = 20\\nvalue = [18, 2]'),\n",
       " Text(15.606117989803352, 101.22206896551724, 'X[40] <= 0.5\\ngini = 0.5\\nsamples = 2\\nvalue = [1, 1]'),\n",
       " Text(15.49922677069511, 93.72413793103449, 'gini = 0.0\\nsamples = 1\\nvalue = [1, 0]'),\n",
       " Text(15.713009208911593, 93.72413793103449, 'gini = 0.0\\nsamples = 1\\nvalue = [0, 1]'),\n",
       " Text(16.03368286623632, 101.22206896551724, 'X[42] <= 0.5\\ngini = 0.105\\nsamples = 18\\nvalue = [17, 1]'),\n",
       " Text(15.926791647128077, 93.72413793103449, 'gini = 0.0\\nsamples = 11\\nvalue = [11, 0]'),\n",
       " Text(16.14057408534456, 93.72413793103449, 'X[6] <= 0.5\\ngini = 0.245\\nsamples = 7\\nvalue = [6, 1]'),\n",
       " Text(16.03368286623632, 86.22620689655173, 'X[88] <= 0.5\\ngini = 0.5\\nsamples = 2\\nvalue = [1, 1]'),\n",
       " Text(15.926791647128077, 78.72827586206895, 'gini = 0.0\\nsamples = 1\\nvalue = [1, 0]'),\n",
       " Text(16.14057408534456, 78.72827586206895, 'gini = 0.0\\nsamples = 1\\nvalue = [0, 1]'),\n",
       " Text(16.247465304452803, 86.22620689655173, 'gini = 0.0\\nsamples = 5\\nvalue = [5, 0]'),\n",
       " Text(16.56813896177753, 131.21379310344827, 'X[43] <= 0.5\\ngini = 0.231\\nsamples = 30\\nvalue = [26, 4]'),\n",
       " Text(16.46124774266929, 123.71586206896552, 'X[79] <= 0.5\\ngini = 0.185\\nsamples = 29\\nvalue = [26, 3]'),\n",
       " Text(16.247465304452803, 116.21793103448276, 'X[85] <= 0.5\\ngini = 0.077\\nsamples = 25\\nvalue = [24, 1]'),\n",
       " Text(16.14057408534456, 108.72, 'gini = 0.0\\nsamples = 22\\nvalue = [22, 0]'),\n",
       " Text(16.354356523561048, 108.72, 'X[29] <= 2.5\\ngini = 0.444\\nsamples = 3\\nvalue = [2, 1]'),\n",
       " Text(16.247465304452803, 101.22206896551724, 'gini = 0.0\\nsamples = 2\\nvalue = [2, 0]'),\n",
       " Text(16.46124774266929, 101.22206896551724, 'gini = 0.0\\nsamples = 1\\nvalue = [0, 1]'),\n",
       " Text(16.675030180885773, 116.21793103448276, 'X[88] <= 0.5\\ngini = 0.5\\nsamples = 4\\nvalue = [2, 2]'),\n",
       " Text(16.56813896177753, 108.72, 'gini = 0.0\\nsamples = 2\\nvalue = [2, 0]'),\n",
       " Text(16.781921399994015, 108.72, 'gini = 0.0\\nsamples = 2\\nvalue = [0, 2]'),\n",
       " Text(16.675030180885773, 123.71586206896552, 'gini = 0.0\\nsamples = 1\\nvalue = [0, 1]'),\n",
       " Text(17.476714324197587, 138.71172413793101, 'X[35] <= 0.5\\ngini = 0.198\\nsamples = 72\\nvalue = [64, 8]'),\n",
       " Text(17.369823105089345, 131.21379310344827, 'X[28] <= 2.0\\ngini = 0.157\\nsamples = 70\\nvalue = [64, 6]'),\n",
       " Text(16.9957038382105, 123.71586206896552, 'X[2] <= 0.5\\ngini = 0.469\\nsamples = 8\\nvalue = [5, 3]'),\n",
       " Text(16.888812619102257, 116.21793103448276, 'gini = 0.0\\nsamples = 1\\nvalue = [0, 1]'),\n",
       " Text(17.10259505731874, 116.21793103448276, 'X[5] <= 0.5\\ngini = 0.408\\nsamples = 7\\nvalue = [5, 2]'),\n",
       " Text(16.9957038382105, 108.72, 'X[24] <= 0.5\\ngini = 0.278\\nsamples = 6\\nvalue = [5, 1]'),\n",
       " Text(16.888812619102257, 101.22206896551724, 'X[30] <= 0.5\\ngini = 0.5\\nsamples = 2\\nvalue = [1, 1]'),\n",
       " Text(16.781921399994015, 93.72413793103449, 'gini = 0.0\\nsamples = 1\\nvalue = [1, 0]'),\n",
       " Text(16.9957038382105, 93.72413793103449, 'gini = 0.0\\nsamples = 1\\nvalue = [0, 1]'),\n",
       " Text(17.10259505731874, 101.22206896551724, 'gini = 0.0\\nsamples = 4\\nvalue = [4, 0]'),\n",
       " Text(17.209486276426983, 108.72, 'gini = 0.0\\nsamples = 1\\nvalue = [0, 1]'),\n",
       " Text(17.743942371968195, 123.71586206896552, 'X[28] <= 8.5\\ngini = 0.092\\nsamples = 62\\nvalue = [59, 3]'),\n",
       " Text(17.530159933751708, 116.21793103448276, 'X[28] <= 3.5\\ngini = 0.039\\nsamples = 50\\nvalue = [49, 1]'),\n",
       " Text(17.423268714643466, 108.72, 'X[29] <= 2.5\\ngini = 0.18\\nsamples = 10\\nvalue = [9, 1]'),\n",
       " Text(17.316377495535225, 101.22206896551724, 'gini = 0.0\\nsamples = 7\\nvalue = [7, 0]'),\n",
       " Text(17.530159933751708, 101.22206896551724, 'X[24] <= 0.5\\ngini = 0.444\\nsamples = 3\\nvalue = [2, 1]'),\n",
       " Text(17.423268714643466, 93.72413793103449, 'gini = 0.0\\nsamples = 1\\nvalue = [0, 1]'),\n",
       " Text(17.637051152859954, 93.72413793103449, 'gini = 0.0\\nsamples = 2\\nvalue = [2, 0]'),\n",
       " Text(17.637051152859954, 108.72, 'gini = 0.0\\nsamples = 40\\nvalue = [40, 0]'),\n",
       " Text(17.95772481018468, 116.21793103448276, 'X[69] <= 0.5\\ngini = 0.278\\nsamples = 12\\nvalue = [10, 2]'),\n",
       " Text(17.850833591076437, 108.72, 'X[40] <= 0.5\\ngini = 0.165\\nsamples = 11\\nvalue = [10, 1]'),\n",
       " Text(17.743942371968195, 101.22206896551724, 'gini = 0.0\\nsamples = 9\\nvalue = [9, 0]'),\n",
       " Text(17.95772481018468, 101.22206896551724, 'X[91] <= 0.5\\ngini = 0.5\\nsamples = 2\\nvalue = [1, 1]'),\n",
       " Text(17.850833591076437, 93.72413793103449, 'gini = 0.0\\nsamples = 1\\nvalue = [1, 0]'),\n",
       " Text(18.06461602929292, 93.72413793103449, 'gini = 0.0\\nsamples = 1\\nvalue = [0, 1]'),\n",
       " Text(18.06461602929292, 108.72, 'gini = 0.0\\nsamples = 1\\nvalue = [0, 1]'),\n",
       " Text(17.58360554330583, 131.21379310344827, 'gini = 0.0\\nsamples = 2\\nvalue = [0, 2]'),\n",
       " Text(18.97319139171298, 146.2096551724138, 'X[57] <= 0.5\\ngini = 0.278\\nsamples = 42\\nvalue = [35, 7]'),\n",
       " Text(18.866300172604735, 138.71172413793101, 'X[65] <= 0.5\\ngini = 0.25\\nsamples = 41\\nvalue = [35, 6]'),\n",
       " Text(18.49218090572589, 131.21379310344827, 'X[14] <= 0.5\\ngini = 0.133\\nsamples = 28\\nvalue = [26, 2]'),\n",
       " Text(18.278398467509405, 123.71586206896552, 'X[34] <= 0.5\\ngini = 0.074\\nsamples = 26\\nvalue = [25, 1]'),\n",
       " Text(18.171507248401163, 116.21793103448276, 'gini = 0.0\\nsamples = 19\\nvalue = [19, 0]'),\n",
       " Text(18.385289686617647, 116.21793103448276, 'X[15] <= 3.5\\ngini = 0.245\\nsamples = 7\\nvalue = [6, 1]'),\n",
       " Text(18.278398467509405, 108.72, 'X[103] <= 0.5\\ngini = 0.5\\nsamples = 2\\nvalue = [1, 1]'),\n",
       " Text(18.171507248401163, 101.22206896551724, 'gini = 0.0\\nsamples = 1\\nvalue = [0, 1]'),\n",
       " Text(18.385289686617647, 101.22206896551724, 'gini = 0.0\\nsamples = 1\\nvalue = [1, 0]'),\n",
       " Text(18.49218090572589, 108.72, 'gini = 0.0\\nsamples = 5\\nvalue = [5, 0]'),\n",
       " Text(18.705963343942372, 123.71586206896552, 'X[39] <= 0.5\\ngini = 0.5\\nsamples = 2\\nvalue = [1, 1]'),\n",
       " Text(18.59907212483413, 116.21793103448276, 'gini = 0.0\\nsamples = 1\\nvalue = [0, 1]'),\n",
       " Text(18.812854563050614, 116.21793103448276, 'gini = 0.0\\nsamples = 1\\nvalue = [1, 0]'),\n",
       " Text(19.240419439483585, 131.21379310344827, 'X[39] <= 0.5\\ngini = 0.426\\nsamples = 13\\nvalue = [9, 4]'),\n",
       " Text(19.133528220375343, 123.71586206896552, 'X[4] <= 0.5\\ngini = 0.375\\nsamples = 12\\nvalue = [9, 3]'),\n",
       " Text(19.0266370012671, 116.21793103448276, 'gini = 0.0\\nsamples = 5\\nvalue = [5, 0]'),\n",
       " Text(19.240419439483585, 116.21793103448276, 'X[55] <= 0.5\\ngini = 0.49\\nsamples = 7\\nvalue = [4, 3]'),\n",
       " Text(19.133528220375343, 108.72, 'X[87] <= 0.5\\ngini = 0.375\\nsamples = 4\\nvalue = [1, 3]'),\n",
       " Text(19.0266370012671, 101.22206896551724, 'gini = 0.0\\nsamples = 3\\nvalue = [0, 3]'),\n",
       " Text(19.240419439483585, 101.22206896551724, 'gini = 0.0\\nsamples = 1\\nvalue = [1, 0]'),\n",
       " Text(19.347310658591827, 108.72, 'gini = 0.0\\nsamples = 3\\nvalue = [3, 0]'),\n",
       " Text(19.347310658591827, 123.71586206896552, 'gini = 0.0\\nsamples = 1\\nvalue = [0, 1]'),\n",
       " Text(19.080082610821222, 138.71172413793101, 'gini = 0.0\\nsamples = 1\\nvalue = [0, 1]'),\n",
       " Text(21.204545590597533, 153.70758620689656, 'X[88] <= 0.5\\ngini = 0.284\\nsamples = 99\\nvalue = [82, 17]'),\n",
       " Text(20.710173702221912, 146.2096551724138, 'X[84] <= 0.5\\ngini = 0.371\\nsamples = 57\\nvalue = [43, 14]'),\n",
       " Text(20.362777240120128, 138.71172413793101, 'X[91] <= 0.5\\ngini = 0.329\\nsamples = 53\\nvalue = [42, 11]'),\n",
       " Text(19.988657973241278, 131.21379310344827, 'X[57] <= 0.5\\ngini = 0.444\\nsamples = 24\\nvalue = [16, 8]'),\n",
       " Text(19.881766754133036, 123.71586206896552, 'X[1] <= 1.5\\ngini = 0.363\\nsamples = 21\\nvalue = [16, 5]'),\n",
       " Text(19.667984315916552, 116.21793103448276, 'X[24] <= 0.5\\ngini = 0.5\\nsamples = 8\\nvalue = [4, 4]'),\n",
       " Text(19.56109309680831, 108.72, 'X[20] <= 3.5\\ngini = 0.32\\nsamples = 5\\nvalue = [1, 4]'),\n",
       " Text(19.45420187770007, 101.22206896551724, 'gini = 0.0\\nsamples = 4\\nvalue = [0, 4]'),\n",
       " Text(19.667984315916552, 101.22206896551724, 'gini = 0.0\\nsamples = 1\\nvalue = [1, 0]'),\n",
       " Text(19.774875535024794, 108.72, 'gini = 0.0\\nsamples = 3\\nvalue = [3, 0]'),\n",
       " Text(20.09554919234952, 116.21793103448276, 'X[78] <= 0.5\\ngini = 0.142\\nsamples = 13\\nvalue = [12, 1]'),\n",
       " Text(19.988657973241278, 108.72, 'gini = 0.0\\nsamples = 12\\nvalue = [12, 0]'),\n",
       " Text(20.202440411457765, 108.72, 'gini = 0.0\\nsamples = 1\\nvalue = [0, 1]'),\n",
       " Text(20.09554919234952, 123.71586206896552, 'gini = 0.0\\nsamples = 3\\nvalue = [0, 3]'),\n",
       " Text(20.736896506998974, 131.21379310344827, 'X[42] <= 0.5\\ngini = 0.185\\nsamples = 29\\nvalue = [26, 3]'),\n",
       " Text(20.630005287890732, 123.71586206896552, 'X[75] <= 0.5\\ngini = 0.32\\nsamples = 15\\nvalue = [12, 3]'),\n",
       " Text(20.52311406878249, 116.21793103448276, 'X[33] <= 0.5\\ngini = 0.42\\nsamples = 10\\nvalue = [7, 3]'),\n",
       " Text(20.41622284967425, 108.72, 'X[4] <= 0.5\\ngini = 0.5\\nsamples = 6\\nvalue = [3, 3]'),\n",
       " Text(20.309331630566007, 101.22206896551724, 'gini = 0.0\\nsamples = 2\\nvalue = [2, 0]'),\n",
       " Text(20.52311406878249, 101.22206896551724, 'X[37] <= 0.5\\ngini = 0.375\\nsamples = 4\\nvalue = [1, 3]'),\n",
       " Text(20.41622284967425, 93.72413793103449, 'gini = 0.0\\nsamples = 1\\nvalue = [1, 0]'),\n",
       " Text(20.630005287890732, 93.72413793103449, 'gini = 0.0\\nsamples = 3\\nvalue = [0, 3]'),\n",
       " Text(20.630005287890732, 108.72, 'gini = 0.0\\nsamples = 4\\nvalue = [4, 0]'),\n",
       " Text(20.736896506998974, 116.21793103448276, 'gini = 0.0\\nsamples = 5\\nvalue = [5, 0]'),\n",
       " Text(20.843787726107216, 123.71586206896552, 'gini = 0.0\\nsamples = 14\\nvalue = [14, 0]'),\n",
       " Text(21.0575701643237, 138.71172413793101, 'X[13] <= 0.5\\ngini = 0.375\\nsamples = 4\\nvalue = [1, 3]'),\n",
       " Text(20.950678945215458, 131.21379310344827, 'gini = 0.0\\nsamples = 3\\nvalue = [0, 3]'),\n",
       " Text(21.16446138343194, 131.21379310344827, 'gini = 0.0\\nsamples = 1\\nvalue = [1, 0]'),\n",
       " Text(21.698917478973154, 146.2096551724138, 'X[65] <= 0.5\\ngini = 0.133\\nsamples = 42\\nvalue = [39, 3]'),\n",
       " Text(21.485135040756667, 138.71172413793101, 'X[8] <= 0.5\\ngini = 0.053\\nsamples = 37\\nvalue = [36, 1]'),\n",
       " Text(21.378243821648425, 131.21379310344827, 'gini = 0.0\\nsamples = 29\\nvalue = [29, 0]'),\n",
       " Text(21.592026259864912, 131.21379310344827, 'X[17] <= 1.5\\ngini = 0.219\\nsamples = 8\\nvalue = [7, 1]'),\n",
       " Text(21.485135040756667, 123.71586206896552, 'X[25] <= 0.5\\ngini = 0.5\\nsamples = 2\\nvalue = [1, 1]'),\n",
       " Text(21.378243821648425, 116.21793103448276, 'gini = 0.0\\nsamples = 1\\nvalue = [0, 1]'),\n",
       " Text(21.592026259864912, 116.21793103448276, 'gini = 0.0\\nsamples = 1\\nvalue = [1, 0]'),\n",
       " Text(21.698917478973154, 123.71586206896552, 'gini = 0.0\\nsamples = 6\\nvalue = [6, 0]'),\n",
       " Text(21.912699917189638, 138.71172413793101, 'X[37] <= 0.5\\ngini = 0.48\\nsamples = 5\\nvalue = [3, 2]'),\n",
       " Text(21.805808698081396, 131.21379310344827, 'gini = 0.0\\nsamples = 2\\nvalue = [2, 0]'),\n",
       " Text(22.01959113629788, 131.21379310344827, 'X[79] <= 0.5\\ngini = 0.444\\nsamples = 3\\nvalue = [1, 2]'),\n",
       " Text(21.912699917189638, 123.71586206896552, 'gini = 0.0\\nsamples = 2\\nvalue = [0, 2]'),\n",
       " Text(22.12648235540612, 123.71586206896552, 'gini = 0.0\\nsamples = 1\\nvalue = [1, 0]'),\n",
       " Text(42.4449086124026, 168.70344827586206, 'X[18] <= 2.5\\ngini = 0.237\\nsamples = 2797\\nvalue = [2412, 385]'),\n",
       " Text(24.5348751359387, 161.2055172413793, 'X[26] <= 0.5\\ngini = 0.132\\nsamples = 576\\nvalue = [535, 41]'),\n",
       " Text(22.55404723183909, 153.70758620689656, 'X[71] <= 0.5\\ngini = 0.04\\nsamples = 146\\nvalue = [143, 3]'),\n",
       " Text(22.233373574514363, 146.2096551724138, 'X[81] <= 0.5\\ngini = 0.016\\nsamples = 127\\nvalue = [126, 1]'),\n",
       " Text(22.12648235540612, 138.71172413793101, 'gini = 0.0\\nsamples = 110\\nvalue = [110, 0]'),\n",
       " Text(22.340264793622605, 138.71172413793101, 'X[55] <= 0.5\\ngini = 0.111\\nsamples = 17\\nvalue = [16, 1]'),\n",
       " Text(22.233373574514363, 131.21379310344827, 'gini = 0.0\\nsamples = 14\\nvalue = [14, 0]'),\n",
       " Text(22.447156012730847, 131.21379310344827, 'X[59] <= 0.5\\ngini = 0.444\\nsamples = 3\\nvalue = [2, 1]'),\n",
       " Text(22.340264793622605, 123.71586206896552, 'gini = 0.0\\nsamples = 2\\nvalue = [2, 0]'),\n",
       " Text(22.55404723183909, 123.71586206896552, 'gini = 0.0\\nsamples = 1\\nvalue = [0, 1]'),\n",
       " Text(22.874720889163818, 146.2096551724138, 'X[91] <= 0.5\\ngini = 0.188\\nsamples = 19\\nvalue = [17, 2]'),\n",
       " Text(22.767829670055573, 138.71172413793101, 'gini = 0.0\\nsamples = 11\\nvalue = [11, 0]'),\n",
       " Text(22.98161210827206, 138.71172413793101, 'X[84] <= 0.5\\ngini = 0.375\\nsamples = 8\\nvalue = [6, 2]'),\n",
       " Text(22.874720889163818, 131.21379310344827, 'X[79] <= 0.5\\ngini = 0.245\\nsamples = 7\\nvalue = [6, 1]'),\n",
       " Text(22.767829670055573, 123.71586206896552, 'gini = 0.0\\nsamples = 5\\nvalue = [5, 0]'),\n",
       " Text(22.98161210827206, 123.71586206896552, 'X[75] <= 0.5\\ngini = 0.5\\nsamples = 2\\nvalue = [1, 1]'),\n",
       " Text(22.874720889163818, 116.21793103448276, 'gini = 0.0\\nsamples = 1\\nvalue = [0, 1]'),\n",
       " Text(23.0885033273803, 116.21793103448276, 'gini = 0.0\\nsamples = 1\\nvalue = [1, 0]'),\n",
       " Text(23.0885033273803, 131.21379310344827, 'gini = 0.0\\nsamples = 1\\nvalue = [0, 1]'),\n",
       " Text(26.515703040038314, 153.70758620689656, 'X[24] <= 0.5\\ngini = 0.161\\nsamples = 430\\nvalue = [392, 38]'),\n",
       " Text(25.07935228327131, 146.2096551724138, 'X[14] <= 0.5\\ngini = 0.104\\nsamples = 254\\nvalue = [240, 14]'),\n",
       " Text(24.291029542348024, 138.71172413793101, 'X[20] <= 1.5\\ngini = 0.082\\nsamples = 234\\nvalue = [224, 10]'),\n",
       " Text(23.729850642029753, 131.21379310344827, 'X[7] <= 0.5\\ngini = 0.187\\nsamples = 67\\nvalue = [60, 7]'),\n",
       " Text(23.409176984705027, 123.71586206896552, 'X[69] <= 0.5\\ngini = 0.04\\nsamples = 49\\nvalue = [48, 1]'),\n",
       " Text(23.302285765596785, 116.21793103448276, 'gini = 0.0\\nsamples = 46\\nvalue = [46, 0]'),\n",
       " Text(23.51606820381327, 116.21793103448276, 'X[45] <= 0.5\\ngini = 0.444\\nsamples = 3\\nvalue = [2, 1]'),\n",
       " Text(23.409176984705027, 108.72, 'gini = 0.0\\nsamples = 2\\nvalue = [2, 0]'),\n",
       " Text(23.62295942292151, 108.72, 'gini = 0.0\\nsamples = 1\\nvalue = [0, 1]'),\n",
       " Text(24.05052429935448, 123.71586206896552, 'X[81] <= 0.5\\ngini = 0.444\\nsamples = 18\\nvalue = [12, 6]'),\n",
       " Text(23.943633080246236, 116.21793103448276, 'X[28] <= 9.5\\ngini = 0.375\\nsamples = 16\\nvalue = [12, 4]'),\n",
       " Text(23.836741861137995, 108.72, 'X[76] <= 0.5\\ngini = 0.32\\nsamples = 15\\nvalue = [12, 3]'),\n",
       " Text(23.729850642029753, 101.22206896551724, 'X[45] <= 0.5\\ngini = 0.49\\nsamples = 7\\nvalue = [4, 3]'),\n",
       " Text(23.62295942292151, 93.72413793103449, 'gini = 0.0\\nsamples = 4\\nvalue = [4, 0]'),\n",
       " Text(23.836741861137995, 93.72413793103449, 'gini = 0.0\\nsamples = 3\\nvalue = [0, 3]'),\n",
       " Text(23.943633080246236, 101.22206896551724, 'gini = 0.0\\nsamples = 8\\nvalue = [8, 0]'),\n",
       " Text(24.05052429935448, 108.72, 'gini = 0.0\\nsamples = 1\\nvalue = [0, 1]'),\n",
       " Text(24.157415518462724, 116.21793103448276, 'gini = 0.0\\nsamples = 2\\nvalue = [0, 2]'),\n",
       " Text(24.852208442666296, 131.21379310344827, 'X[83] <= 0.5\\ngini = 0.035\\nsamples = 167\\nvalue = [164, 3]'),\n",
       " Text(24.58498039489569, 123.71586206896552, 'X[68] <= 0.5\\ngini = 0.025\\nsamples = 158\\nvalue = [156, 2]'),\n",
       " Text(24.371197956679207, 116.21793103448276, 'X[12] <= 0.5\\ngini = 0.013\\nsamples = 148\\nvalue = [147, 1]'),\n",
       " Text(24.264306737570966, 108.72, 'gini = 0.0\\nsamples = 129\\nvalue = [129, 0]'),\n",
       " Text(24.47808917578745, 108.72, 'X[78] <= 0.5\\ngini = 0.1\\nsamples = 19\\nvalue = [18, 1]'),\n",
       " Text(24.371197956679207, 101.22206896551724, 'gini = 0.0\\nsamples = 16\\nvalue = [16, 0]'),\n",
       " Text(24.58498039489569, 101.22206896551724, 'X[6] <= 0.5\\ngini = 0.444\\nsamples = 3\\nvalue = [2, 1]'),\n",
       " Text(24.47808917578745, 93.72413793103449, 'gini = 0.0\\nsamples = 1\\nvalue = [0, 1]'),\n",
       " Text(24.691871614003933, 93.72413793103449, 'gini = 0.0\\nsamples = 2\\nvalue = [2, 0]'),\n",
       " Text(24.798762833112175, 116.21793103448276, 'X[17] <= 3.0\\ngini = 0.18\\nsamples = 10\\nvalue = [9, 1]'),\n",
       " Text(24.691871614003933, 108.72, 'gini = 0.0\\nsamples = 9\\nvalue = [9, 0]'),\n",
       " Text(24.905654052220417, 108.72, 'gini = 0.0\\nsamples = 1\\nvalue = [0, 1]'),\n",
       " Text(25.1194364904369, 123.71586206896552, 'X[17] <= 1.5\\ngini = 0.198\\nsamples = 9\\nvalue = [8, 1]'),\n",
       " Text(25.01254527132866, 116.21793103448276, 'gini = 0.0\\nsamples = 1\\nvalue = [0, 1]'),\n",
       " Text(25.226327709545142, 116.21793103448276, 'gini = 0.0\\nsamples = 8\\nvalue = [8, 0]'),\n",
       " Text(25.867675024194597, 138.71172413793101, 'X[55] <= 0.5\\ngini = 0.32\\nsamples = 20\\nvalue = [16, 4]'),\n",
       " Text(25.653892585978113, 131.21379310344827, 'X[23] <= 2.0\\ngini = 0.133\\nsamples = 14\\nvalue = [13, 1]'),\n",
       " Text(25.54700136686987, 123.71586206896552, 'X[67] <= 0.5\\ngini = 0.5\\nsamples = 2\\nvalue = [1, 1]'),\n",
       " Text(25.44011014776163, 116.21793103448276, 'gini = 0.0\\nsamples = 1\\nvalue = [1, 0]'),\n",
       " Text(25.653892585978113, 116.21793103448276, 'gini = 0.0\\nsamples = 1\\nvalue = [0, 1]'),\n",
       " Text(25.760783805086355, 123.71586206896552, 'gini = 0.0\\nsamples = 12\\nvalue = [12, 0]'),\n",
       " Text(26.08145746241108, 131.21379310344827, 'X[66] <= 0.5\\ngini = 0.5\\nsamples = 6\\nvalue = [3, 3]'),\n",
       " Text(25.97456624330284, 123.71586206896552, 'gini = 0.0\\nsamples = 3\\nvalue = [3, 0]'),\n",
       " Text(26.188348681519322, 123.71586206896552, 'gini = 0.0\\nsamples = 3\\nvalue = [0, 3]'),\n",
       " Text(27.952053796805316, 146.2096551724138, 'X[20] <= 4.5\\ngini = 0.236\\nsamples = 176\\nvalue = [152, 24]'),\n",
       " Text(27.845162577697074, 138.71172413793101, 'X[32] <= 0.5\\ngini = 0.258\\nsamples = 158\\nvalue = [134, 24]'),\n",
       " Text(27.09692404393938, 131.21379310344827, 'X[45] <= 0.5\\ngini = 0.226\\nsamples = 131\\nvalue = [114, 17]'),\n",
       " Text(26.402131119735806, 123.71586206896552, 'X[54] <= 0.5\\ngini = 0.33\\nsamples = 48\\nvalue = [38, 10]'),\n",
       " Text(25.921120633748718, 116.21793103448276, 'X[2] <= 0.5\\ngini = 0.463\\nsamples = 22\\nvalue = [14, 8]'),\n",
       " Text(25.814229414640476, 108.72, 'gini = 0.0\\nsamples = 2\\nvalue = [0, 2]'),\n",
       " Text(26.02801185285696, 108.72, 'X[72] <= 0.5\\ngini = 0.42\\nsamples = 20\\nvalue = [14, 6]'),\n",
       " Text(25.921120633748718, 101.22206896551724, 'gini = 0.0\\nsamples = 6\\nvalue = [6, 0]'),\n",
       " Text(26.1349030719652, 101.22206896551724, 'X[33] <= 0.5\\ngini = 0.49\\nsamples = 14\\nvalue = [8, 6]'),\n",
       " Text(25.921120633748718, 93.72413793103449, 'X[6] <= 0.5\\ngini = 0.245\\nsamples = 7\\nvalue = [6, 1]'),\n",
       " Text(25.814229414640476, 86.22620689655173, 'gini = 0.0\\nsamples = 1\\nvalue = [0, 1]'),\n",
       " Text(26.02801185285696, 86.22620689655173, 'gini = 0.0\\nsamples = 6\\nvalue = [6, 0]'),\n",
       " Text(26.348685510181685, 93.72413793103449, 'X[79] <= 0.5\\ngini = 0.408\\nsamples = 7\\nvalue = [2, 5]'),\n",
       " Text(26.241794291073443, 86.22620689655173, 'gini = 0.0\\nsamples = 5\\nvalue = [0, 5]'),\n",
       " Text(26.455576729289927, 86.22620689655173, 'gini = 0.0\\nsamples = 2\\nvalue = [2, 0]'),\n",
       " Text(26.883141605722898, 116.21793103448276, 'X[28] <= 2.5\\ngini = 0.142\\nsamples = 26\\nvalue = [24, 2]'),\n",
       " Text(26.776250386614656, 108.72, 'X[99] <= 0.5\\ngini = 0.408\\nsamples = 7\\nvalue = [5, 2]'),\n",
       " Text(26.66935916750641, 101.22206896551724, 'X[41] <= 0.5\\ngini = 0.278\\nsamples = 6\\nvalue = [5, 1]'),\n",
       " Text(26.56246794839817, 93.72413793103449, 'gini = 0.0\\nsamples = 4\\nvalue = [4, 0]'),\n",
       " Text(26.776250386614656, 93.72413793103449, 'X[16] <= 2.5\\ngini = 0.5\\nsamples = 2\\nvalue = [1, 1]'),\n",
       " Text(26.66935916750641, 86.22620689655173, 'gini = 0.0\\nsamples = 1\\nvalue = [0, 1]'),\n",
       " Text(26.883141605722898, 86.22620689655173, 'gini = 0.0\\nsamples = 1\\nvalue = [1, 0]'),\n",
       " Text(26.883141605722898, 101.22206896551724, 'gini = 0.0\\nsamples = 1\\nvalue = [0, 1]'),\n",
       " Text(26.99003282483114, 108.72, 'gini = 0.0\\nsamples = 19\\nvalue = [19, 0]'),\n",
       " Text(27.791716968142953, 123.71586206896552, 'X[17] <= 4.5\\ngini = 0.154\\nsamples = 83\\nvalue = [76, 7]'),\n",
       " Text(27.68482574903471, 116.21793103448276, 'X[84] <= 0.5\\ngini = 0.136\\nsamples = 82\\nvalue = [76, 6]'),\n",
       " Text(27.417597701264107, 108.72, 'X[1] <= 2.5\\ngini = 0.117\\nsamples = 80\\nvalue = [75, 5]'),\n",
       " Text(27.203815263047623, 101.22206896551724, 'X[88] <= 0.5\\ngini = 0.098\\nsamples = 77\\nvalue = [73, 4]'),\n",
       " Text(27.09692404393938, 93.72413793103449, 'gini = 0.0\\nsamples = 42\\nvalue = [42, 0]'),\n",
       " Text(27.310706482155865, 93.72413793103449, 'X[61] <= 0.5\\ngini = 0.202\\nsamples = 35\\nvalue = [31, 4]'),\n",
       " Text(27.09692404393938, 86.22620689655173, 'X[14] <= 0.5\\ngini = 0.074\\nsamples = 26\\nvalue = [25, 1]'),\n",
       " Text(26.99003282483114, 78.72827586206895, 'gini = 0.0\\nsamples = 24\\nvalue = [24, 0]'),\n",
       " Text(27.203815263047623, 78.72827586206895, 'X[4] <= 0.5\\ngini = 0.5\\nsamples = 2\\nvalue = [1, 1]'),\n",
       " Text(27.09692404393938, 71.23034482758621, 'gini = 0.0\\nsamples = 1\\nvalue = [1, 0]'),\n",
       " Text(27.310706482155865, 71.23034482758621, 'gini = 0.0\\nsamples = 1\\nvalue = [0, 1]'),\n",
       " Text(27.52448892037235, 86.22620689655173, 'X[9] <= 0.5\\ngini = 0.444\\nsamples = 9\\nvalue = [6, 3]'),\n",
       " Text(27.417597701264107, 78.72827586206895, 'gini = 0.0\\nsamples = 4\\nvalue = [4, 0]'),\n",
       " Text(27.63138013948059, 78.72827586206895, 'X[23] <= 2.5\\ngini = 0.48\\nsamples = 5\\nvalue = [2, 3]'),\n",
       " Text(27.52448892037235, 71.23034482758621, 'gini = 0.0\\nsamples = 2\\nvalue = [2, 0]'),\n",
       " Text(27.738271358588833, 71.23034482758621, 'gini = 0.0\\nsamples = 3\\nvalue = [0, 3]'),\n",
       " Text(27.63138013948059, 101.22206896551724, 'X[41] <= 0.5\\ngini = 0.444\\nsamples = 3\\nvalue = [2, 1]'),\n",
       " Text(27.52448892037235, 93.72413793103449, 'gini = 0.0\\nsamples = 2\\nvalue = [2, 0]'),\n",
       " Text(27.738271358588833, 93.72413793103449, 'gini = 0.0\\nsamples = 1\\nvalue = [0, 1]'),\n",
       " Text(27.952053796805316, 108.72, 'X[54] <= 0.5\\ngini = 0.5\\nsamples = 2\\nvalue = [1, 1]'),\n",
       " Text(27.845162577697074, 101.22206896551724, 'gini = 0.0\\nsamples = 1\\nvalue = [0, 1]'),\n",
       " Text(28.05894501591356, 101.22206896551724, 'gini = 0.0\\nsamples = 1\\nvalue = [1, 0]'),\n",
       " Text(27.898608187251195, 116.21793103448276, 'gini = 0.0\\nsamples = 1\\nvalue = [0, 1]'),\n",
       " Text(28.59340111145477, 131.21379310344827, 'X[7] <= 0.5\\ngini = 0.384\\nsamples = 27\\nvalue = [20, 7]'),\n",
       " Text(28.379618673238287, 123.71586206896552, 'X[78] <= 0.5\\ngini = 0.287\\nsamples = 23\\nvalue = [19, 4]'),\n",
       " Text(28.272727454130045, 116.21793103448276, 'X[4] <= 0.5\\ngini = 0.236\\nsamples = 22\\nvalue = [19, 3]'),\n",
       " Text(28.165836235021803, 108.72, 'gini = 0.0\\nsamples = 15\\nvalue = [15, 0]'),\n",
       " Text(28.379618673238287, 108.72, 'X[64] <= 0.5\\ngini = 0.49\\nsamples = 7\\nvalue = [4, 3]'),\n",
       " Text(28.272727454130045, 101.22206896551724, 'X[22] <= 3.5\\ngini = 0.375\\nsamples = 4\\nvalue = [1, 3]'),\n",
       " Text(28.165836235021803, 93.72413793103449, 'gini = 0.0\\nsamples = 3\\nvalue = [0, 3]'),\n",
       " Text(28.379618673238287, 93.72413793103449, 'gini = 0.0\\nsamples = 1\\nvalue = [1, 0]'),\n",
       " Text(28.48650989234653, 101.22206896551724, 'gini = 0.0\\nsamples = 3\\nvalue = [3, 0]'),\n",
       " Text(28.48650989234653, 116.21793103448276, 'gini = 0.0\\nsamples = 1\\nvalue = [0, 1]'),\n",
       " Text(28.807183549671254, 123.71586206896552, 'X[25] <= 0.5\\ngini = 0.375\\nsamples = 4\\nvalue = [1, 3]'),\n",
       " Text(28.700292330563013, 116.21793103448276, 'gini = 0.0\\nsamples = 1\\nvalue = [1, 0]'),\n",
       " Text(28.914074768779496, 116.21793103448276, 'gini = 0.0\\nsamples = 3\\nvalue = [0, 3]'),\n",
       " Text(28.05894501591356, 138.71172413793101, 'gini = 0.0\\nsamples = 18\\nvalue = [18, 0]'),\n",
       " Text(60.3549420888665, 161.2055172413793, 'X[14] <= 0.5\\ngini = 0.262\\nsamples = 2221\\nvalue = [1877, 344]'),\n",
       " Text(49.253104203873136, 153.70758620689656, 'X[20] <= 1.5\\ngini = 0.25\\nsamples = 2076\\nvalue = [1772, 304]'),\n",
       " Text(39.434613360404676, 146.2096551724138, 'X[28] <= 5.5\\ngini = 0.299\\nsamples = 765\\nvalue = [625, 140]'),\n",
       " Text(35.74571805565256, 138.71172413793101, 'X[18] <= 3.5\\ngini = 0.335\\nsamples = 484\\nvalue = [381, 103]'),\n",
       " Text(34.00309890351096, 131.21379310344827, 'X[42] <= 0.5\\ngini = 0.057\\nsamples = 34\\nvalue = [33, 1]'),\n",
       " Text(33.89620768440272, 123.71586206896552, 'gini = 0.0\\nsamples = 31\\nvalue = [31, 0]'),\n",
       " Text(34.1099901226192, 123.71586206896552, 'X[31] <= 0.5\\ngini = 0.444\\nsamples = 3\\nvalue = [2, 1]'),\n",
       " Text(34.00309890351096, 116.21793103448276, 'gini = 0.0\\nsamples = 1\\nvalue = [0, 1]'),\n",
       " Text(34.216881341727444, 116.21793103448276, 'gini = 0.0\\nsamples = 2\\nvalue = [2, 0]'),\n",
       " Text(37.48833720779415, 131.21379310344827, 'X[47] <= 0.5\\ngini = 0.351\\nsamples = 450\\nvalue = [348, 102]'),\n",
       " Text(36.094993464965235, 123.71586206896552, 'X[23] <= 3.5\\ngini = 0.336\\nsamples = 421\\nvalue = [331, 90]'),\n",
       " Text(34.430663779943934, 116.21793103448276, 'X[92] <= 0.5\\ngini = 0.322\\nsamples = 396\\nvalue = [316, 80]'),\n",
       " Text(31.970495565155794, 108.72, 'X[26] <= 0.5\\ngini = 0.341\\nsamples = 363\\nvalue = [284, 79]'),\n",
       " Text(28.914074768779496, 101.22206896551724, 'X[2] <= 1.5\\ngini = 0.168\\nsamples = 54\\nvalue = [49, 5]'),\n",
       " Text(28.59340111145477, 93.72413793103449, 'X[102] <= 0.5\\ngini = 0.054\\nsamples = 36\\nvalue = [35, 1]'),\n",
       " Text(28.48650989234653, 86.22620689655173, 'gini = 0.0\\nsamples = 34\\nvalue = [34, 0]'),\n",
       " Text(28.700292330563013, 86.22620689655173, 'X[28] <= 2.5\\ngini = 0.5\\nsamples = 2\\nvalue = [1, 1]'),\n",
       " Text(28.59340111145477, 78.72827586206895, 'gini = 0.0\\nsamples = 1\\nvalue = [1, 0]'),\n",
       " Text(28.807183549671254, 78.72827586206895, 'gini = 0.0\\nsamples = 1\\nvalue = [0, 1]'),\n",
       " Text(29.234748426104222, 93.72413793103449, 'X[62] <= 0.5\\ngini = 0.346\\nsamples = 18\\nvalue = [14, 4]'),\n",
       " Text(29.12785720699598, 86.22620689655173, 'X[75] <= 0.5\\ngini = 0.219\\nsamples = 16\\nvalue = [14, 2]'),\n",
       " Text(29.020965987887738, 78.72827586206895, 'gini = 0.0\\nsamples = 10\\nvalue = [10, 0]'),\n",
       " Text(29.234748426104222, 78.72827586206895, 'X[31] <= 1.5\\ngini = 0.444\\nsamples = 6\\nvalue = [4, 2]'),\n",
       " Text(29.12785720699598, 71.23034482758621, 'X[78] <= 0.5\\ngini = 0.444\\nsamples = 3\\nvalue = [1, 2]'),\n",
       " Text(29.020965987887738, 63.73241379310346, 'gini = 0.0\\nsamples = 2\\nvalue = [0, 2]'),\n",
       " Text(29.234748426104222, 63.73241379310346, 'gini = 0.0\\nsamples = 1\\nvalue = [1, 0]'),\n",
       " Text(29.341639645212467, 71.23034482758621, 'gini = 0.0\\nsamples = 3\\nvalue = [3, 0]'),\n",
       " Text(29.341639645212467, 86.22620689655173, 'gini = 0.0\\nsamples = 2\\nvalue = [0, 2]'),\n",
       " Text(35.026916361532095, 101.22206896551724, 'X[75] <= 0.5\\ngini = 0.364\\nsamples = 309\\nvalue = [235, 74]'),\n",
       " Text(33.376783166548606, 93.72413793103449, 'X[61] <= 0.5\\ngini = 0.334\\nsamples = 250\\nvalue = [197, 53]'),\n",
       " Text(31.947113110975867, 86.22620689655173, 'X[25] <= 0.5\\ngini = 0.293\\nsamples = 191\\nvalue = [157, 34]'),\n",
       " Text(31.158790370052582, 78.72827586206895, 'X[8] <= 0.5\\ngini = 0.328\\nsamples = 155\\nvalue = [123, 32]'),\n",
       " Text(30.223492202855464, 71.23034482758621, 'X[33] <= 0.5\\ngini = 0.283\\nsamples = 123\\nvalue = [102, 21]'),\n",
       " Text(29.44853086432071, 63.73241379310346, 'X[46] <= 0.5\\ngini = 0.219\\nsamples = 72\\nvalue = [63, 9]'),\n",
       " Text(29.341639645212467, 56.234482758620686, 'X[31] <= 1.5\\ngini = 0.2\\nsamples = 71\\nvalue = [63, 8]'),\n",
       " Text(28.94079757355656, 48.73655172413794, 'X[5] <= 0.5\\ngini = 0.117\\nsamples = 48\\nvalue = [45, 3]'),\n",
       " Text(28.673569525785954, 41.238620689655164, 'X[10] <= 0.5\\ngini = 0.083\\nsamples = 46\\nvalue = [44, 2]'),\n",
       " Text(28.459787087569467, 33.74068965517242, 'X[35] <= 0.5\\ngini = 0.044\\nsamples = 44\\nvalue = [43, 1]'),\n",
       " Text(28.352895868461225, 26.24275862068967, 'gini = 0.0\\nsamples = 39\\nvalue = [39, 0]'),\n",
       " Text(28.56667830667771, 26.24275862068967, 'X[24] <= 0.5\\ngini = 0.32\\nsamples = 5\\nvalue = [4, 1]'),\n",
       " Text(28.459787087569467, 18.744827586206895, 'gini = 0.0\\nsamples = 1\\nvalue = [0, 1]'),\n",
       " Text(28.673569525785954, 18.744827586206895, 'gini = 0.0\\nsamples = 4\\nvalue = [4, 0]'),\n",
       " Text(28.887351964002438, 33.74068965517242, 'X[59] <= 0.5\\ngini = 0.5\\nsamples = 2\\nvalue = [1, 1]'),\n",
       " Text(28.780460744894196, 26.24275862068967, 'gini = 0.0\\nsamples = 1\\nvalue = [0, 1]'),\n",
       " Text(28.99424318311068, 26.24275862068967, 'gini = 0.0\\nsamples = 1\\nvalue = [1, 0]'),\n",
       " Text(29.208025621327163, 41.238620689655164, 'X[88] <= 0.5\\ngini = 0.5\\nsamples = 2\\nvalue = [1, 1]'),\n",
       " Text(29.10113440221892, 33.74068965517242, 'gini = 0.0\\nsamples = 1\\nvalue = [1, 0]'),\n",
       " Text(29.314916840435405, 33.74068965517242, 'gini = 0.0\\nsamples = 1\\nvalue = [0, 1]'),\n",
       " Text(29.742481716868372, 48.73655172413794, 'X[39] <= 0.5\\ngini = 0.34\\nsamples = 23\\nvalue = [18, 5]'),\n",
       " Text(29.63559049776013, 41.238620689655164, 'X[3] <= 0.5\\ngini = 0.298\\nsamples = 22\\nvalue = [18, 4]'),\n",
       " Text(29.52869927865189, 33.74068965517242, 'X[74] <= 0.5\\ngini = 0.245\\nsamples = 21\\nvalue = [18, 3]'),\n",
       " Text(29.421808059543647, 26.24275862068967, 'X[4] <= 0.5\\ngini = 0.18\\nsamples = 20\\nvalue = [18, 2]'),\n",
       " Text(29.314916840435405, 18.744827586206895, 'X[81] <= 0.5\\ngini = 0.408\\nsamples = 7\\nvalue = [5, 2]'),\n",
       " Text(29.208025621327163, 11.246896551724149, 'X[16] <= 1.5\\ngini = 0.444\\nsamples = 3\\nvalue = [1, 2]'),\n",
       " Text(29.10113440221892, 3.7489655172413734, 'gini = 0.0\\nsamples = 1\\nvalue = [1, 0]'),\n",
       " Text(29.314916840435405, 3.7489655172413734, 'gini = 0.0\\nsamples = 2\\nvalue = [0, 2]'),\n",
       " Text(29.421808059543647, 11.246896551724149, 'gini = 0.0\\nsamples = 4\\nvalue = [4, 0]'),\n",
       " Text(29.52869927865189, 18.744827586206895, 'gini = 0.0\\nsamples = 13\\nvalue = [13, 0]'),\n",
       " Text(29.63559049776013, 26.24275862068967, 'gini = 0.0\\nsamples = 1\\nvalue = [0, 1]'),\n",
       " Text(29.742481716868372, 33.74068965517242, 'gini = 0.0\\nsamples = 1\\nvalue = [0, 1]'),\n",
       " Text(29.849372935976614, 41.238620689655164, 'gini = 0.0\\nsamples = 1\\nvalue = [0, 1]'),\n",
       " Text(29.55542208342895, 56.234482758620686, 'gini = 0.0\\nsamples = 1\\nvalue = [0, 1]'),\n",
       " Text(30.99845354139022, 63.73241379310346, 'X[94] <= 0.5\\ngini = 0.36\\nsamples = 51\\nvalue = [39, 12]'),\n",
       " Text(30.54416586018019, 56.234482758620686, 'X[79] <= 0.5\\ngini = 0.219\\nsamples = 24\\nvalue = [21, 3]'),\n",
       " Text(30.276937812409585, 48.73655172413794, 'X[40] <= 0.5\\ngini = 0.165\\nsamples = 22\\nvalue = [20, 2]'),\n",
       " Text(30.0631553741931, 41.238620689655164, 'X[31] <= 2.5\\ngini = 0.095\\nsamples = 20\\nvalue = [19, 1]'),\n",
       " Text(29.956264155084856, 33.74068965517242, 'gini = 0.0\\nsamples = 14\\nvalue = [14, 0]'),\n",
       " Text(30.170046593301343, 33.74068965517242, 'X[77] <= 0.5\\ngini = 0.278\\nsamples = 6\\nvalue = [5, 1]'),\n",
       " Text(30.0631553741931, 26.24275862068967, 'gini = 0.0\\nsamples = 5\\nvalue = [5, 0]'),\n",
       " Text(30.276937812409585, 26.24275862068967, 'gini = 0.0\\nsamples = 1\\nvalue = [0, 1]'),\n",
       " Text(30.49072025062607, 41.238620689655164, 'X[31] <= 1.5\\ngini = 0.5\\nsamples = 2\\nvalue = [1, 1]'),\n",
       " Text(30.383829031517827, 33.74068965517242, 'gini = 0.0\\nsamples = 1\\nvalue = [0, 1]'),\n",
       " Text(30.59761146973431, 33.74068965517242, 'gini = 0.0\\nsamples = 1\\nvalue = [1, 0]'),\n",
       " Text(30.811393907950794, 48.73655172413794, 'X[29] <= 2.5\\ngini = 0.5\\nsamples = 2\\nvalue = [1, 1]'),\n",
       " Text(30.704502688842553, 41.238620689655164, 'gini = 0.0\\nsamples = 1\\nvalue = [1, 0]'),\n",
       " Text(30.918285127059036, 41.238620689655164, 'gini = 0.0\\nsamples = 1\\nvalue = [0, 1]'),\n",
       " Text(31.45274122260025, 56.234482758620686, 'X[9] <= 0.5\\ngini = 0.444\\nsamples = 27\\nvalue = [18, 9]'),\n",
       " Text(31.23895878438376, 48.73655172413794, 'X[37] <= 0.5\\ngini = 0.245\\nsamples = 14\\nvalue = [12, 2]'),\n",
       " Text(31.13206756527552, 41.238620689655164, 'X[6] <= 0.5\\ngini = 0.444\\nsamples = 6\\nvalue = [4, 2]'),\n",
       " Text(31.025176346167278, 33.74068965517242, 'X[60] <= 0.5\\ngini = 0.444\\nsamples = 3\\nvalue = [1, 2]'),\n",
       " Text(30.918285127059036, 26.24275862068967, 'gini = 0.0\\nsamples = 1\\nvalue = [1, 0]'),\n",
       " Text(31.13206756527552, 26.24275862068967, 'gini = 0.0\\nsamples = 2\\nvalue = [0, 2]'),\n",
       " Text(31.23895878438376, 33.74068965517242, 'gini = 0.0\\nsamples = 3\\nvalue = [3, 0]'),\n",
       " Text(31.345850003492007, 41.238620689655164, 'gini = 0.0\\nsamples = 8\\nvalue = [8, 0]'),\n",
       " Text(31.666523660816733, 48.73655172413794, 'X[77] <= 0.5\\ngini = 0.497\\nsamples = 13\\nvalue = [6, 7]'),\n",
       " Text(31.55963244170849, 41.238620689655164, 'X[23] <= 2.0\\ngini = 0.42\\nsamples = 10\\nvalue = [3, 7]'),\n",
       " Text(31.45274122260025, 33.74068965517242, 'gini = 0.0\\nsamples = 1\\nvalue = [1, 0]'),\n",
       " Text(31.666523660816733, 33.74068965517242, 'X[101] <= 0.5\\ngini = 0.346\\nsamples = 9\\nvalue = [2, 7]'),\n",
       " Text(31.55963244170849, 26.24275862068967, 'X[21] <= 3.0\\ngini = 0.219\\nsamples = 8\\nvalue = [1, 7]'),\n",
       " Text(31.45274122260025, 18.744827586206895, 'gini = 0.0\\nsamples = 5\\nvalue = [0, 5]'),\n",
       " Text(31.666523660816733, 18.744827586206895, 'X[81] <= 0.5\\ngini = 0.444\\nsamples = 3\\nvalue = [1, 2]'),\n",
       " Text(31.55963244170849, 11.246896551724149, 'gini = 0.0\\nsamples = 1\\nvalue = [0, 1]'),\n",
       " Text(31.773414879924974, 11.246896551724149, 'X[66] <= 0.5\\ngini = 0.5\\nsamples = 2\\nvalue = [1, 1]'),\n",
       " Text(31.666523660816733, 3.7489655172413734, 'gini = 0.0\\nsamples = 1\\nvalue = [1, 0]'),\n",
       " Text(31.880306099033216, 3.7489655172413734, 'gini = 0.0\\nsamples = 1\\nvalue = [0, 1]'),\n",
       " Text(31.773414879924974, 26.24275862068967, 'gini = 0.0\\nsamples = 1\\nvalue = [1, 0]'),\n",
       " Text(31.773414879924974, 41.238620689655164, 'gini = 0.0\\nsamples = 3\\nvalue = [3, 0]'),\n",
       " Text(32.094088537249704, 71.23034482758621, 'X[67] <= 0.5\\ngini = 0.451\\nsamples = 32\\nvalue = [21, 11]'),\n",
       " Text(31.880306099033216, 63.73241379310346, 'X[96] <= 0.5\\ngini = 0.375\\nsamples = 8\\nvalue = [2, 6]'),\n",
       " Text(31.773414879924974, 56.234482758620686, 'gini = 0.0\\nsamples = 5\\nvalue = [0, 5]'),\n",
       " Text(31.987197318141458, 56.234482758620686, 'X[24] <= 0.5\\ngini = 0.444\\nsamples = 3\\nvalue = [2, 1]'),\n",
       " Text(31.880306099033216, 48.73655172413794, 'gini = 0.0\\nsamples = 2\\nvalue = [2, 0]'),\n",
       " Text(32.094088537249704, 48.73655172413794, 'gini = 0.0\\nsamples = 1\\nvalue = [0, 1]'),\n",
       " Text(32.30787097546619, 63.73241379310346, 'X[37] <= 0.5\\ngini = 0.33\\nsamples = 24\\nvalue = [19, 5]'),\n",
       " Text(32.200979756357945, 56.234482758620686, 'gini = 0.0\\nsamples = 11\\nvalue = [11, 0]'),\n",
       " Text(32.41476219457443, 56.234482758620686, 'X[4] <= 0.5\\ngini = 0.473\\nsamples = 13\\nvalue = [8, 5]'),\n",
       " Text(32.30787097546619, 48.73655172413794, 'gini = 0.0\\nsamples = 3\\nvalue = [0, 3]'),\n",
       " Text(32.52165341368267, 48.73655172413794, 'X[7] <= 0.5\\ngini = 0.32\\nsamples = 10\\nvalue = [8, 2]'),\n",
       " Text(32.41476219457443, 41.238620689655164, 'X[78] <= 0.5\\ngini = 0.444\\nsamples = 3\\nvalue = [1, 2]'),\n",
       " Text(32.30787097546619, 33.74068965517242, 'gini = 0.0\\nsamples = 2\\nvalue = [0, 2]'),\n",
       " Text(32.52165341368267, 33.74068965517242, 'gini = 0.0\\nsamples = 1\\nvalue = [1, 0]'),\n",
       " Text(32.62854463279091, 41.238620689655164, 'gini = 0.0\\nsamples = 7\\nvalue = [7, 0]'),\n",
       " Text(32.735435851899155, 78.72827586206895, 'X[22] <= 3.5\\ngini = 0.105\\nsamples = 36\\nvalue = [34, 2]'),\n",
       " Text(32.62854463279091, 71.23034482758621, 'gini = 0.0\\nsamples = 21\\nvalue = [21, 0]'),\n",
       " Text(32.8423270710074, 71.23034482758621, 'X[99] <= 0.5\\ngini = 0.231\\nsamples = 15\\nvalue = [13, 2]'),\n",
       " Text(32.735435851899155, 63.73241379310346, 'gini = 0.0\\nsamples = 8\\nvalue = [8, 0]'),\n",
       " Text(32.94921829011564, 63.73241379310346, 'X[88] <= 0.5\\ngini = 0.408\\nsamples = 7\\nvalue = [5, 2]'),\n",
       " Text(32.8423270710074, 56.234482758620686, 'X[9] <= 0.5\\ngini = 0.278\\nsamples = 6\\nvalue = [5, 1]'),\n",
       " Text(32.735435851899155, 48.73655172413794, 'gini = 0.0\\nsamples = 4\\nvalue = [4, 0]'),\n",
       " Text(32.94921829011564, 48.73655172413794, 'X[77] <= 0.5\\ngini = 0.5\\nsamples = 2\\nvalue = [1, 1]'),\n",
       " Text(32.8423270710074, 41.238620689655164, 'gini = 0.0\\nsamples = 1\\nvalue = [0, 1]'),\n",
       " Text(33.05610950922388, 41.238620689655164, 'gini = 0.0\\nsamples = 1\\nvalue = [1, 0]'),\n",
       " Text(33.05610950922388, 56.234482758620686, 'gini = 0.0\\nsamples = 1\\nvalue = [0, 1]'),\n",
       " Text(34.80645322212134, 86.22620689655173, 'X[44] <= 0.5\\ngini = 0.437\\nsamples = 59\\nvalue = [40, 19]'),\n",
       " Text(34.312081333745724, 78.72827586206895, 'X[39] <= 0.5\\ngini = 0.351\\nsamples = 44\\nvalue = [34, 10]'),\n",
       " Text(34.20519011463748, 71.23034482758621, 'X[102] <= 0.5\\ngini = 0.331\\nsamples = 43\\nvalue = [34, 9]'),\n",
       " Text(34.09829889552924, 63.73241379310346, 'X[65] <= 0.5\\ngini = 0.308\\nsamples = 42\\nvalue = [34, 8]'),\n",
       " Text(33.750902433427456, 56.234482758620686, 'X[80] <= 0.5\\ngini = 0.245\\nsamples = 35\\nvalue = [30, 5]'),\n",
       " Text(33.376783166548606, 48.73655172413794, 'X[78] <= 0.5\\ngini = 0.142\\nsamples = 26\\nvalue = [24, 2]'),\n",
       " Text(33.269891947440364, 41.238620689655164, 'gini = 0.0\\nsamples = 15\\nvalue = [15, 0]'),\n",
       " Text(33.48367438565685, 41.238620689655164, 'X[90] <= 0.5\\ngini = 0.298\\nsamples = 11\\nvalue = [9, 2]'),\n",
       " Text(33.269891947440364, 33.74068965517242, 'X[38] <= 0.5\\ngini = 0.198\\nsamples = 9\\nvalue = [8, 1]'),\n",
       " Text(33.16300072833212, 26.24275862068967, 'gini = 0.0\\nsamples = 6\\nvalue = [6, 0]'),\n",
       " Text(33.376783166548606, 26.24275862068967, 'X[29] <= 2.5\\ngini = 0.444\\nsamples = 3\\nvalue = [2, 1]'),\n",
       " Text(33.269891947440364, 18.744827586206895, 'gini = 0.0\\nsamples = 1\\nvalue = [0, 1]'),\n",
       " Text(33.48367438565685, 18.744827586206895, 'gini = 0.0\\nsamples = 2\\nvalue = [2, 0]'),\n",
       " Text(33.69745682387333, 33.74068965517242, 'X[9] <= 0.5\\ngini = 0.5\\nsamples = 2\\nvalue = [1, 1]'),\n",
       " Text(33.59056560476509, 26.24275862068967, 'gini = 0.0\\nsamples = 1\\nvalue = [0, 1]'),\n",
       " Text(33.80434804298157, 26.24275862068967, 'gini = 0.0\\nsamples = 1\\nvalue = [1, 0]'),\n",
       " Text(34.1250217003063, 48.73655172413794, 'X[4] <= 0.5\\ngini = 0.444\\nsamples = 9\\nvalue = [6, 3]'),\n",
       " Text(34.01813048119806, 41.238620689655164, 'gini = 0.0\\nsamples = 4\\nvalue = [4, 0]'),\n",
       " Text(34.23191291941454, 41.238620689655164, 'X[66] <= 0.5\\ngini = 0.48\\nsamples = 5\\nvalue = [2, 3]'),\n",
       " Text(34.1250217003063, 33.74068965517242, 'X[30] <= 0.5\\ngini = 0.444\\nsamples = 3\\nvalue = [2, 1]'),\n",
       " Text(34.01813048119806, 26.24275862068967, 'gini = 0.0\\nsamples = 1\\nvalue = [0, 1]'),\n",
       " Text(34.23191291941454, 26.24275862068967, 'gini = 0.0\\nsamples = 2\\nvalue = [2, 0]'),\n",
       " Text(34.33880413852278, 33.74068965517242, 'gini = 0.0\\nsamples = 2\\nvalue = [0, 2]'),\n",
       " Text(34.445695357631024, 56.234482758620686, 'X[79] <= 0.5\\ngini = 0.49\\nsamples = 7\\nvalue = [4, 3]'),\n",
       " Text(34.33880413852278, 48.73655172413794, 'gini = 0.0\\nsamples = 3\\nvalue = [3, 0]'),\n",
       " Text(34.55258657673927, 48.73655172413794, 'X[25] <= 0.5\\ngini = 0.375\\nsamples = 4\\nvalue = [1, 3]'),\n",
       " Text(34.445695357631024, 41.238620689655164, 'gini = 0.0\\nsamples = 2\\nvalue = [0, 2]'),\n",
       " Text(34.659477795847515, 41.238620689655164, 'X[38] <= 0.5\\ngini = 0.5\\nsamples = 2\\nvalue = [1, 1]'),\n",
       " Text(34.55258657673927, 33.74068965517242, 'gini = 0.0\\nsamples = 1\\nvalue = [1, 0]'),\n",
       " Text(34.76636901495576, 33.74068965517242, 'gini = 0.0\\nsamples = 1\\nvalue = [0, 1]'),\n",
       " Text(34.312081333745724, 63.73241379310346, 'gini = 0.0\\nsamples = 1\\nvalue = [0, 1]'),\n",
       " Text(34.418972552853965, 71.23034482758621, 'gini = 0.0\\nsamples = 1\\nvalue = [0, 1]'),\n",
       " Text(35.300825110496966, 78.72827586206895, 'X[17] <= 1.5\\ngini = 0.48\\nsamples = 15\\nvalue = [6, 9]'),\n",
       " Text(35.193933891388724, 71.23034482758621, 'X[95] <= 0.5\\ngini = 0.496\\nsamples = 11\\nvalue = [6, 5]'),\n",
       " Text(35.08704267228048, 63.73241379310346, 'X[42] <= 0.5\\ngini = 0.494\\nsamples = 9\\nvalue = [4, 5]'),\n",
       " Text(34.873260234064, 56.234482758620686, 'X[79] <= 0.5\\ngini = 0.375\\nsamples = 4\\nvalue = [3, 1]'),\n",
       " Text(34.76636901495576, 48.73655172413794, 'gini = 0.0\\nsamples = 3\\nvalue = [3, 0]'),\n",
       " Text(34.98015145317224, 48.73655172413794, 'gini = 0.0\\nsamples = 1\\nvalue = [0, 1]'),\n",
       " Text(35.300825110496966, 56.234482758620686, 'X[94] <= 0.5\\ngini = 0.32\\nsamples = 5\\nvalue = [1, 4]'),\n",
       " Text(35.193933891388724, 48.73655172413794, 'gini = 0.0\\nsamples = 1\\nvalue = [1, 0]'),\n",
       " Text(35.40771632960521, 48.73655172413794, 'gini = 0.0\\nsamples = 4\\nvalue = [0, 4]'),\n",
       " Text(35.300825110496966, 63.73241379310346, 'gini = 0.0\\nsamples = 2\\nvalue = [2, 0]'),\n",
       " Text(35.40771632960521, 71.23034482758621, 'gini = 0.0\\nsamples = 4\\nvalue = [0, 4]'),\n",
       " Text(36.677049556515584, 93.72413793103449, 'X[1] <= 1.5\\ngini = 0.458\\nsamples = 59\\nvalue = [38, 21]'),\n",
       " Text(36.0223408394776, 86.22620689655173, 'X[15] <= 2.5\\ngini = 0.36\\nsamples = 34\\nvalue = [26, 8]'),\n",
       " Text(35.72838998692993, 78.72827586206895, 'X[90] <= 0.5\\ngini = 0.444\\nsamples = 3\\nvalue = [1, 2]'),\n",
       " Text(35.62149876782169, 71.23034482758621, 'gini = 0.0\\nsamples = 2\\nvalue = [0, 2]'),\n",
       " Text(35.835281206038175, 71.23034482758621, 'gini = 0.0\\nsamples = 1\\nvalue = [1, 0]'),\n",
       " Text(36.31629169202527, 78.72827586206895, 'X[37] <= 0.5\\ngini = 0.312\\nsamples = 31\\nvalue = [25, 6]'),\n",
       " Text(36.04906364425466, 71.23034482758621, 'X[88] <= 0.5\\ngini = 0.444\\nsamples = 15\\nvalue = [10, 5]'),\n",
       " Text(35.835281206038175, 63.73241379310346, 'X[98] <= 0.5\\ngini = 0.198\\nsamples = 9\\nvalue = [8, 1]'),\n",
       " Text(35.72838998692993, 56.234482758620686, 'X[36] <= 0.5\\ngini = 0.5\\nsamples = 2\\nvalue = [1, 1]'),\n",
       " Text(35.62149876782169, 48.73655172413794, 'gini = 0.0\\nsamples = 1\\nvalue = [0, 1]'),\n",
       " Text(35.835281206038175, 48.73655172413794, 'gini = 0.0\\nsamples = 1\\nvalue = [1, 0]'),\n",
       " Text(35.94217242514642, 56.234482758620686, 'gini = 0.0\\nsamples = 7\\nvalue = [7, 0]'),\n",
       " Text(36.26284608247114, 63.73241379310346, 'X[22] <= 3.5\\ngini = 0.444\\nsamples = 6\\nvalue = [2, 4]'),\n",
       " Text(36.1559548633629, 56.234482758620686, 'X[16] <= 1.5\\ngini = 0.444\\nsamples = 3\\nvalue = [2, 1]'),\n",
       " Text(36.04906364425466, 48.73655172413794, 'X[17] <= 1.5\\ngini = 0.5\\nsamples = 2\\nvalue = [1, 1]'),\n",
       " Text(35.94217242514642, 41.238620689655164, 'gini = 0.0\\nsamples = 1\\nvalue = [0, 1]'),\n",
       " Text(36.1559548633629, 41.238620689655164, 'gini = 0.0\\nsamples = 1\\nvalue = [1, 0]'),\n",
       " Text(36.26284608247114, 48.73655172413794, 'gini = 0.0\\nsamples = 1\\nvalue = [1, 0]'),\n",
       " Text(36.369737301579384, 56.234482758620686, 'gini = 0.0\\nsamples = 3\\nvalue = [0, 3]'),\n",
       " Text(36.58351973979587, 71.23034482758621, 'X[12] <= 0.5\\ngini = 0.117\\nsamples = 16\\nvalue = [15, 1]'),\n",
       " Text(36.476628520687626, 63.73241379310346, 'gini = 0.0\\nsamples = 12\\nvalue = [12, 0]'),\n",
       " Text(36.69041095890411, 63.73241379310346, 'X[8] <= 0.5\\ngini = 0.375\\nsamples = 4\\nvalue = [3, 1]'),\n",
       " Text(36.58351973979587, 56.234482758620686, 'gini = 0.0\\nsamples = 3\\nvalue = [3, 0]'),\n",
       " Text(36.79730217801235, 56.234482758620686, 'gini = 0.0\\nsamples = 1\\nvalue = [0, 1]'),\n",
       " Text(37.33175827355357, 86.22620689655173, 'X[8] <= 0.5\\ngini = 0.499\\nsamples = 25\\nvalue = [12, 13]'),\n",
       " Text(37.11797583533708, 78.72827586206895, 'X[44] <= 0.5\\ngini = 0.488\\nsamples = 19\\nvalue = [11, 8]'),\n",
       " Text(37.011084616228835, 71.23034482758621, 'X[22] <= 2.5\\ngini = 0.457\\nsamples = 17\\nvalue = [11, 6]'),\n",
       " Text(36.90419339712059, 63.73241379310346, 'gini = 0.0\\nsamples = 4\\nvalue = [4, 0]'),\n",
       " Text(37.11797583533708, 63.73241379310346, 'X[4] <= 0.5\\ngini = 0.497\\nsamples = 13\\nvalue = [7, 6]'),\n",
       " Text(37.011084616228835, 56.234482758620686, 'gini = 0.0\\nsamples = 2\\nvalue = [0, 2]'),\n",
       " Text(37.224867054445326, 56.234482758620686, 'X[91] <= 0.5\\ngini = 0.463\\nsamples = 11\\nvalue = [7, 4]'),\n",
       " Text(37.11797583533708, 48.73655172413794, 'gini = 0.0\\nsamples = 3\\nvalue = [3, 0]'),\n",
       " Text(37.33175827355357, 48.73655172413794, 'X[28] <= 1.5\\ngini = 0.5\\nsamples = 8\\nvalue = [4, 4]'),\n",
       " Text(37.224867054445326, 41.238620689655164, 'gini = 0.0\\nsamples = 2\\nvalue = [2, 0]'),\n",
       " Text(37.43864949266181, 41.238620689655164, 'X[2] <= 1.5\\ngini = 0.444\\nsamples = 6\\nvalue = [2, 4]'),\n",
       " Text(37.33175827355357, 33.74068965517242, 'gini = 0.0\\nsamples = 3\\nvalue = [0, 3]'),\n",
       " Text(37.54554071177005, 33.74068965517242, 'X[88] <= 0.5\\ngini = 0.444\\nsamples = 3\\nvalue = [2, 1]'),\n",
       " Text(37.43864949266181, 26.24275862068967, 'gini = 0.0\\nsamples = 2\\nvalue = [2, 0]'),\n",
       " Text(37.65243193087829, 26.24275862068967, 'gini = 0.0\\nsamples = 1\\nvalue = [0, 1]'),\n",
       " Text(37.224867054445326, 71.23034482758621, 'gini = 0.0\\nsamples = 2\\nvalue = [0, 2]'),\n",
       " Text(37.54554071177005, 78.72827586206895, 'X[35] <= 0.5\\ngini = 0.278\\nsamples = 6\\nvalue = [1, 5]'),\n",
       " Text(37.43864949266181, 71.23034482758621, 'gini = 0.0\\nsamples = 5\\nvalue = [0, 5]'),\n",
       " Text(37.65243193087829, 71.23034482758621, 'gini = 0.0\\nsamples = 1\\nvalue = [1, 0]'),\n",
       " Text(36.89083199473207, 108.72, 'X[15] <= 4.5\\ngini = 0.059\\nsamples = 33\\nvalue = [32, 1]'),\n",
       " Text(36.783940775623826, 101.22206896551724, 'gini = 0.0\\nsamples = 30\\nvalue = [30, 0]'),\n",
       " Text(36.99772321384031, 101.22206896551724, 'X[67] <= 0.5\\ngini = 0.444\\nsamples = 3\\nvalue = [2, 1]'),\n",
       " Text(36.89083199473207, 93.72413793103449, 'gini = 0.0\\nsamples = 1\\nvalue = [0, 1]'),\n",
       " Text(37.10461443294855, 93.72413793103449, 'gini = 0.0\\nsamples = 2\\nvalue = [2, 0]'),\n",
       " Text(37.759323149986535, 116.21793103448276, 'X[16] <= 1.5\\ngini = 0.48\\nsamples = 25\\nvalue = [15, 10]'),\n",
       " Text(37.65243193087829, 108.72, 'gini = 0.0\\nsamples = 4\\nvalue = [0, 4]'),\n",
       " Text(37.86621436909478, 108.72, 'X[28] <= 4.5\\ngini = 0.408\\nsamples = 21\\nvalue = [15, 6]'),\n",
       " Text(37.65243193087829, 101.22206896551724, 'X[27] <= 1.5\\ngini = 0.231\\nsamples = 15\\nvalue = [13, 2]'),\n",
       " Text(37.54554071177005, 93.72413793103449, 'gini = 0.0\\nsamples = 1\\nvalue = [0, 1]'),\n",
       " Text(37.759323149986535, 93.72413793103449, 'X[31] <= 1.5\\ngini = 0.133\\nsamples = 14\\nvalue = [13, 1]'),\n",
       " Text(37.65243193087829, 86.22620689655173, 'gini = 0.0\\nsamples = 11\\nvalue = [11, 0]'),\n",
       " Text(37.86621436909478, 86.22620689655173, 'X[79] <= 0.5\\ngini = 0.444\\nsamples = 3\\nvalue = [2, 1]'),\n",
       " Text(37.759323149986535, 78.72827586206895, 'gini = 0.0\\nsamples = 1\\nvalue = [0, 1]'),\n",
       " Text(37.97310558820302, 78.72827586206895, 'gini = 0.0\\nsamples = 2\\nvalue = [2, 0]'),\n",
       " Text(38.07999680731126, 101.22206896551724, 'X[33] <= 0.5\\ngini = 0.444\\nsamples = 6\\nvalue = [2, 4]'),\n",
       " Text(37.97310558820302, 93.72413793103449, 'gini = 0.0\\nsamples = 4\\nvalue = [0, 4]'),\n",
       " Text(38.1868880264195, 93.72413793103449, 'gini = 0.0\\nsamples = 2\\nvalue = [2, 0]'),\n",
       " Text(38.88168095062308, 123.71586206896552, 'X[43] <= 0.5\\ngini = 0.485\\nsamples = 29\\nvalue = [17, 12]'),\n",
       " Text(38.61445290285247, 116.21793103448276, 'X[99] <= 0.5\\ngini = 0.423\\nsamples = 23\\nvalue = [16, 7]'),\n",
       " Text(38.400670464635986, 108.72, 'X[22] <= 1.5\\ngini = 0.231\\nsamples = 15\\nvalue = [13, 2]'),\n",
       " Text(38.293779245527745, 101.22206896551724, 'gini = 0.0\\nsamples = 1\\nvalue = [0, 1]'),\n",
       " Text(38.50756168374423, 101.22206896551724, 'X[21] <= 3.5\\ngini = 0.133\\nsamples = 14\\nvalue = [13, 1]'),\n",
       " Text(38.400670464635986, 93.72413793103449, 'gini = 0.0\\nsamples = 12\\nvalue = [12, 0]'),\n",
       " Text(38.61445290285247, 93.72413793103449, 'X[88] <= 0.5\\ngini = 0.5\\nsamples = 2\\nvalue = [1, 1]'),\n",
       " Text(38.50756168374423, 86.22620689655173, 'gini = 0.0\\nsamples = 1\\nvalue = [0, 1]'),\n",
       " Text(38.72134412196071, 86.22620689655173, 'gini = 0.0\\nsamples = 1\\nvalue = [1, 0]'),\n",
       " Text(38.828235341068954, 108.72, 'X[88] <= 0.5\\ngini = 0.469\\nsamples = 8\\nvalue = [3, 5]'),\n",
       " Text(38.72134412196071, 101.22206896551724, 'gini = 0.0\\nsamples = 4\\nvalue = [0, 4]'),\n",
       " Text(38.935126560177196, 101.22206896551724, 'X[28] <= 2.0\\ngini = 0.375\\nsamples = 4\\nvalue = [3, 1]'),\n",
       " Text(38.828235341068954, 93.72413793103449, 'gini = 0.0\\nsamples = 1\\nvalue = [0, 1]'),\n",
       " Text(39.04201777928544, 93.72413793103449, 'gini = 0.0\\nsamples = 3\\nvalue = [3, 0]'),\n",
       " Text(39.14890899839368, 116.21793103448276, 'X[97] <= 0.5\\ngini = 0.278\\nsamples = 6\\nvalue = [1, 5]'),\n",
       " Text(39.04201777928544, 108.72, 'gini = 0.0\\nsamples = 5\\nvalue = [0, 5]'),\n",
       " Text(39.25580021750192, 108.72, 'gini = 0.0\\nsamples = 1\\nvalue = [1, 0]'),\n",
       " Text(43.12350866515679, 138.71172413793101, 'X[3] <= 0.5\\ngini = 0.229\\nsamples = 281\\nvalue = [244, 37]'),\n",
       " Text(42.47506310548844, 131.21379310344827, 'X[21] <= 3.5\\ngini = 0.213\\nsamples = 273\\nvalue = [240, 33]'),\n",
       " Text(41.49884564347644, 123.71586206896552, 'X[15] <= 4.5\\ngini = 0.162\\nsamples = 213\\nvalue = [194, 19]'),\n",
       " Text(40.668768520088996, 116.21793103448276, 'X[30] <= 1.5\\ngini = 0.142\\nsamples = 195\\nvalue = [180, 15]'),\n",
       " Text(39.97063524528829, 108.72, 'X[15] <= 3.5\\ngini = 0.117\\nsamples = 160\\nvalue = [150, 10]'),\n",
       " Text(39.86374402618005, 101.22206896551724, 'gini = 0.0\\nsamples = 47\\nvalue = [47, 0]'),\n",
       " Text(40.077526464396534, 101.22206896551724, 'X[65] <= 0.5\\ngini = 0.161\\nsamples = 113\\nvalue = [103, 10]'),\n",
       " Text(39.32260722944457, 93.72413793103449, 'X[13] <= 0.5\\ngini = 0.121\\nsamples = 93\\nvalue = [87, 6]'),\n",
       " Text(38.935126560177196, 86.22620689655173, 'X[31] <= 0.5\\ngini = 0.106\\nsamples = 89\\nvalue = [84, 5]'),\n",
       " Text(38.48083887896717, 78.72827586206895, 'X[86] <= 0.5\\ngini = 0.043\\nsamples = 46\\nvalue = [45, 1]'),\n",
       " Text(38.37394765985893, 71.23034482758621, 'gini = 0.0\\nsamples = 39\\nvalue = [39, 0]'),\n",
       " Text(38.58773009807541, 71.23034482758621, 'X[34] <= 0.5\\ngini = 0.245\\nsamples = 7\\nvalue = [6, 1]'),\n",
       " Text(38.48083887896717, 63.73241379310346, 'gini = 0.0\\nsamples = 6\\nvalue = [6, 0]'),\n",
       " Text(38.69462131718365, 63.73241379310346, 'gini = 0.0\\nsamples = 1\\nvalue = [0, 1]'),\n",
       " Text(39.38941424138723, 78.72827586206895, 'X[4] <= 0.5\\ngini = 0.169\\nsamples = 43\\nvalue = [39, 4]'),\n",
       " Text(39.12218619361662, 71.23034482758621, 'X[84] <= 0.5\\ngini = 0.337\\nsamples = 14\\nvalue = [11, 3]'),\n",
       " Text(38.90840375540014, 63.73241379310346, 'X[85] <= 0.5\\ngini = 0.18\\nsamples = 10\\nvalue = [9, 1]'),\n",
       " Text(38.801512536291895, 56.234482758620686, 'gini = 0.0\\nsamples = 8\\nvalue = [8, 0]'),\n",
       " Text(39.01529497450838, 56.234482758620686, 'X[30] <= 0.5\\ngini = 0.5\\nsamples = 2\\nvalue = [1, 1]'),\n",
       " Text(38.90840375540014, 48.73655172413794, 'gini = 0.0\\nsamples = 1\\nvalue = [0, 1]'),\n",
       " Text(39.12218619361662, 48.73655172413794, 'gini = 0.0\\nsamples = 1\\nvalue = [1, 0]'),\n",
       " Text(39.335968631833104, 63.73241379310346, 'X[6] <= 0.5\\ngini = 0.5\\nsamples = 4\\nvalue = [2, 2]'),\n",
       " Text(39.22907741272486, 56.234482758620686, 'gini = 0.0\\nsamples = 2\\nvalue = [2, 0]'),\n",
       " Text(39.442859850941346, 56.234482758620686, 'gini = 0.0\\nsamples = 2\\nvalue = [0, 2]'),\n",
       " Text(39.65664228915783, 71.23034482758621, 'X[16] <= 3.0\\ngini = 0.067\\nsamples = 29\\nvalue = [28, 1]'),\n",
       " Text(39.54975107004959, 63.73241379310346, 'gini = 0.0\\nsamples = 25\\nvalue = [25, 0]'),\n",
       " Text(39.76353350826607, 63.73241379310346, 'X[88] <= 0.5\\ngini = 0.375\\nsamples = 4\\nvalue = [3, 1]'),\n",
       " Text(39.65664228915783, 56.234482758620686, 'gini = 0.0\\nsamples = 2\\nvalue = [2, 0]'),\n",
       " Text(39.87042472737431, 56.234482758620686, 'X[27] <= 2.5\\ngini = 0.5\\nsamples = 2\\nvalue = [1, 1]'),\n",
       " Text(39.76353350826607, 48.73655172413794, 'gini = 0.0\\nsamples = 1\\nvalue = [1, 0]'),\n",
       " Text(39.977315946482555, 48.73655172413794, 'gini = 0.0\\nsamples = 1\\nvalue = [0, 1]'),\n",
       " Text(39.710087898711954, 86.22620689655173, 'X[89] <= 0.5\\ngini = 0.375\\nsamples = 4\\nvalue = [3, 1]'),\n",
       " Text(39.60319667960371, 78.72827586206895, 'gini = 0.0\\nsamples = 3\\nvalue = [3, 0]'),\n",
       " Text(39.816979117820196, 78.72827586206895, 'gini = 0.0\\nsamples = 1\\nvalue = [0, 1]'),\n",
       " Text(40.8324456993485, 93.72413793103449, 'X[101] <= 0.5\\ngini = 0.32\\nsamples = 20\\nvalue = [16, 4]'),\n",
       " Text(40.725554480240255, 86.22620689655173, 'X[6] <= 0.5\\ngini = 0.266\\nsamples = 19\\nvalue = [16, 3]'),\n",
       " Text(40.61866326113201, 78.72827586206895, 'X[32] <= 0.5\\ngini = 0.469\\nsamples = 8\\nvalue = [5, 3]'),\n",
       " Text(40.51177204202377, 71.23034482758621, 'X[9] <= 0.5\\ngini = 0.48\\nsamples = 5\\nvalue = [2, 3]'),\n",
       " Text(40.40488082291553, 63.73241379310346, 'X[21] <= 2.0\\ngini = 0.444\\nsamples = 3\\nvalue = [2, 1]'),\n",
       " Text(40.29798960380728, 56.234482758620686, 'X[36] <= 0.5\\ngini = 0.5\\nsamples = 2\\nvalue = [1, 1]'),\n",
       " Text(40.19109838469904, 48.73655172413794, 'gini = 0.0\\nsamples = 1\\nvalue = [0, 1]'),\n",
       " Text(40.40488082291553, 48.73655172413794, 'gini = 0.0\\nsamples = 1\\nvalue = [1, 0]'),\n",
       " Text(40.51177204202377, 56.234482758620686, 'gini = 0.0\\nsamples = 1\\nvalue = [1, 0]'),\n",
       " Text(40.61866326113201, 63.73241379310346, 'gini = 0.0\\nsamples = 2\\nvalue = [0, 2]'),\n",
       " Text(40.725554480240255, 71.23034482758621, 'gini = 0.0\\nsamples = 3\\nvalue = [3, 0]'),\n",
       " Text(40.8324456993485, 78.72827586206895, 'gini = 0.0\\nsamples = 11\\nvalue = [11, 0]'),\n",
       " Text(40.93933691845674, 86.22620689655173, 'gini = 0.0\\nsamples = 1\\nvalue = [0, 1]'),\n",
       " Text(41.366901794889706, 108.72, 'X[83] <= 0.5\\ngini = 0.245\\nsamples = 35\\nvalue = [30, 5]'),\n",
       " Text(41.15311935667322, 101.22206896551724, 'X[67] <= 0.5\\ngini = 0.128\\nsamples = 29\\nvalue = [27, 2]'),\n",
       " Text(41.04622813756498, 93.72413793103449, 'gini = 0.0\\nsamples = 20\\nvalue = [20, 0]'),\n",
       " Text(41.260010575781465, 93.72413793103449, 'X[29] <= 2.5\\ngini = 0.346\\nsamples = 9\\nvalue = [7, 2]'),\n",
       " Text(41.15311935667322, 86.22620689655173, 'X[16] <= 1.5\\ngini = 0.219\\nsamples = 8\\nvalue = [7, 1]'),\n",
       " Text(41.04622813756498, 78.72827586206895, 'gini = 0.0\\nsamples = 1\\nvalue = [0, 1]'),\n",
       " Text(41.260010575781465, 78.72827586206895, 'gini = 0.0\\nsamples = 7\\nvalue = [7, 0]'),\n",
       " Text(41.366901794889706, 86.22620689655173, 'gini = 0.0\\nsamples = 1\\nvalue = [0, 1]'),\n",
       " Text(41.58068423310619, 101.22206896551724, 'X[66] <= 0.5\\ngini = 0.5\\nsamples = 6\\nvalue = [3, 3]'),\n",
       " Text(41.47379301399795, 93.72413793103449, 'gini = 0.0\\nsamples = 3\\nvalue = [3, 0]'),\n",
       " Text(41.68757545221443, 93.72413793103449, 'gini = 0.0\\nsamples = 3\\nvalue = [0, 3]'),\n",
       " Text(42.32892276686388, 116.21793103448276, 'X[96] <= 0.5\\ngini = 0.346\\nsamples = 18\\nvalue = [14, 4]'),\n",
       " Text(42.1151403286474, 108.72, 'X[12] <= 0.5\\ngini = 0.231\\nsamples = 15\\nvalue = [13, 2]'),\n",
       " Text(42.00824910953916, 101.22206896551724, 'X[4] <= 0.5\\ngini = 0.133\\nsamples = 14\\nvalue = [13, 1]'),\n",
       " Text(41.901357890430916, 93.72413793103449, 'X[90] <= 0.5\\ngini = 0.444\\nsamples = 3\\nvalue = [2, 1]'),\n",
       " Text(41.794466671322674, 86.22620689655173, 'gini = 0.0\\nsamples = 2\\nvalue = [2, 0]'),\n",
       " Text(42.00824910953916, 86.22620689655173, 'gini = 0.0\\nsamples = 1\\nvalue = [0, 1]'),\n",
       " Text(42.1151403286474, 93.72413793103449, 'gini = 0.0\\nsamples = 11\\nvalue = [11, 0]'),\n",
       " Text(42.22203154775564, 101.22206896551724, 'gini = 0.0\\nsamples = 1\\nvalue = [0, 1]'),\n",
       " Text(42.54270520508037, 108.72, 'X[59] <= 0.5\\ngini = 0.444\\nsamples = 3\\nvalue = [1, 2]'),\n",
       " Text(42.435813985972125, 101.22206896551724, 'gini = 0.0\\nsamples = 2\\nvalue = [0, 2]'),\n",
       " Text(42.64959642418861, 101.22206896551724, 'gini = 0.0\\nsamples = 1\\nvalue = [1, 0]'),\n",
       " Text(43.451280567500426, 123.71586206896552, 'X[35] <= 0.5\\ngini = 0.358\\nsamples = 60\\nvalue = [46, 14]'),\n",
       " Text(43.344389348392184, 116.21793103448276, 'X[6] <= 0.5\\ngini = 0.328\\nsamples = 58\\nvalue = [46, 12]'),\n",
       " Text(42.970270081513334, 108.72, 'X[24] <= 0.5\\ngini = 0.5\\nsamples = 12\\nvalue = [6, 6]'),\n",
       " Text(42.86337886240509, 101.22206896551724, 'gini = 0.0\\nsamples = 3\\nvalue = [0, 3]'),\n",
       " Text(43.07716130062158, 101.22206896551724, 'X[40] <= 0.5\\ngini = 0.444\\nsamples = 9\\nvalue = [6, 3]'),\n",
       " Text(42.970270081513334, 93.72413793103449, 'X[27] <= 1.5\\ngini = 0.375\\nsamples = 8\\nvalue = [6, 2]'),\n",
       " Text(42.86337886240509, 86.22620689655173, 'gini = 0.0\\nsamples = 1\\nvalue = [0, 1]'),\n",
       " Text(43.07716130062158, 86.22620689655173, 'X[86] <= 0.5\\ngini = 0.245\\nsamples = 7\\nvalue = [6, 1]'),\n",
       " Text(42.970270081513334, 78.72827586206895, 'gini = 0.0\\nsamples = 6\\nvalue = [6, 0]'),\n",
       " Text(43.184052519729825, 78.72827586206895, 'gini = 0.0\\nsamples = 1\\nvalue = [0, 1]'),\n",
       " Text(43.184052519729825, 93.72413793103449, 'gini = 0.0\\nsamples = 1\\nvalue = [0, 1]'),\n",
       " Text(43.718508615271034, 108.72, 'X[29] <= 2.5\\ngini = 0.227\\nsamples = 46\\nvalue = [40, 6]'),\n",
       " Text(43.50472617705455, 101.22206896551724, 'X[105] <= 0.5\\ngini = 0.059\\nsamples = 33\\nvalue = [32, 1]'),\n",
       " Text(43.39783495794631, 93.72413793103449, 'gini = 0.0\\nsamples = 31\\nvalue = [31, 0]'),\n",
       " Text(43.61161739616279, 93.72413793103449, 'X[1] <= 1.5\\ngini = 0.5\\nsamples = 2\\nvalue = [1, 1]'),\n",
       " Text(43.50472617705455, 86.22620689655173, 'gini = 0.0\\nsamples = 1\\nvalue = [1, 0]'),\n",
       " Text(43.718508615271034, 86.22620689655173, 'gini = 0.0\\nsamples = 1\\nvalue = [0, 1]'),\n",
       " Text(43.93229105348752, 101.22206896551724, 'X[15] <= 2.5\\ngini = 0.473\\nsamples = 13\\nvalue = [8, 5]'),\n",
       " Text(43.825399834379276, 93.72413793103449, 'gini = 0.0\\nsamples = 2\\nvalue = [0, 2]'),\n",
       " Text(44.03918227259576, 93.72413793103449, 'X[34] <= 0.5\\ngini = 0.397\\nsamples = 11\\nvalue = [8, 3]'),\n",
       " Text(43.93229105348752, 86.22620689655173, 'gini = 0.0\\nsamples = 4\\nvalue = [4, 0]'),\n",
       " Text(44.146073491704, 86.22620689655173, 'X[98] <= 0.5\\ngini = 0.49\\nsamples = 7\\nvalue = [4, 3]'),\n",
       " Text(44.03918227259576, 78.72827586206895, 'gini = 0.0\\nsamples = 3\\nvalue = [3, 0]'),\n",
       " Text(44.25296471081224, 78.72827586206895, 'X[9] <= 0.5\\ngini = 0.375\\nsamples = 4\\nvalue = [1, 3]'),\n",
       " Text(44.146073491704, 71.23034482758621, 'gini = 0.0\\nsamples = 1\\nvalue = [1, 0]'),\n",
       " Text(44.359855929920485, 71.23034482758621, 'gini = 0.0\\nsamples = 3\\nvalue = [0, 3]'),\n",
       " Text(43.55817178660867, 116.21793103448276, 'gini = 0.0\\nsamples = 2\\nvalue = [0, 2]'),\n",
       " Text(43.77195422482515, 131.21379310344827, 'X[99] <= 0.5\\ngini = 0.5\\nsamples = 8\\nvalue = [4, 4]'),\n",
       " Text(43.66506300571691, 123.71586206896552, 'gini = 0.0\\nsamples = 3\\nvalue = [0, 3]'),\n",
       " Text(43.87884544393339, 123.71586206896552, 'X[93] <= 0.5\\ngini = 0.32\\nsamples = 5\\nvalue = [4, 1]'),\n",
       " Text(43.77195422482515, 116.21793103448276, 'gini = 0.0\\nsamples = 4\\nvalue = [4, 0]'),\n",
       " Text(43.985736663041635, 116.21793103448276, 'gini = 0.0\\nsamples = 1\\nvalue = [0, 1]'),\n",
       " Text(59.07159504734159, 146.2096551724138, 'X[22] <= 3.5\\ngini = 0.219\\nsamples = 1311\\nvalue = [1147, 164]'),\n",
       " Text(52.330767542328076, 138.71172413793101, 'X[71] <= 0.5\\ngini = 0.183\\nsamples = 698\\nvalue = [627, 71]'),\n",
       " Text(50.20045894900678, 131.21379310344827, 'X[12] <= 0.5\\ngini = 0.167\\nsamples = 663\\nvalue = [602, 61]'),\n",
       " Text(47.39623462271399, 123.71586206896552, 'X[28] <= 3.5\\ngini = 0.141\\nsamples = 551\\nvalue = [509, 42]'),\n",
       " Text(45.816248790270286, 116.21793103448276, 'X[96] <= 0.5\\ngini = 0.089\\nsamples = 237\\nvalue = [226, 11]'),\n",
       " Text(45.34859970667173, 108.72, 'X[78] <= 0.5\\ngini = 0.067\\nsamples = 202\\nvalue = [195, 7]'),\n",
       " Text(45.05464885412406, 101.22206896551724, 'X[30] <= 2.5\\ngini = 0.039\\nsamples = 152\\nvalue = [149, 3]'),\n",
       " Text(44.78742080635345, 93.72413793103449, 'X[97] <= 0.5\\ngini = 0.028\\nsamples = 142\\nvalue = [140, 2]'),\n",
       " Text(44.57363836813697, 86.22620689655173, 'X[57] <= 0.5\\ngini = 0.015\\nsamples = 129\\nvalue = [128, 1]'),\n",
       " Text(44.46674714902873, 78.72827586206895, 'gini = 0.0\\nsamples = 99\\nvalue = [99, 0]'),\n",
       " Text(44.68052958724521, 78.72827586206895, 'X[99] <= 0.5\\ngini = 0.064\\nsamples = 30\\nvalue = [29, 1]'),\n",
       " Text(44.57363836813697, 71.23034482758621, 'gini = 0.0\\nsamples = 22\\nvalue = [22, 0]'),\n",
       " Text(44.78742080635345, 71.23034482758621, 'X[65] <= 0.5\\ngini = 0.219\\nsamples = 8\\nvalue = [7, 1]'),\n",
       " Text(44.68052958724521, 63.73241379310346, 'gini = 0.0\\nsamples = 6\\nvalue = [6, 0]'),\n",
       " Text(44.894312025461694, 63.73241379310346, 'X[8] <= 0.5\\ngini = 0.5\\nsamples = 2\\nvalue = [1, 1]'),\n",
       " Text(44.78742080635345, 56.234482758620686, 'gini = 0.0\\nsamples = 1\\nvalue = [0, 1]'),\n",
       " Text(45.001203244569936, 56.234482758620686, 'gini = 0.0\\nsamples = 1\\nvalue = [1, 0]'),\n",
       " Text(45.001203244569936, 86.22620689655173, 'X[87] <= 0.5\\ngini = 0.142\\nsamples = 13\\nvalue = [12, 1]'),\n",
       " Text(44.894312025461694, 78.72827586206895, 'gini = 0.0\\nsamples = 11\\nvalue = [11, 0]'),\n",
       " Text(45.10809446367818, 78.72827586206895, 'X[60] <= 0.5\\ngini = 0.5\\nsamples = 2\\nvalue = [1, 1]'),\n",
       " Text(45.001203244569936, 71.23034482758621, 'gini = 0.0\\nsamples = 1\\nvalue = [1, 0]'),\n",
       " Text(45.21498568278642, 71.23034482758621, 'gini = 0.0\\nsamples = 1\\nvalue = [0, 1]'),\n",
       " Text(45.32187690189466, 93.72413793103449, 'X[62] <= 0.5\\ngini = 0.18\\nsamples = 10\\nvalue = [9, 1]'),\n",
       " Text(45.21498568278642, 86.22620689655173, 'gini = 0.0\\nsamples = 9\\nvalue = [9, 0]'),\n",
       " Text(45.4287681210029, 86.22620689655173, 'gini = 0.0\\nsamples = 1\\nvalue = [0, 1]'),\n",
       " Text(45.642550559219394, 101.22206896551724, 'X[24] <= 0.5\\ngini = 0.147\\nsamples = 50\\nvalue = [46, 4]'),\n",
       " Text(45.535659340111145, 93.72413793103449, 'gini = 0.0\\nsamples = 28\\nvalue = [28, 0]'),\n",
       " Text(45.749441778327636, 93.72413793103449, 'X[15] <= 3.5\\ngini = 0.298\\nsamples = 22\\nvalue = [18, 4]'),\n",
       " Text(45.642550559219394, 86.22620689655173, 'gini = 0.0\\nsamples = 10\\nvalue = [10, 0]'),\n",
       " Text(45.85633299743588, 86.22620689655173, 'X[2] <= 0.5\\ngini = 0.444\\nsamples = 12\\nvalue = [8, 4]'),\n",
       " Text(45.749441778327636, 78.72827586206895, 'gini = 0.0\\nsamples = 1\\nvalue = [0, 1]'),\n",
       " Text(45.96322421654412, 78.72827586206895, 'X[29] <= 1.5\\ngini = 0.397\\nsamples = 11\\nvalue = [8, 3]'),\n",
       " Text(45.749441778327636, 71.23034482758621, 'X[61] <= 0.5\\ngini = 0.444\\nsamples = 3\\nvalue = [1, 2]'),\n",
       " Text(45.642550559219394, 63.73241379310346, 'gini = 0.0\\nsamples = 1\\nvalue = [1, 0]'),\n",
       " Text(45.85633299743588, 63.73241379310346, 'gini = 0.0\\nsamples = 2\\nvalue = [0, 2]'),\n",
       " Text(46.1770066547606, 71.23034482758621, 'X[73] <= 0.5\\ngini = 0.219\\nsamples = 8\\nvalue = [7, 1]'),\n",
       " Text(46.07011543565236, 63.73241379310346, 'X[45] <= 0.5\\ngini = 0.444\\nsamples = 3\\nvalue = [2, 1]'),\n",
       " Text(45.96322421654412, 56.234482758620686, 'gini = 0.0\\nsamples = 2\\nvalue = [2, 0]'),\n",
       " Text(46.1770066547606, 56.234482758620686, 'gini = 0.0\\nsamples = 1\\nvalue = [0, 1]'),\n",
       " Text(46.283897873868845, 63.73241379310346, 'gini = 0.0\\nsamples = 5\\nvalue = [5, 0]'),\n",
       " Text(46.283897873868845, 108.72, 'X[74] <= 0.5\\ngini = 0.202\\nsamples = 35\\nvalue = [31, 4]'),\n",
       " Text(46.07011543565236, 101.22206896551724, 'X[106] <= 0.5\\ngini = 0.117\\nsamples = 32\\nvalue = [30, 2]'),\n",
       " Text(45.96322421654412, 93.72413793103449, 'gini = 0.0\\nsamples = 1\\nvalue = [0, 1]'),\n",
       " Text(46.1770066547606, 93.72413793103449, 'X[33] <= 0.5\\ngini = 0.062\\nsamples = 31\\nvalue = [30, 1]'),\n",
       " Text(46.07011543565236, 86.22620689655173, 'gini = 0.0\\nsamples = 24\\nvalue = [24, 0]'),\n",
       " Text(46.283897873868845, 86.22620689655173, 'X[65] <= 0.5\\ngini = 0.245\\nsamples = 7\\nvalue = [6, 1]'),\n",
       " Text(46.1770066547606, 78.72827586206895, 'gini = 0.0\\nsamples = 6\\nvalue = [6, 0]'),\n",
       " Text(46.39078909297709, 78.72827586206895, 'gini = 0.0\\nsamples = 1\\nvalue = [0, 1]'),\n",
       " Text(46.49768031208533, 101.22206896551724, 'X[29] <= 1.5\\ngini = 0.444\\nsamples = 3\\nvalue = [1, 2]'),\n",
       " Text(46.39078909297709, 93.72413793103449, 'gini = 0.0\\nsamples = 1\\nvalue = [1, 0]'),\n",
       " Text(46.60457153119357, 93.72413793103449, 'gini = 0.0\\nsamples = 2\\nvalue = [0, 2]'),\n",
       " Text(48.976220455157694, 116.21793103448276, 'X[25] <= 0.5\\ngini = 0.178\\nsamples = 314\\nvalue = [283, 31]'),\n",
       " Text(48.167855610651614, 108.72, 'X[10] <= 0.5\\ngini = 0.126\\nsamples = 178\\nvalue = [166, 12]'),\n",
       " Text(48.06096439154337, 101.22206896551724, 'X[40] <= 0.5\\ngini = 0.117\\nsamples = 177\\nvalue = [166, 11]'),\n",
       " Text(47.486424088836564, 93.72413793103449, 'X[85] <= 0.5\\ngini = 0.092\\nsamples = 166\\nvalue = [158, 8]'),\n",
       " Text(46.97869079807242, 86.22620689655173, 'X[81] <= 0.5\\ngini = 0.064\\nsamples = 151\\nvalue = [146, 5]'),\n",
       " Text(46.71146275030181, 78.72827586206895, 'X[22] <= 1.5\\ngini = 0.031\\nsamples = 128\\nvalue = [126, 2]'),\n",
       " Text(46.60457153119357, 71.23034482758621, 'X[102] <= 0.5\\ngini = 0.278\\nsamples = 12\\nvalue = [10, 2]'),\n",
       " Text(46.49768031208533, 63.73241379310346, 'X[92] <= 0.5\\ngini = 0.165\\nsamples = 11\\nvalue = [10, 1]'),\n",
       " Text(46.39078909297709, 56.234482758620686, 'gini = 0.0\\nsamples = 9\\nvalue = [9, 0]'),\n",
       " Text(46.60457153119357, 56.234482758620686, 'X[62] <= 0.5\\ngini = 0.5\\nsamples = 2\\nvalue = [1, 1]'),\n",
       " Text(46.49768031208533, 48.73655172413794, 'gini = 0.0\\nsamples = 1\\nvalue = [0, 1]'),\n",
       " Text(46.71146275030181, 48.73655172413794, 'gini = 0.0\\nsamples = 1\\nvalue = [1, 0]'),\n",
       " Text(46.71146275030181, 63.73241379310346, 'gini = 0.0\\nsamples = 1\\nvalue = [0, 1]'),\n",
       " Text(46.818353969410055, 71.23034482758621, 'gini = 0.0\\nsamples = 116\\nvalue = [116, 0]'),\n",
       " Text(47.24591884584302, 78.72827586206895, 'X[6] <= 0.5\\ngini = 0.227\\nsamples = 23\\nvalue = [20, 3]'),\n",
       " Text(47.03213640762654, 71.23034482758621, 'X[33] <= 0.5\\ngini = 0.48\\nsamples = 5\\nvalue = [3, 2]'),\n",
       " Text(46.925245188518296, 63.73241379310346, 'gini = 0.0\\nsamples = 3\\nvalue = [3, 0]'),\n",
       " Text(47.13902762673478, 63.73241379310346, 'gini = 0.0\\nsamples = 2\\nvalue = [0, 2]'),\n",
       " Text(47.459701284059506, 71.23034482758621, 'X[90] <= 0.5\\ngini = 0.105\\nsamples = 18\\nvalue = [17, 1]'),\n",
       " Text(47.352810064951264, 63.73241379310346, 'gini = 0.0\\nsamples = 16\\nvalue = [16, 0]'),\n",
       " Text(47.56659250316775, 63.73241379310346, 'X[97] <= 0.5\\ngini = 0.5\\nsamples = 2\\nvalue = [1, 1]'),\n",
       " Text(47.459701284059506, 56.234482758620686, 'gini = 0.0\\nsamples = 1\\nvalue = [0, 1]'),\n",
       " Text(47.67348372227599, 56.234482758620686, 'gini = 0.0\\nsamples = 1\\nvalue = [1, 0]'),\n",
       " Text(47.994157379600715, 86.22620689655173, 'X[29] <= 1.5\\ngini = 0.32\\nsamples = 15\\nvalue = [12, 3]'),\n",
       " Text(47.78037494138423, 78.72827586206895, 'X[66] <= 0.5\\ngini = 0.444\\nsamples = 3\\nvalue = [1, 2]'),\n",
       " Text(47.67348372227599, 71.23034482758621, 'gini = 0.0\\nsamples = 1\\nvalue = [1, 0]'),\n",
       " Text(47.88726616049247, 71.23034482758621, 'gini = 0.0\\nsamples = 2\\nvalue = [0, 2]'),\n",
       " Text(48.2079398178172, 78.72827586206895, 'X[62] <= 0.5\\ngini = 0.153\\nsamples = 12\\nvalue = [11, 1]'),\n",
       " Text(48.10104859870896, 71.23034482758621, 'gini = 0.0\\nsamples = 9\\nvalue = [9, 0]'),\n",
       " Text(48.31483103692545, 71.23034482758621, 'X[27] <= 2.5\\ngini = 0.444\\nsamples = 3\\nvalue = [2, 1]'),\n",
       " Text(48.2079398178172, 63.73241379310346, 'gini = 0.0\\nsamples = 2\\nvalue = [2, 0]'),\n",
       " Text(48.42172225603369, 63.73241379310346, 'gini = 0.0\\nsamples = 1\\nvalue = [0, 1]'),\n",
       " Text(48.63550469425017, 93.72413793103449, 'X[84] <= 0.5\\ngini = 0.397\\nsamples = 11\\nvalue = [8, 3]'),\n",
       " Text(48.52861347514193, 86.22620689655173, 'X[82] <= 0.5\\ngini = 0.32\\nsamples = 10\\nvalue = [8, 2]'),\n",
       " Text(48.42172225603369, 78.72827586206895, 'gini = 0.0\\nsamples = 6\\nvalue = [6, 0]'),\n",
       " Text(48.63550469425017, 78.72827586206895, 'X[65] <= 0.5\\ngini = 0.5\\nsamples = 4\\nvalue = [2, 2]'),\n",
       " Text(48.52861347514193, 71.23034482758621, 'gini = 0.0\\nsamples = 2\\nvalue = [0, 2]'),\n",
       " Text(48.742395913358415, 71.23034482758621, 'gini = 0.0\\nsamples = 2\\nvalue = [2, 0]'),\n",
       " Text(48.742395913358415, 86.22620689655173, 'gini = 0.0\\nsamples = 1\\nvalue = [0, 1]'),\n",
       " Text(48.274746829759856, 101.22206896551724, 'gini = 0.0\\nsamples = 1\\nvalue = [0, 1]'),\n",
       " Text(49.784585299663775, 108.72, 'X[1] <= 1.5\\ngini = 0.24\\nsamples = 136\\nvalue = [117, 19]'),\n",
       " Text(49.276852008899624, 101.22206896551724, 'X[82] <= 0.5\\ngini = 0.088\\nsamples = 65\\nvalue = [62, 3]'),\n",
       " Text(49.06306957068314, 93.72413793103449, 'X[28] <= 4.5\\ngini = 0.035\\nsamples = 56\\nvalue = [55, 1]'),\n",
       " Text(48.9561783515749, 86.22620689655173, 'X[88] <= 0.5\\ngini = 0.142\\nsamples = 13\\nvalue = [12, 1]'),\n",
       " Text(48.84928713246666, 78.72827586206895, 'gini = 0.0\\nsamples = 8\\nvalue = [8, 0]'),\n",
       " Text(49.06306957068314, 78.72827586206895, 'X[59] <= 0.5\\ngini = 0.32\\nsamples = 5\\nvalue = [4, 1]'),\n",
       " Text(48.9561783515749, 71.23034482758621, 'gini = 0.0\\nsamples = 4\\nvalue = [4, 0]'),\n",
       " Text(49.16996078979138, 71.23034482758621, 'gini = 0.0\\nsamples = 1\\nvalue = [0, 1]'),\n",
       " Text(49.16996078979138, 86.22620689655173, 'gini = 0.0\\nsamples = 43\\nvalue = [43, 0]'),\n",
       " Text(49.49063444711611, 93.72413793103449, 'X[9] <= 0.5\\ngini = 0.346\\nsamples = 9\\nvalue = [7, 2]'),\n",
       " Text(49.383743228007866, 86.22620689655173, 'X[27] <= 1.5\\ngini = 0.5\\nsamples = 4\\nvalue = [2, 2]'),\n",
       " Text(49.276852008899624, 78.72827586206895, 'gini = 0.0\\nsamples = 2\\nvalue = [2, 0]'),\n",
       " Text(49.49063444711611, 78.72827586206895, 'gini = 0.0\\nsamples = 2\\nvalue = [0, 2]'),\n",
       " Text(49.59752566622435, 86.22620689655173, 'gini = 0.0\\nsamples = 5\\nvalue = [5, 0]'),\n",
       " Text(50.292318590427925, 101.22206896551724, 'X[68] <= 0.5\\ngini = 0.349\\nsamples = 71\\nvalue = [55, 16]'),\n",
       " Text(50.18542737131968, 93.72413793103449, 'X[46] <= 0.5\\ngini = 0.391\\nsamples = 60\\nvalue = [44, 16]'),\n",
       " Text(50.07853615221144, 86.22620689655173, 'X[8] <= 0.5\\ngini = 0.379\\nsamples = 59\\nvalue = [44, 15]'),\n",
       " Text(49.70441688533259, 78.72827586206895, 'X[76] <= 0.5\\ngini = 0.307\\nsamples = 37\\nvalue = [30, 7]'),\n",
       " Text(49.59752566622435, 71.23034482758621, 'gini = 0.0\\nsamples = 10\\nvalue = [10, 0]'),\n",
       " Text(49.81130810444083, 71.23034482758621, 'X[84] <= 0.5\\ngini = 0.384\\nsamples = 27\\nvalue = [20, 7]'),\n",
       " Text(49.70441688533259, 63.73241379310346, 'X[38] <= 0.5\\ngini = 0.355\\nsamples = 26\\nvalue = [20, 6]'),\n",
       " Text(49.59752566622435, 56.234482758620686, 'X[45] <= 0.5\\ngini = 0.444\\nsamples = 18\\nvalue = [12, 6]'),\n",
       " Text(49.49063444711611, 48.73655172413794, 'gini = 0.0\\nsamples = 4\\nvalue = [4, 0]'),\n",
       " Text(49.70441688533259, 48.73655172413794, 'X[7] <= 0.5\\ngini = 0.49\\nsamples = 14\\nvalue = [8, 6]'),\n",
       " Text(49.59752566622435, 41.238620689655164, 'X[80] <= 0.5\\ngini = 0.397\\nsamples = 11\\nvalue = [8, 3]'),\n",
       " Text(49.383743228007866, 33.74068965517242, 'X[15] <= 4.5\\ngini = 0.219\\nsamples = 8\\nvalue = [7, 1]'),\n",
       " Text(49.276852008899624, 26.24275862068967, 'gini = 0.0\\nsamples = 7\\nvalue = [7, 0]'),\n",
       " Text(49.49063444711611, 26.24275862068967, 'gini = 0.0\\nsamples = 1\\nvalue = [0, 1]'),\n",
       " Text(49.81130810444083, 33.74068965517242, 'X[31] <= 1.0\\ngini = 0.444\\nsamples = 3\\nvalue = [1, 2]'),\n",
       " Text(49.70441688533259, 26.24275862068967, 'gini = 0.0\\nsamples = 2\\nvalue = [0, 2]'),\n",
       " Text(49.918199323549075, 26.24275862068967, 'gini = 0.0\\nsamples = 1\\nvalue = [1, 0]'),\n",
       " Text(49.81130810444083, 41.238620689655164, 'gini = 0.0\\nsamples = 3\\nvalue = [0, 3]'),\n",
       " Text(49.81130810444083, 56.234482758620686, 'gini = 0.0\\nsamples = 8\\nvalue = [8, 0]'),\n",
       " Text(49.918199323549075, 63.73241379310346, 'gini = 0.0\\nsamples = 1\\nvalue = [0, 1]'),\n",
       " Text(50.452655419090284, 78.72827586206895, 'X[27] <= 1.5\\ngini = 0.463\\nsamples = 22\\nvalue = [14, 8]'),\n",
       " Text(50.2388729808738, 71.23034482758621, 'X[47] <= 0.5\\ngini = 0.32\\nsamples = 5\\nvalue = [1, 4]'),\n",
       " Text(50.13198176176556, 63.73241379310346, 'gini = 0.0\\nsamples = 4\\nvalue = [0, 4]'),\n",
       " Text(50.34576419998204, 63.73241379310346, 'gini = 0.0\\nsamples = 1\\nvalue = [1, 0]'),\n",
       " Text(50.66643785730677, 71.23034482758621, 'X[47] <= 0.5\\ngini = 0.36\\nsamples = 17\\nvalue = [13, 4]'),\n",
       " Text(50.559546638198526, 63.73241379310346, 'X[99] <= 0.5\\ngini = 0.231\\nsamples = 15\\nvalue = [13, 2]'),\n",
       " Text(50.452655419090284, 56.234482758620686, 'gini = 0.0\\nsamples = 9\\nvalue = [9, 0]'),\n",
       " Text(50.66643785730677, 56.234482758620686, 'X[88] <= 0.5\\ngini = 0.444\\nsamples = 6\\nvalue = [4, 2]'),\n",
       " Text(50.559546638198526, 48.73655172413794, 'gini = 0.0\\nsamples = 4\\nvalue = [4, 0]'),\n",
       " Text(50.77332907641501, 48.73655172413794, 'gini = 0.0\\nsamples = 2\\nvalue = [0, 2]'),\n",
       " Text(50.77332907641501, 63.73241379310346, 'gini = 0.0\\nsamples = 2\\nvalue = [0, 2]'),\n",
       " Text(50.292318590427925, 86.22620689655173, 'gini = 0.0\\nsamples = 1\\nvalue = [0, 1]'),\n",
       " Text(50.39920980953617, 93.72413793103449, 'gini = 0.0\\nsamples = 11\\nvalue = [11, 0]'),\n",
       " Text(53.00468327529957, 123.71586206896552, 'X[2] <= 1.5\\ngini = 0.282\\nsamples = 112\\nvalue = [93, 19]'),\n",
       " Text(52.243083339153344, 116.21793103448276, 'X[46] <= 0.5\\ngini = 0.199\\nsamples = 89\\nvalue = [79, 10]'),\n",
       " Text(52.1361921200451, 108.72, 'X[44] <= 0.5\\ngini = 0.184\\nsamples = 88\\nvalue = [79, 9]'),\n",
       " Text(51.57501321972683, 101.22206896551724, 'X[80] <= 0.5\\ngini = 0.111\\nsamples = 68\\nvalue = [64, 4]'),\n",
       " Text(51.307785171956226, 93.72413793103449, 'X[84] <= 0.5\\ngini = 0.064\\nsamples = 60\\nvalue = [58, 2]'),\n",
       " Text(51.09400273373974, 86.22620689655173, 'X[45] <= 0.5\\ngini = 0.035\\nsamples = 56\\nvalue = [55, 1]'),\n",
       " Text(50.9871115146315, 78.72827586206895, 'X[77] <= 0.5\\ngini = 0.32\\nsamples = 5\\nvalue = [4, 1]'),\n",
       " Text(50.88022029552326, 71.23034482758621, 'gini = 0.0\\nsamples = 4\\nvalue = [4, 0]'),\n",
       " Text(51.09400273373974, 71.23034482758621, 'gini = 0.0\\nsamples = 1\\nvalue = [0, 1]'),\n",
       " Text(51.200893952847984, 78.72827586206895, 'gini = 0.0\\nsamples = 51\\nvalue = [51, 0]'),\n",
       " Text(51.52156761017271, 86.22620689655173, 'X[26] <= 0.5\\ngini = 0.375\\nsamples = 4\\nvalue = [3, 1]'),\n",
       " Text(51.41467639106447, 78.72827586206895, 'gini = 0.0\\nsamples = 1\\nvalue = [0, 1]'),\n",
       " Text(51.62845882928095, 78.72827586206895, 'gini = 0.0\\nsamples = 3\\nvalue = [3, 0]'),\n",
       " Text(51.842241267497435, 93.72413793103449, 'X[9] <= 0.5\\ngini = 0.375\\nsamples = 8\\nvalue = [6, 2]'),\n",
       " Text(51.73535004838919, 86.22620689655173, 'gini = 0.0\\nsamples = 5\\nvalue = [5, 0]'),\n",
       " Text(51.94913248660568, 86.22620689655173, 'X[89] <= 0.5\\ngini = 0.444\\nsamples = 3\\nvalue = [1, 2]'),\n",
       " Text(51.842241267497435, 78.72827586206895, 'gini = 0.0\\nsamples = 2\\nvalue = [0, 2]'),\n",
       " Text(52.05602370571392, 78.72827586206895, 'gini = 0.0\\nsamples = 1\\nvalue = [1, 0]'),\n",
       " ...]"
      ]
     },
     "execution_count": 80,
     "metadata": {},
     "output_type": "execute_result"
    },
    {
     "name": "stdout",
     "output_type": "stream",
     "text": [
      "Error in callback <function flush_figures at 0x7f8e5a985ca0> (for post_execute):\n"
     ]
    },
    {
     "ename": "KeyboardInterrupt",
     "evalue": "",
     "output_type": "error",
     "traceback": [
      "\u001b[0;31m---------------------------------------------------------------------------\u001b[0m",
      "\u001b[0;31mKeyboardInterrupt\u001b[0m                         Traceback (most recent call last)",
      "\u001b[0;32m~/opt/anaconda3/envs/learn-env/lib/python3.8/site-packages/ipykernel/pylab/backend_inline.py\u001b[0m in \u001b[0;36mflush_figures\u001b[0;34m()\u001b[0m\n\u001b[1;32m    119\u001b[0m         \u001b[0;31m# ignore the tracking, just draw and close all figures\u001b[0m\u001b[0;34m\u001b[0m\u001b[0;34m\u001b[0m\u001b[0;34m\u001b[0m\u001b[0m\n\u001b[1;32m    120\u001b[0m         \u001b[0;32mtry\u001b[0m\u001b[0;34m:\u001b[0m\u001b[0;34m\u001b[0m\u001b[0;34m\u001b[0m\u001b[0m\n\u001b[0;32m--> 121\u001b[0;31m             \u001b[0;32mreturn\u001b[0m \u001b[0mshow\u001b[0m\u001b[0;34m(\u001b[0m\u001b[0;32mTrue\u001b[0m\u001b[0;34m)\u001b[0m\u001b[0;34m\u001b[0m\u001b[0;34m\u001b[0m\u001b[0m\n\u001b[0m\u001b[1;32m    122\u001b[0m         \u001b[0;32mexcept\u001b[0m \u001b[0mException\u001b[0m \u001b[0;32mas\u001b[0m \u001b[0me\u001b[0m\u001b[0;34m:\u001b[0m\u001b[0;34m\u001b[0m\u001b[0;34m\u001b[0m\u001b[0m\n\u001b[1;32m    123\u001b[0m             \u001b[0;31m# safely show traceback if in IPython, else raise\u001b[0m\u001b[0;34m\u001b[0m\u001b[0;34m\u001b[0m\u001b[0;34m\u001b[0m\u001b[0m\n",
      "\u001b[0;32m~/opt/anaconda3/envs/learn-env/lib/python3.8/site-packages/ipykernel/pylab/backend_inline.py\u001b[0m in \u001b[0;36mshow\u001b[0;34m(close, block)\u001b[0m\n\u001b[1;32m     39\u001b[0m     \u001b[0;32mtry\u001b[0m\u001b[0;34m:\u001b[0m\u001b[0;34m\u001b[0m\u001b[0;34m\u001b[0m\u001b[0m\n\u001b[1;32m     40\u001b[0m         \u001b[0;32mfor\u001b[0m \u001b[0mfigure_manager\u001b[0m \u001b[0;32min\u001b[0m \u001b[0mGcf\u001b[0m\u001b[0;34m.\u001b[0m\u001b[0mget_all_fig_managers\u001b[0m\u001b[0;34m(\u001b[0m\u001b[0;34m)\u001b[0m\u001b[0;34m:\u001b[0m\u001b[0;34m\u001b[0m\u001b[0;34m\u001b[0m\u001b[0m\n\u001b[0;32m---> 41\u001b[0;31m             display(\n\u001b[0m\u001b[1;32m     42\u001b[0m                 \u001b[0mfigure_manager\u001b[0m\u001b[0;34m.\u001b[0m\u001b[0mcanvas\u001b[0m\u001b[0;34m.\u001b[0m\u001b[0mfigure\u001b[0m\u001b[0;34m,\u001b[0m\u001b[0;34m\u001b[0m\u001b[0;34m\u001b[0m\u001b[0m\n\u001b[1;32m     43\u001b[0m                 \u001b[0mmetadata\u001b[0m\u001b[0;34m=\u001b[0m\u001b[0m_fetch_figure_metadata\u001b[0m\u001b[0;34m(\u001b[0m\u001b[0mfigure_manager\u001b[0m\u001b[0;34m.\u001b[0m\u001b[0mcanvas\u001b[0m\u001b[0;34m.\u001b[0m\u001b[0mfigure\u001b[0m\u001b[0;34m)\u001b[0m\u001b[0;34m\u001b[0m\u001b[0;34m\u001b[0m\u001b[0m\n",
      "\u001b[0;32m~/opt/anaconda3/envs/learn-env/lib/python3.8/site-packages/IPython/core/display.py\u001b[0m in \u001b[0;36mdisplay\u001b[0;34m(include, exclude, metadata, transient, display_id, *objs, **kwargs)\u001b[0m\n\u001b[1;32m    311\u001b[0m             \u001b[0mpublish_display_data\u001b[0m\u001b[0;34m(\u001b[0m\u001b[0mdata\u001b[0m\u001b[0;34m=\u001b[0m\u001b[0mobj\u001b[0m\u001b[0;34m,\u001b[0m \u001b[0mmetadata\u001b[0m\u001b[0;34m=\u001b[0m\u001b[0mmetadata\u001b[0m\u001b[0;34m,\u001b[0m \u001b[0;34m**\u001b[0m\u001b[0mkwargs\u001b[0m\u001b[0;34m)\u001b[0m\u001b[0;34m\u001b[0m\u001b[0;34m\u001b[0m\u001b[0m\n\u001b[1;32m    312\u001b[0m         \u001b[0;32melse\u001b[0m\u001b[0;34m:\u001b[0m\u001b[0;34m\u001b[0m\u001b[0;34m\u001b[0m\u001b[0m\n\u001b[0;32m--> 313\u001b[0;31m             \u001b[0mformat_dict\u001b[0m\u001b[0;34m,\u001b[0m \u001b[0mmd_dict\u001b[0m \u001b[0;34m=\u001b[0m \u001b[0mformat\u001b[0m\u001b[0;34m(\u001b[0m\u001b[0mobj\u001b[0m\u001b[0;34m,\u001b[0m \u001b[0minclude\u001b[0m\u001b[0;34m=\u001b[0m\u001b[0minclude\u001b[0m\u001b[0;34m,\u001b[0m \u001b[0mexclude\u001b[0m\u001b[0;34m=\u001b[0m\u001b[0mexclude\u001b[0m\u001b[0;34m)\u001b[0m\u001b[0;34m\u001b[0m\u001b[0;34m\u001b[0m\u001b[0m\n\u001b[0m\u001b[1;32m    314\u001b[0m             \u001b[0;32mif\u001b[0m \u001b[0;32mnot\u001b[0m \u001b[0mformat_dict\u001b[0m\u001b[0;34m:\u001b[0m\u001b[0;34m\u001b[0m\u001b[0;34m\u001b[0m\u001b[0m\n\u001b[1;32m    315\u001b[0m                 \u001b[0;31m# nothing to display (e.g. _ipython_display_ took over)\u001b[0m\u001b[0;34m\u001b[0m\u001b[0;34m\u001b[0m\u001b[0;34m\u001b[0m\u001b[0m\n",
      "\u001b[0;32m~/opt/anaconda3/envs/learn-env/lib/python3.8/site-packages/IPython/core/formatters.py\u001b[0m in \u001b[0;36mformat\u001b[0;34m(self, obj, include, exclude)\u001b[0m\n\u001b[1;32m    178\u001b[0m             \u001b[0mmd\u001b[0m \u001b[0;34m=\u001b[0m \u001b[0;32mNone\u001b[0m\u001b[0;34m\u001b[0m\u001b[0;34m\u001b[0m\u001b[0m\n\u001b[1;32m    179\u001b[0m             \u001b[0;32mtry\u001b[0m\u001b[0;34m:\u001b[0m\u001b[0;34m\u001b[0m\u001b[0;34m\u001b[0m\u001b[0m\n\u001b[0;32m--> 180\u001b[0;31m                 \u001b[0mdata\u001b[0m \u001b[0;34m=\u001b[0m \u001b[0mformatter\u001b[0m\u001b[0;34m(\u001b[0m\u001b[0mobj\u001b[0m\u001b[0;34m)\u001b[0m\u001b[0;34m\u001b[0m\u001b[0;34m\u001b[0m\u001b[0m\n\u001b[0m\u001b[1;32m    181\u001b[0m             \u001b[0;32mexcept\u001b[0m\u001b[0;34m:\u001b[0m\u001b[0;34m\u001b[0m\u001b[0;34m\u001b[0m\u001b[0m\n\u001b[1;32m    182\u001b[0m                 \u001b[0;31m# FIXME: log the exception\u001b[0m\u001b[0;34m\u001b[0m\u001b[0;34m\u001b[0m\u001b[0;34m\u001b[0m\u001b[0m\n",
      "\u001b[0;32m<decorator-gen-2>\u001b[0m in \u001b[0;36m__call__\u001b[0;34m(self, obj)\u001b[0m\n",
      "\u001b[0;32m~/opt/anaconda3/envs/learn-env/lib/python3.8/site-packages/IPython/core/formatters.py\u001b[0m in \u001b[0;36mcatch_format_error\u001b[0;34m(method, self, *args, **kwargs)\u001b[0m\n\u001b[1;32m    222\u001b[0m     \u001b[0;34m\"\"\"show traceback on failed format call\"\"\"\u001b[0m\u001b[0;34m\u001b[0m\u001b[0;34m\u001b[0m\u001b[0m\n\u001b[1;32m    223\u001b[0m     \u001b[0;32mtry\u001b[0m\u001b[0;34m:\u001b[0m\u001b[0;34m\u001b[0m\u001b[0;34m\u001b[0m\u001b[0m\n\u001b[0;32m--> 224\u001b[0;31m         \u001b[0mr\u001b[0m \u001b[0;34m=\u001b[0m \u001b[0mmethod\u001b[0m\u001b[0;34m(\u001b[0m\u001b[0mself\u001b[0m\u001b[0;34m,\u001b[0m \u001b[0;34m*\u001b[0m\u001b[0margs\u001b[0m\u001b[0;34m,\u001b[0m \u001b[0;34m**\u001b[0m\u001b[0mkwargs\u001b[0m\u001b[0;34m)\u001b[0m\u001b[0;34m\u001b[0m\u001b[0;34m\u001b[0m\u001b[0m\n\u001b[0m\u001b[1;32m    225\u001b[0m     \u001b[0;32mexcept\u001b[0m \u001b[0mNotImplementedError\u001b[0m\u001b[0;34m:\u001b[0m\u001b[0;34m\u001b[0m\u001b[0;34m\u001b[0m\u001b[0m\n\u001b[1;32m    226\u001b[0m         \u001b[0;31m# don't warn on NotImplementedErrors\u001b[0m\u001b[0;34m\u001b[0m\u001b[0;34m\u001b[0m\u001b[0;34m\u001b[0m\u001b[0m\n",
      "\u001b[0;32m~/opt/anaconda3/envs/learn-env/lib/python3.8/site-packages/IPython/core/formatters.py\u001b[0m in \u001b[0;36m__call__\u001b[0;34m(self, obj)\u001b[0m\n\u001b[1;32m    339\u001b[0m                 \u001b[0;32mpass\u001b[0m\u001b[0;34m\u001b[0m\u001b[0;34m\u001b[0m\u001b[0m\n\u001b[1;32m    340\u001b[0m             \u001b[0;32melse\u001b[0m\u001b[0;34m:\u001b[0m\u001b[0;34m\u001b[0m\u001b[0;34m\u001b[0m\u001b[0m\n\u001b[0;32m--> 341\u001b[0;31m                 \u001b[0;32mreturn\u001b[0m \u001b[0mprinter\u001b[0m\u001b[0;34m(\u001b[0m\u001b[0mobj\u001b[0m\u001b[0;34m)\u001b[0m\u001b[0;34m\u001b[0m\u001b[0;34m\u001b[0m\u001b[0m\n\u001b[0m\u001b[1;32m    342\u001b[0m             \u001b[0;31m# Finally look for special method names\u001b[0m\u001b[0;34m\u001b[0m\u001b[0;34m\u001b[0m\u001b[0;34m\u001b[0m\u001b[0m\n\u001b[1;32m    343\u001b[0m             \u001b[0mmethod\u001b[0m \u001b[0;34m=\u001b[0m \u001b[0mget_real_method\u001b[0m\u001b[0;34m(\u001b[0m\u001b[0mobj\u001b[0m\u001b[0;34m,\u001b[0m \u001b[0mself\u001b[0m\u001b[0;34m.\u001b[0m\u001b[0mprint_method\u001b[0m\u001b[0;34m)\u001b[0m\u001b[0;34m\u001b[0m\u001b[0;34m\u001b[0m\u001b[0m\n",
      "\u001b[0;32m~/opt/anaconda3/envs/learn-env/lib/python3.8/site-packages/IPython/core/pylabtools.py\u001b[0m in \u001b[0;36m<lambda>\u001b[0;34m(fig)\u001b[0m\n\u001b[1;32m    246\u001b[0m \u001b[0;34m\u001b[0m\u001b[0m\n\u001b[1;32m    247\u001b[0m     \u001b[0;32mif\u001b[0m \u001b[0;34m'png'\u001b[0m \u001b[0;32min\u001b[0m \u001b[0mformats\u001b[0m\u001b[0;34m:\u001b[0m\u001b[0;34m\u001b[0m\u001b[0;34m\u001b[0m\u001b[0m\n\u001b[0;32m--> 248\u001b[0;31m         \u001b[0mpng_formatter\u001b[0m\u001b[0;34m.\u001b[0m\u001b[0mfor_type\u001b[0m\u001b[0;34m(\u001b[0m\u001b[0mFigure\u001b[0m\u001b[0;34m,\u001b[0m \u001b[0;32mlambda\u001b[0m \u001b[0mfig\u001b[0m\u001b[0;34m:\u001b[0m \u001b[0mprint_figure\u001b[0m\u001b[0;34m(\u001b[0m\u001b[0mfig\u001b[0m\u001b[0;34m,\u001b[0m \u001b[0;34m'png'\u001b[0m\u001b[0;34m,\u001b[0m \u001b[0;34m**\u001b[0m\u001b[0mkwargs\u001b[0m\u001b[0;34m)\u001b[0m\u001b[0;34m)\u001b[0m\u001b[0;34m\u001b[0m\u001b[0;34m\u001b[0m\u001b[0m\n\u001b[0m\u001b[1;32m    249\u001b[0m     \u001b[0;32mif\u001b[0m \u001b[0;34m'retina'\u001b[0m \u001b[0;32min\u001b[0m \u001b[0mformats\u001b[0m \u001b[0;32mor\u001b[0m \u001b[0;34m'png2x'\u001b[0m \u001b[0;32min\u001b[0m \u001b[0mformats\u001b[0m\u001b[0;34m:\u001b[0m\u001b[0;34m\u001b[0m\u001b[0;34m\u001b[0m\u001b[0m\n\u001b[1;32m    250\u001b[0m         \u001b[0mpng_formatter\u001b[0m\u001b[0;34m.\u001b[0m\u001b[0mfor_type\u001b[0m\u001b[0;34m(\u001b[0m\u001b[0mFigure\u001b[0m\u001b[0;34m,\u001b[0m \u001b[0;32mlambda\u001b[0m \u001b[0mfig\u001b[0m\u001b[0;34m:\u001b[0m \u001b[0mretina_figure\u001b[0m\u001b[0;34m(\u001b[0m\u001b[0mfig\u001b[0m\u001b[0;34m,\u001b[0m \u001b[0;34m**\u001b[0m\u001b[0mkwargs\u001b[0m\u001b[0;34m)\u001b[0m\u001b[0;34m)\u001b[0m\u001b[0;34m\u001b[0m\u001b[0;34m\u001b[0m\u001b[0m\n",
      "\u001b[0;32m~/opt/anaconda3/envs/learn-env/lib/python3.8/site-packages/IPython/core/pylabtools.py\u001b[0m in \u001b[0;36mprint_figure\u001b[0;34m(fig, fmt, bbox_inches, **kwargs)\u001b[0m\n\u001b[1;32m    130\u001b[0m         \u001b[0mFigureCanvasBase\u001b[0m\u001b[0;34m(\u001b[0m\u001b[0mfig\u001b[0m\u001b[0;34m)\u001b[0m\u001b[0;34m\u001b[0m\u001b[0;34m\u001b[0m\u001b[0m\n\u001b[1;32m    131\u001b[0m \u001b[0;34m\u001b[0m\u001b[0m\n\u001b[0;32m--> 132\u001b[0;31m     \u001b[0mfig\u001b[0m\u001b[0;34m.\u001b[0m\u001b[0mcanvas\u001b[0m\u001b[0;34m.\u001b[0m\u001b[0mprint_figure\u001b[0m\u001b[0;34m(\u001b[0m\u001b[0mbytes_io\u001b[0m\u001b[0;34m,\u001b[0m \u001b[0;34m**\u001b[0m\u001b[0mkw\u001b[0m\u001b[0;34m)\u001b[0m\u001b[0;34m\u001b[0m\u001b[0;34m\u001b[0m\u001b[0m\n\u001b[0m\u001b[1;32m    133\u001b[0m     \u001b[0mdata\u001b[0m \u001b[0;34m=\u001b[0m \u001b[0mbytes_io\u001b[0m\u001b[0;34m.\u001b[0m\u001b[0mgetvalue\u001b[0m\u001b[0;34m(\u001b[0m\u001b[0;34m)\u001b[0m\u001b[0;34m\u001b[0m\u001b[0;34m\u001b[0m\u001b[0m\n\u001b[1;32m    134\u001b[0m     \u001b[0;32mif\u001b[0m \u001b[0mfmt\u001b[0m \u001b[0;34m==\u001b[0m \u001b[0;34m'svg'\u001b[0m\u001b[0;34m:\u001b[0m\u001b[0;34m\u001b[0m\u001b[0;34m\u001b[0m\u001b[0m\n",
      "\u001b[0;32m~/opt/anaconda3/envs/learn-env/lib/python3.8/site-packages/matplotlib/backend_bases.py\u001b[0m in \u001b[0;36mprint_figure\u001b[0;34m(self, filename, dpi, facecolor, edgecolor, orientation, format, bbox_inches, pad_inches, bbox_extra_artists, backend, **kwargs)\u001b[0m\n\u001b[1;32m   2208\u001b[0m \u001b[0;34m\u001b[0m\u001b[0m\n\u001b[1;32m   2209\u001b[0m             \u001b[0;32mtry\u001b[0m\u001b[0;34m:\u001b[0m\u001b[0;34m\u001b[0m\u001b[0;34m\u001b[0m\u001b[0m\n\u001b[0;32m-> 2210\u001b[0;31m                 result = print_method(\n\u001b[0m\u001b[1;32m   2211\u001b[0m                     \u001b[0mfilename\u001b[0m\u001b[0;34m,\u001b[0m\u001b[0;34m\u001b[0m\u001b[0;34m\u001b[0m\u001b[0m\n\u001b[1;32m   2212\u001b[0m                     \u001b[0mdpi\u001b[0m\u001b[0;34m=\u001b[0m\u001b[0mdpi\u001b[0m\u001b[0;34m,\u001b[0m\u001b[0;34m\u001b[0m\u001b[0;34m\u001b[0m\u001b[0m\n",
      "\u001b[0;32m~/opt/anaconda3/envs/learn-env/lib/python3.8/site-packages/matplotlib/backend_bases.py\u001b[0m in \u001b[0;36mwrapper\u001b[0;34m(*args, **kwargs)\u001b[0m\n\u001b[1;32m   1637\u001b[0m             \u001b[0mkwargs\u001b[0m\u001b[0;34m.\u001b[0m\u001b[0mpop\u001b[0m\u001b[0;34m(\u001b[0m\u001b[0marg\u001b[0m\u001b[0;34m)\u001b[0m\u001b[0;34m\u001b[0m\u001b[0;34m\u001b[0m\u001b[0m\n\u001b[1;32m   1638\u001b[0m \u001b[0;34m\u001b[0m\u001b[0m\n\u001b[0;32m-> 1639\u001b[0;31m         \u001b[0;32mreturn\u001b[0m \u001b[0mfunc\u001b[0m\u001b[0;34m(\u001b[0m\u001b[0;34m*\u001b[0m\u001b[0margs\u001b[0m\u001b[0;34m,\u001b[0m \u001b[0;34m**\u001b[0m\u001b[0mkwargs\u001b[0m\u001b[0;34m)\u001b[0m\u001b[0;34m\u001b[0m\u001b[0;34m\u001b[0m\u001b[0m\n\u001b[0m\u001b[1;32m   1640\u001b[0m \u001b[0;34m\u001b[0m\u001b[0m\n\u001b[1;32m   1641\u001b[0m     \u001b[0;32mreturn\u001b[0m \u001b[0mwrapper\u001b[0m\u001b[0;34m\u001b[0m\u001b[0;34m\u001b[0m\u001b[0m\n",
      "\u001b[0;32m~/opt/anaconda3/envs/learn-env/lib/python3.8/site-packages/matplotlib/backends/backend_agg.py\u001b[0m in \u001b[0;36mprint_png\u001b[0;34m(self, filename_or_obj, metadata, pil_kwargs, *args)\u001b[0m\n\u001b[1;32m    507\u001b[0m             \u001b[0;34m*\u001b[0m\u001b[0mmetadata\u001b[0m\u001b[0;34m*\u001b[0m\u001b[0;34m,\u001b[0m \u001b[0mincluding\u001b[0m \u001b[0mthe\u001b[0m \u001b[0mdefault\u001b[0m \u001b[0;34m'Software'\u001b[0m \u001b[0mkey\u001b[0m\u001b[0;34m.\u001b[0m\u001b[0;34m\u001b[0m\u001b[0;34m\u001b[0m\u001b[0m\n\u001b[1;32m    508\u001b[0m         \"\"\"\n\u001b[0;32m--> 509\u001b[0;31m         \u001b[0mFigureCanvasAgg\u001b[0m\u001b[0;34m.\u001b[0m\u001b[0mdraw\u001b[0m\u001b[0;34m(\u001b[0m\u001b[0mself\u001b[0m\u001b[0;34m)\u001b[0m\u001b[0;34m\u001b[0m\u001b[0;34m\u001b[0m\u001b[0m\n\u001b[0m\u001b[1;32m    510\u001b[0m         mpl.image.imsave(\n\u001b[1;32m    511\u001b[0m             \u001b[0mfilename_or_obj\u001b[0m\u001b[0;34m,\u001b[0m \u001b[0mself\u001b[0m\u001b[0;34m.\u001b[0m\u001b[0mbuffer_rgba\u001b[0m\u001b[0;34m(\u001b[0m\u001b[0;34m)\u001b[0m\u001b[0;34m,\u001b[0m \u001b[0mformat\u001b[0m\u001b[0;34m=\u001b[0m\u001b[0;34m\"png\"\u001b[0m\u001b[0;34m,\u001b[0m \u001b[0morigin\u001b[0m\u001b[0;34m=\u001b[0m\u001b[0;34m\"upper\"\u001b[0m\u001b[0;34m,\u001b[0m\u001b[0;34m\u001b[0m\u001b[0;34m\u001b[0m\u001b[0m\n",
      "\u001b[0;32m~/opt/anaconda3/envs/learn-env/lib/python3.8/site-packages/matplotlib/backends/backend_agg.py\u001b[0m in \u001b[0;36mdraw\u001b[0;34m(self)\u001b[0m\n\u001b[1;32m    405\u001b[0m              (self.toolbar._wait_cursor_for_draw_cm() if self.toolbar\n\u001b[1;32m    406\u001b[0m               else nullcontext()):\n\u001b[0;32m--> 407\u001b[0;31m             \u001b[0mself\u001b[0m\u001b[0;34m.\u001b[0m\u001b[0mfigure\u001b[0m\u001b[0;34m.\u001b[0m\u001b[0mdraw\u001b[0m\u001b[0;34m(\u001b[0m\u001b[0mself\u001b[0m\u001b[0;34m.\u001b[0m\u001b[0mrenderer\u001b[0m\u001b[0;34m)\u001b[0m\u001b[0;34m\u001b[0m\u001b[0;34m\u001b[0m\u001b[0m\n\u001b[0m\u001b[1;32m    408\u001b[0m             \u001b[0;31m# A GUI class may be need to update a window using this draw, so\u001b[0m\u001b[0;34m\u001b[0m\u001b[0;34m\u001b[0m\u001b[0;34m\u001b[0m\u001b[0m\n\u001b[1;32m    409\u001b[0m             \u001b[0;31m# don't forget to call the superclass.\u001b[0m\u001b[0;34m\u001b[0m\u001b[0;34m\u001b[0m\u001b[0;34m\u001b[0m\u001b[0m\n",
      "\u001b[0;32m~/opt/anaconda3/envs/learn-env/lib/python3.8/site-packages/matplotlib/artist.py\u001b[0m in \u001b[0;36mdraw_wrapper\u001b[0;34m(artist, renderer, *args, **kwargs)\u001b[0m\n\u001b[1;32m     39\u001b[0m                 \u001b[0mrenderer\u001b[0m\u001b[0;34m.\u001b[0m\u001b[0mstart_filter\u001b[0m\u001b[0;34m(\u001b[0m\u001b[0;34m)\u001b[0m\u001b[0;34m\u001b[0m\u001b[0;34m\u001b[0m\u001b[0m\n\u001b[1;32m     40\u001b[0m \u001b[0;34m\u001b[0m\u001b[0m\n\u001b[0;32m---> 41\u001b[0;31m             \u001b[0;32mreturn\u001b[0m \u001b[0mdraw\u001b[0m\u001b[0;34m(\u001b[0m\u001b[0martist\u001b[0m\u001b[0;34m,\u001b[0m \u001b[0mrenderer\u001b[0m\u001b[0;34m,\u001b[0m \u001b[0;34m*\u001b[0m\u001b[0margs\u001b[0m\u001b[0;34m,\u001b[0m \u001b[0;34m**\u001b[0m\u001b[0mkwargs\u001b[0m\u001b[0;34m)\u001b[0m\u001b[0;34m\u001b[0m\u001b[0;34m\u001b[0m\u001b[0m\n\u001b[0m\u001b[1;32m     42\u001b[0m         \u001b[0;32mfinally\u001b[0m\u001b[0;34m:\u001b[0m\u001b[0;34m\u001b[0m\u001b[0;34m\u001b[0m\u001b[0m\n\u001b[1;32m     43\u001b[0m             \u001b[0;32mif\u001b[0m \u001b[0martist\u001b[0m\u001b[0;34m.\u001b[0m\u001b[0mget_agg_filter\u001b[0m\u001b[0;34m(\u001b[0m\u001b[0;34m)\u001b[0m \u001b[0;32mis\u001b[0m \u001b[0;32mnot\u001b[0m \u001b[0;32mNone\u001b[0m\u001b[0;34m:\u001b[0m\u001b[0;34m\u001b[0m\u001b[0;34m\u001b[0m\u001b[0m\n",
      "\u001b[0;32m~/opt/anaconda3/envs/learn-env/lib/python3.8/site-packages/matplotlib/figure.py\u001b[0m in \u001b[0;36mdraw\u001b[0;34m(self, renderer)\u001b[0m\n\u001b[1;32m   1861\u001b[0m \u001b[0;34m\u001b[0m\u001b[0m\n\u001b[1;32m   1862\u001b[0m             \u001b[0mself\u001b[0m\u001b[0;34m.\u001b[0m\u001b[0mpatch\u001b[0m\u001b[0;34m.\u001b[0m\u001b[0mdraw\u001b[0m\u001b[0;34m(\u001b[0m\u001b[0mrenderer\u001b[0m\u001b[0;34m)\u001b[0m\u001b[0;34m\u001b[0m\u001b[0;34m\u001b[0m\u001b[0m\n\u001b[0;32m-> 1863\u001b[0;31m             mimage._draw_list_compositing_images(\n\u001b[0m\u001b[1;32m   1864\u001b[0m                 renderer, self, artists, self.suppressComposite)\n\u001b[1;32m   1865\u001b[0m \u001b[0;34m\u001b[0m\u001b[0m\n",
      "\u001b[0;32m~/opt/anaconda3/envs/learn-env/lib/python3.8/site-packages/matplotlib/image.py\u001b[0m in \u001b[0;36m_draw_list_compositing_images\u001b[0;34m(renderer, parent, artists, suppress_composite)\u001b[0m\n\u001b[1;32m    129\u001b[0m     \u001b[0;32mif\u001b[0m \u001b[0mnot_composite\u001b[0m \u001b[0;32mor\u001b[0m \u001b[0;32mnot\u001b[0m \u001b[0mhas_images\u001b[0m\u001b[0;34m:\u001b[0m\u001b[0;34m\u001b[0m\u001b[0;34m\u001b[0m\u001b[0m\n\u001b[1;32m    130\u001b[0m         \u001b[0;32mfor\u001b[0m \u001b[0ma\u001b[0m \u001b[0;32min\u001b[0m \u001b[0martists\u001b[0m\u001b[0;34m:\u001b[0m\u001b[0;34m\u001b[0m\u001b[0;34m\u001b[0m\u001b[0m\n\u001b[0;32m--> 131\u001b[0;31m             \u001b[0ma\u001b[0m\u001b[0;34m.\u001b[0m\u001b[0mdraw\u001b[0m\u001b[0;34m(\u001b[0m\u001b[0mrenderer\u001b[0m\u001b[0;34m)\u001b[0m\u001b[0;34m\u001b[0m\u001b[0;34m\u001b[0m\u001b[0m\n\u001b[0m\u001b[1;32m    132\u001b[0m     \u001b[0;32melse\u001b[0m\u001b[0;34m:\u001b[0m\u001b[0;34m\u001b[0m\u001b[0;34m\u001b[0m\u001b[0m\n\u001b[1;32m    133\u001b[0m         \u001b[0;31m# Composite any adjacent images together\u001b[0m\u001b[0;34m\u001b[0m\u001b[0;34m\u001b[0m\u001b[0;34m\u001b[0m\u001b[0m\n",
      "\u001b[0;32m~/opt/anaconda3/envs/learn-env/lib/python3.8/site-packages/matplotlib/artist.py\u001b[0m in \u001b[0;36mdraw_wrapper\u001b[0;34m(artist, renderer, *args, **kwargs)\u001b[0m\n\u001b[1;32m     39\u001b[0m                 \u001b[0mrenderer\u001b[0m\u001b[0;34m.\u001b[0m\u001b[0mstart_filter\u001b[0m\u001b[0;34m(\u001b[0m\u001b[0;34m)\u001b[0m\u001b[0;34m\u001b[0m\u001b[0;34m\u001b[0m\u001b[0m\n\u001b[1;32m     40\u001b[0m \u001b[0;34m\u001b[0m\u001b[0m\n\u001b[0;32m---> 41\u001b[0;31m             \u001b[0;32mreturn\u001b[0m \u001b[0mdraw\u001b[0m\u001b[0;34m(\u001b[0m\u001b[0martist\u001b[0m\u001b[0;34m,\u001b[0m \u001b[0mrenderer\u001b[0m\u001b[0;34m,\u001b[0m \u001b[0;34m*\u001b[0m\u001b[0margs\u001b[0m\u001b[0;34m,\u001b[0m \u001b[0;34m**\u001b[0m\u001b[0mkwargs\u001b[0m\u001b[0;34m)\u001b[0m\u001b[0;34m\u001b[0m\u001b[0;34m\u001b[0m\u001b[0m\n\u001b[0m\u001b[1;32m     42\u001b[0m         \u001b[0;32mfinally\u001b[0m\u001b[0;34m:\u001b[0m\u001b[0;34m\u001b[0m\u001b[0;34m\u001b[0m\u001b[0m\n\u001b[1;32m     43\u001b[0m             \u001b[0;32mif\u001b[0m \u001b[0martist\u001b[0m\u001b[0;34m.\u001b[0m\u001b[0mget_agg_filter\u001b[0m\u001b[0;34m(\u001b[0m\u001b[0;34m)\u001b[0m \u001b[0;32mis\u001b[0m \u001b[0;32mnot\u001b[0m \u001b[0;32mNone\u001b[0m\u001b[0;34m:\u001b[0m\u001b[0;34m\u001b[0m\u001b[0;34m\u001b[0m\u001b[0m\n",
      "\u001b[0;32m~/opt/anaconda3/envs/learn-env/lib/python3.8/site-packages/matplotlib/cbook/deprecation.py\u001b[0m in \u001b[0;36mwrapper\u001b[0;34m(*inner_args, **inner_kwargs)\u001b[0m\n\u001b[1;32m    409\u001b[0m                          \u001b[0;32melse\u001b[0m \u001b[0mdeprecation_addendum\u001b[0m\u001b[0;34m,\u001b[0m\u001b[0;34m\u001b[0m\u001b[0;34m\u001b[0m\u001b[0m\n\u001b[1;32m    410\u001b[0m                 **kwargs)\n\u001b[0;32m--> 411\u001b[0;31m         \u001b[0;32mreturn\u001b[0m \u001b[0mfunc\u001b[0m\u001b[0;34m(\u001b[0m\u001b[0;34m*\u001b[0m\u001b[0minner_args\u001b[0m\u001b[0;34m,\u001b[0m \u001b[0;34m**\u001b[0m\u001b[0minner_kwargs\u001b[0m\u001b[0;34m)\u001b[0m\u001b[0;34m\u001b[0m\u001b[0;34m\u001b[0m\u001b[0m\n\u001b[0m\u001b[1;32m    412\u001b[0m \u001b[0;34m\u001b[0m\u001b[0m\n\u001b[1;32m    413\u001b[0m     \u001b[0;32mreturn\u001b[0m \u001b[0mwrapper\u001b[0m\u001b[0;34m\u001b[0m\u001b[0;34m\u001b[0m\u001b[0m\n",
      "\u001b[0;32m~/opt/anaconda3/envs/learn-env/lib/python3.8/site-packages/matplotlib/axes/_base.py\u001b[0m in \u001b[0;36mdraw\u001b[0;34m(self, renderer, inframe)\u001b[0m\n\u001b[1;32m   2746\u001b[0m             \u001b[0mrenderer\u001b[0m\u001b[0;34m.\u001b[0m\u001b[0mstop_rasterizing\u001b[0m\u001b[0;34m(\u001b[0m\u001b[0;34m)\u001b[0m\u001b[0;34m\u001b[0m\u001b[0;34m\u001b[0m\u001b[0m\n\u001b[1;32m   2747\u001b[0m \u001b[0;34m\u001b[0m\u001b[0m\n\u001b[0;32m-> 2748\u001b[0;31m         \u001b[0mmimage\u001b[0m\u001b[0;34m.\u001b[0m\u001b[0m_draw_list_compositing_images\u001b[0m\u001b[0;34m(\u001b[0m\u001b[0mrenderer\u001b[0m\u001b[0;34m,\u001b[0m \u001b[0mself\u001b[0m\u001b[0;34m,\u001b[0m \u001b[0martists\u001b[0m\u001b[0;34m)\u001b[0m\u001b[0;34m\u001b[0m\u001b[0;34m\u001b[0m\u001b[0m\n\u001b[0m\u001b[1;32m   2749\u001b[0m \u001b[0;34m\u001b[0m\u001b[0m\n\u001b[1;32m   2750\u001b[0m         \u001b[0mrenderer\u001b[0m\u001b[0;34m.\u001b[0m\u001b[0mclose_group\u001b[0m\u001b[0;34m(\u001b[0m\u001b[0;34m'axes'\u001b[0m\u001b[0;34m)\u001b[0m\u001b[0;34m\u001b[0m\u001b[0;34m\u001b[0m\u001b[0m\n",
      "\u001b[0;32m~/opt/anaconda3/envs/learn-env/lib/python3.8/site-packages/matplotlib/image.py\u001b[0m in \u001b[0;36m_draw_list_compositing_images\u001b[0;34m(renderer, parent, artists, suppress_composite)\u001b[0m\n\u001b[1;32m    129\u001b[0m     \u001b[0;32mif\u001b[0m \u001b[0mnot_composite\u001b[0m \u001b[0;32mor\u001b[0m \u001b[0;32mnot\u001b[0m \u001b[0mhas_images\u001b[0m\u001b[0;34m:\u001b[0m\u001b[0;34m\u001b[0m\u001b[0;34m\u001b[0m\u001b[0m\n\u001b[1;32m    130\u001b[0m         \u001b[0;32mfor\u001b[0m \u001b[0ma\u001b[0m \u001b[0;32min\u001b[0m \u001b[0martists\u001b[0m\u001b[0;34m:\u001b[0m\u001b[0;34m\u001b[0m\u001b[0;34m\u001b[0m\u001b[0m\n\u001b[0;32m--> 131\u001b[0;31m             \u001b[0ma\u001b[0m\u001b[0;34m.\u001b[0m\u001b[0mdraw\u001b[0m\u001b[0;34m(\u001b[0m\u001b[0mrenderer\u001b[0m\u001b[0;34m)\u001b[0m\u001b[0;34m\u001b[0m\u001b[0;34m\u001b[0m\u001b[0m\n\u001b[0m\u001b[1;32m    132\u001b[0m     \u001b[0;32melse\u001b[0m\u001b[0;34m:\u001b[0m\u001b[0;34m\u001b[0m\u001b[0;34m\u001b[0m\u001b[0m\n\u001b[1;32m    133\u001b[0m         \u001b[0;31m# Composite any adjacent images together\u001b[0m\u001b[0;34m\u001b[0m\u001b[0;34m\u001b[0m\u001b[0;34m\u001b[0m\u001b[0m\n",
      "\u001b[0;32m~/opt/anaconda3/envs/learn-env/lib/python3.8/site-packages/matplotlib/artist.py\u001b[0m in \u001b[0;36mdraw_wrapper\u001b[0;34m(artist, renderer, *args, **kwargs)\u001b[0m\n\u001b[1;32m     39\u001b[0m                 \u001b[0mrenderer\u001b[0m\u001b[0;34m.\u001b[0m\u001b[0mstart_filter\u001b[0m\u001b[0;34m(\u001b[0m\u001b[0;34m)\u001b[0m\u001b[0;34m\u001b[0m\u001b[0;34m\u001b[0m\u001b[0m\n\u001b[1;32m     40\u001b[0m \u001b[0;34m\u001b[0m\u001b[0m\n\u001b[0;32m---> 41\u001b[0;31m             \u001b[0;32mreturn\u001b[0m \u001b[0mdraw\u001b[0m\u001b[0;34m(\u001b[0m\u001b[0martist\u001b[0m\u001b[0;34m,\u001b[0m \u001b[0mrenderer\u001b[0m\u001b[0;34m,\u001b[0m \u001b[0;34m*\u001b[0m\u001b[0margs\u001b[0m\u001b[0;34m,\u001b[0m \u001b[0;34m**\u001b[0m\u001b[0mkwargs\u001b[0m\u001b[0;34m)\u001b[0m\u001b[0;34m\u001b[0m\u001b[0;34m\u001b[0m\u001b[0m\n\u001b[0m\u001b[1;32m     42\u001b[0m         \u001b[0;32mfinally\u001b[0m\u001b[0;34m:\u001b[0m\u001b[0;34m\u001b[0m\u001b[0;34m\u001b[0m\u001b[0m\n\u001b[1;32m     43\u001b[0m             \u001b[0;32mif\u001b[0m \u001b[0martist\u001b[0m\u001b[0;34m.\u001b[0m\u001b[0mget_agg_filter\u001b[0m\u001b[0;34m(\u001b[0m\u001b[0;34m)\u001b[0m \u001b[0;32mis\u001b[0m \u001b[0;32mnot\u001b[0m \u001b[0;32mNone\u001b[0m\u001b[0;34m:\u001b[0m\u001b[0;34m\u001b[0m\u001b[0;34m\u001b[0m\u001b[0m\n",
      "\u001b[0;32m~/opt/anaconda3/envs/learn-env/lib/python3.8/site-packages/matplotlib/text.py\u001b[0m in \u001b[0;36mdraw\u001b[0;34m(self, renderer)\u001b[0m\n\u001b[1;32m   1896\u001b[0m         \u001b[0;31m# Draw text, including FancyBboxPatch, after FancyArrowPatch.\u001b[0m\u001b[0;34m\u001b[0m\u001b[0;34m\u001b[0m\u001b[0;34m\u001b[0m\u001b[0m\n\u001b[1;32m   1897\u001b[0m         \u001b[0;31m# Otherwise, a wedge arrowstyle can land partly on top of the Bbox.\u001b[0m\u001b[0;34m\u001b[0m\u001b[0;34m\u001b[0m\u001b[0;34m\u001b[0m\u001b[0m\n\u001b[0;32m-> 1898\u001b[0;31m         \u001b[0mText\u001b[0m\u001b[0;34m.\u001b[0m\u001b[0mdraw\u001b[0m\u001b[0;34m(\u001b[0m\u001b[0mself\u001b[0m\u001b[0;34m,\u001b[0m \u001b[0mrenderer\u001b[0m\u001b[0;34m)\u001b[0m\u001b[0;34m\u001b[0m\u001b[0;34m\u001b[0m\u001b[0m\n\u001b[0m\u001b[1;32m   1899\u001b[0m \u001b[0;34m\u001b[0m\u001b[0m\n\u001b[1;32m   1900\u001b[0m     \u001b[0;32mdef\u001b[0m \u001b[0mget_window_extent\u001b[0m\u001b[0;34m(\u001b[0m\u001b[0mself\u001b[0m\u001b[0;34m,\u001b[0m \u001b[0mrenderer\u001b[0m\u001b[0;34m=\u001b[0m\u001b[0;32mNone\u001b[0m\u001b[0;34m)\u001b[0m\u001b[0;34m:\u001b[0m\u001b[0;34m\u001b[0m\u001b[0;34m\u001b[0m\u001b[0m\n",
      "\u001b[0;32m~/opt/anaconda3/envs/learn-env/lib/python3.8/site-packages/matplotlib/artist.py\u001b[0m in \u001b[0;36mdraw_wrapper\u001b[0;34m(artist, renderer, *args, **kwargs)\u001b[0m\n\u001b[1;32m     39\u001b[0m                 \u001b[0mrenderer\u001b[0m\u001b[0;34m.\u001b[0m\u001b[0mstart_filter\u001b[0m\u001b[0;34m(\u001b[0m\u001b[0;34m)\u001b[0m\u001b[0;34m\u001b[0m\u001b[0;34m\u001b[0m\u001b[0m\n\u001b[1;32m     40\u001b[0m \u001b[0;34m\u001b[0m\u001b[0m\n\u001b[0;32m---> 41\u001b[0;31m             \u001b[0;32mreturn\u001b[0m \u001b[0mdraw\u001b[0m\u001b[0;34m(\u001b[0m\u001b[0martist\u001b[0m\u001b[0;34m,\u001b[0m \u001b[0mrenderer\u001b[0m\u001b[0;34m,\u001b[0m \u001b[0;34m*\u001b[0m\u001b[0margs\u001b[0m\u001b[0;34m,\u001b[0m \u001b[0;34m**\u001b[0m\u001b[0mkwargs\u001b[0m\u001b[0;34m)\u001b[0m\u001b[0;34m\u001b[0m\u001b[0;34m\u001b[0m\u001b[0m\n\u001b[0m\u001b[1;32m     42\u001b[0m         \u001b[0;32mfinally\u001b[0m\u001b[0;34m:\u001b[0m\u001b[0;34m\u001b[0m\u001b[0;34m\u001b[0m\u001b[0m\n\u001b[1;32m     43\u001b[0m             \u001b[0;32mif\u001b[0m \u001b[0martist\u001b[0m\u001b[0;34m.\u001b[0m\u001b[0mget_agg_filter\u001b[0m\u001b[0;34m(\u001b[0m\u001b[0;34m)\u001b[0m \u001b[0;32mis\u001b[0m \u001b[0;32mnot\u001b[0m \u001b[0;32mNone\u001b[0m\u001b[0;34m:\u001b[0m\u001b[0;34m\u001b[0m\u001b[0;34m\u001b[0m\u001b[0m\n",
      "\u001b[0;32m~/opt/anaconda3/envs/learn-env/lib/python3.8/site-packages/matplotlib/text.py\u001b[0m in \u001b[0;36mdraw\u001b[0;34m(self, renderer)\u001b[0m\n\u001b[1;32m    723\u001b[0m                                           mtext=mtext)\n\u001b[1;32m    724\u001b[0m                 \u001b[0;32melse\u001b[0m\u001b[0;34m:\u001b[0m\u001b[0;34m\u001b[0m\u001b[0;34m\u001b[0m\u001b[0m\n\u001b[0;32m--> 725\u001b[0;31m                     textrenderer.draw_text(gc, x, y, clean_line,\n\u001b[0m\u001b[1;32m    726\u001b[0m                                            \u001b[0mtextobj\u001b[0m\u001b[0;34m.\u001b[0m\u001b[0m_fontproperties\u001b[0m\u001b[0;34m,\u001b[0m \u001b[0mangle\u001b[0m\u001b[0;34m,\u001b[0m\u001b[0;34m\u001b[0m\u001b[0;34m\u001b[0m\u001b[0m\n\u001b[1;32m    727\u001b[0m                                            ismath=ismath, mtext=mtext)\n",
      "\u001b[0;32m~/opt/anaconda3/envs/learn-env/lib/python3.8/site-packages/matplotlib/backends/backend_agg.py\u001b[0m in \u001b[0;36mdraw_text\u001b[0;34m(self, gc, x, y, s, prop, angle, ismath, mtext)\u001b[0m\n\u001b[1;32m    193\u001b[0m \u001b[0;34m\u001b[0m\u001b[0m\n\u001b[1;32m    194\u001b[0m         \u001b[0mflags\u001b[0m \u001b[0;34m=\u001b[0m \u001b[0mget_hinting_flag\u001b[0m\u001b[0;34m(\u001b[0m\u001b[0;34m)\u001b[0m\u001b[0;34m\u001b[0m\u001b[0;34m\u001b[0m\u001b[0m\n\u001b[0;32m--> 195\u001b[0;31m         \u001b[0mfont\u001b[0m \u001b[0;34m=\u001b[0m \u001b[0mself\u001b[0m\u001b[0;34m.\u001b[0m\u001b[0m_get_agg_font\u001b[0m\u001b[0;34m(\u001b[0m\u001b[0mprop\u001b[0m\u001b[0;34m)\u001b[0m\u001b[0;34m\u001b[0m\u001b[0;34m\u001b[0m\u001b[0m\n\u001b[0m\u001b[1;32m    196\u001b[0m \u001b[0;34m\u001b[0m\u001b[0m\n\u001b[1;32m    197\u001b[0m         \u001b[0;32mif\u001b[0m \u001b[0mfont\u001b[0m \u001b[0;32mis\u001b[0m \u001b[0;32mNone\u001b[0m\u001b[0;34m:\u001b[0m\u001b[0;34m\u001b[0m\u001b[0;34m\u001b[0m\u001b[0m\n",
      "\u001b[0;32m~/opt/anaconda3/envs/learn-env/lib/python3.8/site-packages/matplotlib/backends/backend_agg.py\u001b[0m in \u001b[0;36m_get_agg_font\u001b[0;34m(self, prop)\u001b[0m\n\u001b[1;32m    270\u001b[0m         \u001b[0mGet\u001b[0m \u001b[0mthe\u001b[0m \u001b[0mfont\u001b[0m \u001b[0;32mfor\u001b[0m \u001b[0mtext\u001b[0m \u001b[0minstance\u001b[0m \u001b[0mt\u001b[0m\u001b[0;34m,\u001b[0m \u001b[0mcaching\u001b[0m \u001b[0;32mfor\u001b[0m \u001b[0mefficiency\u001b[0m\u001b[0;34m\u001b[0m\u001b[0;34m\u001b[0m\u001b[0m\n\u001b[1;32m    271\u001b[0m         \"\"\"\n\u001b[0;32m--> 272\u001b[0;31m         \u001b[0mfname\u001b[0m \u001b[0;34m=\u001b[0m \u001b[0mfindfont\u001b[0m\u001b[0;34m(\u001b[0m\u001b[0mprop\u001b[0m\u001b[0;34m)\u001b[0m\u001b[0;34m\u001b[0m\u001b[0;34m\u001b[0m\u001b[0m\n\u001b[0m\u001b[1;32m    273\u001b[0m         \u001b[0mfont\u001b[0m \u001b[0;34m=\u001b[0m \u001b[0mget_font\u001b[0m\u001b[0;34m(\u001b[0m\u001b[0mfname\u001b[0m\u001b[0;34m)\u001b[0m\u001b[0;34m\u001b[0m\u001b[0;34m\u001b[0m\u001b[0m\n\u001b[1;32m    274\u001b[0m \u001b[0;34m\u001b[0m\u001b[0m\n",
      "\u001b[0;32m~/opt/anaconda3/envs/learn-env/lib/python3.8/site-packages/matplotlib/font_manager.py\u001b[0m in \u001b[0;36mfindfont\u001b[0;34m(self, prop, fontext, directory, fallback_to_default, rebuild_if_missing)\u001b[0m\n\u001b[1;32m   1312\u001b[0m             \u001b[0mprop\u001b[0m\u001b[0;34m,\u001b[0m \u001b[0mfontext\u001b[0m\u001b[0;34m,\u001b[0m \u001b[0mdirectory\u001b[0m\u001b[0;34m,\u001b[0m \u001b[0mfallback_to_default\u001b[0m\u001b[0;34m,\u001b[0m \u001b[0mrebuild_if_missing\u001b[0m\u001b[0;34m,\u001b[0m\u001b[0;34m\u001b[0m\u001b[0;34m\u001b[0m\u001b[0m\n\u001b[1;32m   1313\u001b[0m             rc_params)\n\u001b[0;32m-> 1314\u001b[0;31m         \u001b[0;32mreturn\u001b[0m \u001b[0mos\u001b[0m\u001b[0;34m.\u001b[0m\u001b[0mpath\u001b[0m\u001b[0;34m.\u001b[0m\u001b[0mrealpath\u001b[0m\u001b[0;34m(\u001b[0m\u001b[0mfilename\u001b[0m\u001b[0;34m)\u001b[0m\u001b[0;34m\u001b[0m\u001b[0;34m\u001b[0m\u001b[0m\n\u001b[0m\u001b[1;32m   1315\u001b[0m \u001b[0;34m\u001b[0m\u001b[0m\n\u001b[1;32m   1316\u001b[0m     \u001b[0;34m@\u001b[0m\u001b[0mlru_cache\u001b[0m\u001b[0;34m(\u001b[0m\u001b[0;34m)\u001b[0m\u001b[0;34m\u001b[0m\u001b[0;34m\u001b[0m\u001b[0m\n",
      "\u001b[0;32m~/opt/anaconda3/envs/learn-env/lib/python3.8/posixpath.py\u001b[0m in \u001b[0;36mrealpath\u001b[0;34m(filename)\u001b[0m\n\u001b[1;32m    389\u001b[0m symbolic links encountered in the path.\"\"\"\n\u001b[1;32m    390\u001b[0m     \u001b[0mfilename\u001b[0m \u001b[0;34m=\u001b[0m \u001b[0mos\u001b[0m\u001b[0;34m.\u001b[0m\u001b[0mfspath\u001b[0m\u001b[0;34m(\u001b[0m\u001b[0mfilename\u001b[0m\u001b[0;34m)\u001b[0m\u001b[0;34m\u001b[0m\u001b[0;34m\u001b[0m\u001b[0m\n\u001b[0;32m--> 391\u001b[0;31m     \u001b[0mpath\u001b[0m\u001b[0;34m,\u001b[0m \u001b[0mok\u001b[0m \u001b[0;34m=\u001b[0m \u001b[0m_joinrealpath\u001b[0m\u001b[0;34m(\u001b[0m\u001b[0mfilename\u001b[0m\u001b[0;34m[\u001b[0m\u001b[0;34m:\u001b[0m\u001b[0;36m0\u001b[0m\u001b[0;34m]\u001b[0m\u001b[0;34m,\u001b[0m \u001b[0mfilename\u001b[0m\u001b[0;34m,\u001b[0m \u001b[0;34m{\u001b[0m\u001b[0;34m}\u001b[0m\u001b[0;34m)\u001b[0m\u001b[0;34m\u001b[0m\u001b[0;34m\u001b[0m\u001b[0m\n\u001b[0m\u001b[1;32m    392\u001b[0m     \u001b[0;32mreturn\u001b[0m \u001b[0mabspath\u001b[0m\u001b[0;34m(\u001b[0m\u001b[0mpath\u001b[0m\u001b[0;34m)\u001b[0m\u001b[0;34m\u001b[0m\u001b[0;34m\u001b[0m\u001b[0m\n\u001b[1;32m    393\u001b[0m \u001b[0;34m\u001b[0m\u001b[0m\n",
      "\u001b[0;32m~/opt/anaconda3/envs/learn-env/lib/python3.8/posixpath.py\u001b[0m in \u001b[0;36m_joinrealpath\u001b[0;34m(path, rest, seen)\u001b[0m\n\u001b[1;32m    423\u001b[0m             \u001b[0;32mcontinue\u001b[0m\u001b[0;34m\u001b[0m\u001b[0;34m\u001b[0m\u001b[0m\n\u001b[1;32m    424\u001b[0m         \u001b[0mnewpath\u001b[0m \u001b[0;34m=\u001b[0m \u001b[0mjoin\u001b[0m\u001b[0;34m(\u001b[0m\u001b[0mpath\u001b[0m\u001b[0;34m,\u001b[0m \u001b[0mname\u001b[0m\u001b[0;34m)\u001b[0m\u001b[0;34m\u001b[0m\u001b[0;34m\u001b[0m\u001b[0m\n\u001b[0;32m--> 425\u001b[0;31m         \u001b[0;32mif\u001b[0m \u001b[0;32mnot\u001b[0m \u001b[0mislink\u001b[0m\u001b[0;34m(\u001b[0m\u001b[0mnewpath\u001b[0m\u001b[0;34m)\u001b[0m\u001b[0;34m:\u001b[0m\u001b[0;34m\u001b[0m\u001b[0;34m\u001b[0m\u001b[0m\n\u001b[0m\u001b[1;32m    426\u001b[0m             \u001b[0mpath\u001b[0m \u001b[0;34m=\u001b[0m \u001b[0mnewpath\u001b[0m\u001b[0;34m\u001b[0m\u001b[0;34m\u001b[0m\u001b[0m\n\u001b[1;32m    427\u001b[0m             \u001b[0;32mcontinue\u001b[0m\u001b[0;34m\u001b[0m\u001b[0;34m\u001b[0m\u001b[0m\n",
      "\u001b[0;32m~/opt/anaconda3/envs/learn-env/lib/python3.8/posixpath.py\u001b[0m in \u001b[0;36mislink\u001b[0;34m(path)\u001b[0m\n\u001b[1;32m    165\u001b[0m     \u001b[0;34m\"\"\"Test whether a path is a symbolic link\"\"\"\u001b[0m\u001b[0;34m\u001b[0m\u001b[0;34m\u001b[0m\u001b[0m\n\u001b[1;32m    166\u001b[0m     \u001b[0;32mtry\u001b[0m\u001b[0;34m:\u001b[0m\u001b[0;34m\u001b[0m\u001b[0;34m\u001b[0m\u001b[0m\n\u001b[0;32m--> 167\u001b[0;31m         \u001b[0mst\u001b[0m \u001b[0;34m=\u001b[0m \u001b[0mos\u001b[0m\u001b[0;34m.\u001b[0m\u001b[0mlstat\u001b[0m\u001b[0;34m(\u001b[0m\u001b[0mpath\u001b[0m\u001b[0;34m)\u001b[0m\u001b[0;34m\u001b[0m\u001b[0;34m\u001b[0m\u001b[0m\n\u001b[0m\u001b[1;32m    168\u001b[0m     \u001b[0;32mexcept\u001b[0m \u001b[0;34m(\u001b[0m\u001b[0mOSError\u001b[0m\u001b[0;34m,\u001b[0m \u001b[0mValueError\u001b[0m\u001b[0;34m,\u001b[0m \u001b[0mAttributeError\u001b[0m\u001b[0;34m)\u001b[0m\u001b[0;34m:\u001b[0m\u001b[0;34m\u001b[0m\u001b[0;34m\u001b[0m\u001b[0m\n\u001b[1;32m    169\u001b[0m         \u001b[0;32mreturn\u001b[0m \u001b[0;32mFalse\u001b[0m\u001b[0;34m\u001b[0m\u001b[0;34m\u001b[0m\u001b[0m\n",
      "\u001b[0;31mKeyboardInterrupt\u001b[0m: "
     ]
    }
   ],
   "source": [
    "tree.plot_tree(first_decision_tree)"
   ]
  },
  {
   "cell_type": "code",
   "execution_count": 81,
   "metadata": {},
   "outputs": [
    {
     "data": {
      "text/plain": [
       "<sklearn.metrics._plot.confusion_matrix.ConfusionMatrixDisplay at 0x7f8e3838ceb0>"
      ]
     },
     "execution_count": 81,
     "metadata": {},
     "output_type": "execute_result"
    },
    {
     "data": {
      "image/png": "[encoded data removed]",
      "text/plain": [
       "<Figure size 432x288 with 2 Axes>"
      ]
     },
     "metadata": {
      "needs_background": "light"
     },
     "output_type": "display_data"
    }
   ],
   "source": [
    "# confusion matrix on the training data\n",
    "plot_confusion_matrix(clf, X_train, y_train, cmap = 'Oranges')"
   ]
  },
  {
   "cell_type": "code",
   "execution_count": 82,
   "metadata": {},
   "outputs": [
    {
     "data": {
      "text/plain": [
       "<sklearn.metrics._plot.confusion_matrix.ConfusionMatrixDisplay at 0x7f8e5dd1d580>"
      ]
     },
     "execution_count": 82,
     "metadata": {},
     "output_type": "execute_result"
    },
    {
     "data": {
      "image/png": "[encoded data removed]",
      "text/plain": [
       "<Figure size 432x288 with 2 Axes>"
      ]
     },
     "metadata": {
      "needs_background": "light"
     },
     "output_type": "display_data"
    }
   ],
   "source": [
    "# plot confusion matrix on the testing data\n",
    "plot_confusion_matrix(clf,X_test,y_test, cmap = 'Oranges')"
   ]
  },
  {
   "cell_type": "code",
   "execution_count": 125,
   "metadata": {},
   "outputs": [
    {
     "data": {
      "text/plain": [
       "<sklearn.metrics._plot.roc_curve.RocCurveDisplay at 0x7f8e28d93dc0>"
      ]
     },
     "execution_count": 125,
     "metadata": {},
     "output_type": "execute_result"
    },
    {
     "data": {
      "image/png": "[encoded data removed]",
      "text/plain": [
       "<Figure size 432x288 with 1 Axes>"
      ]
     },
     "metadata": {
      "needs_background": "light"
     },
     "output_type": "display_data"
    }
   ],
   "source": [
    "fig, ax = plt.subplots()\n",
    "plot_roc_curve(clf, X_test, y_test, ax=ax, color = 'darkorange')"
   ]
  },
  {
   "cell_type": "code",
   "execution_count": null,
   "metadata": {},
   "outputs": [],
   "source": []
  },
  {
   "cell_type": "code",
   "execution_count": 84,
   "metadata": {},
   "outputs": [
    {
     "data": {
      "text/plain": [
       "0.7041071023371909"
      ]
     },
     "execution_count": 84,
     "metadata": {},
     "output_type": "execute_result"
    }
   ],
   "source": [
    "y_pred=clf.predict(X_test)\n",
    "metrics.accuracy_score(y_test, y_pred)"
   ]
  },
  {
   "cell_type": "markdown",
   "metadata": {},
   "source": [
    "# Random Forest"
   ]
  },
  {
   "cell_type": "code",
   "execution_count": 85,
   "metadata": {},
   "outputs": [],
   "source": [
    "rfc = RandomForestClassifier()"
   ]
  },
  {
   "cell_type": "code",
   "execution_count": 86,
   "metadata": {},
   "outputs": [],
   "source": [
    "rfc.fit(X_train,y_train)\n",
    "\n",
    "y_pred=rfc.predict(X_test)"
   ]
  },
  {
   "cell_type": "code",
   "execution_count": 87,
   "metadata": {},
   "outputs": [
    {
     "data": {
      "text/plain": [
       "array([0., 0., 1., ..., 0., 0., 0.])"
      ]
     },
     "execution_count": 87,
     "metadata": {},
     "output_type": "execute_result"
    }
   ],
   "source": [
    "y_pred"
   ]
  },
  {
   "cell_type": "code",
   "execution_count": 88,
   "metadata": {},
   "outputs": [
    {
     "data": {
      "text/plain": [
       "0.7968005445881552"
      ]
     },
     "execution_count": 88,
     "metadata": {},
     "output_type": "execute_result"
    }
   ],
   "source": [
    "metrics.accuracy_score(y_test, y_pred)"
   ]
  },
  {
   "cell_type": "code",
   "execution_count": 89,
   "metadata": {},
   "outputs": [
    {
     "data": {
      "text/plain": [
       "<sklearn.metrics._plot.confusion_matrix.ConfusionMatrixDisplay at 0x7f8e5dab02e0>"
      ]
     },
     "execution_count": 89,
     "metadata": {},
     "output_type": "execute_result"
    },
    {
     "data": {
      "image/png": "[encoded data removed]",
      "text/plain": [
       "<Figure size 432x288 with 2 Axes>"
      ]
     },
     "metadata": {
      "needs_background": "light"
     },
     "output_type": "display_data"
    }
   ],
   "source": [
    "plot_confusion_matrix(rfc, X_train, y_train, cmap = 'Oranges')"
   ]
  },
  {
   "cell_type": "code",
   "execution_count": 90,
   "metadata": {},
   "outputs": [
    {
     "data": {
      "text/plain": [
       "<sklearn.metrics._plot.confusion_matrix.ConfusionMatrixDisplay at 0x7f8e384d8d60>"
      ]
     },
     "execution_count": 90,
     "metadata": {},
     "output_type": "execute_result"
    },
    {
     "data": {
      "image/png": "[encoded data removed]",
      "text/plain": [
       "<Figure size 432x288 with 2 Axes>"
      ]
     },
     "metadata": {
      "needs_background": "light"
     },
     "output_type": "display_data"
    }
   ],
   "source": [
    "plot_confusion_matrix(rfc, X_test, y_test, cmap = 'Oranges')"
   ]
  },
  {
   "cell_type": "code",
   "execution_count": 91,
   "metadata": {},
   "outputs": [
    {
     "data": {
      "text/plain": [
       "<sklearn.metrics._plot.roc_curve.RocCurveDisplay at 0x7f8e38546fa0>"
      ]
     },
     "execution_count": 91,
     "metadata": {},
     "output_type": "execute_result"
    },
    {
     "data": {
      "image/png": "[encoded data removed]",
      "text/plain": [
       "<Figure size 432x288 with 1 Axes>"
      ]
     },
     "metadata": {
      "needs_background": "light"
     },
     "output_type": "display_data"
    }
   ],
   "source": [
    "fig, ax = plt.subplots()\n",
    "plot_roc_curve(rfc, X_test, y_test, ax=ax, color = 'green')"
   ]
  },
  {
   "cell_type": "markdown",
   "metadata": {},
   "source": [
    "# k Nearest Neighbour"
   ]
  },
  {
   "cell_type": "code",
   "execution_count": 92,
   "metadata": {},
   "outputs": [],
   "source": [
    " knn = KNeighborsClassifier()"
   ]
  },
  {
   "cell_type": "code",
   "execution_count": 93,
   "metadata": {},
   "outputs": [
    {
     "data": {
      "text/plain": [
       "KNeighborsClassifier()"
      ]
     },
     "execution_count": 93,
     "metadata": {},
     "output_type": "execute_result"
    }
   ],
   "source": [
    "knn.fit(X_train,y_train)"
   ]
  },
  {
   "cell_type": "code",
   "execution_count": 94,
   "metadata": {},
   "outputs": [],
   "source": [
    "y_pred = knn.predict(X_test)"
   ]
  },
  {
   "cell_type": "code",
   "execution_count": 95,
   "metadata": {},
   "outputs": [
    {
     "data": {
      "text/plain": [
       "0.7367823916496483"
      ]
     },
     "execution_count": 95,
     "metadata": {},
     "output_type": "execute_result"
    }
   ],
   "source": [
    "knn.score(X_test,y_test)"
   ]
  },
  {
   "cell_type": "code",
   "execution_count": 96,
   "metadata": {},
   "outputs": [
    {
     "data": {
      "text/plain": [
       "0.7367823916496483"
      ]
     },
     "execution_count": 96,
     "metadata": {},
     "output_type": "execute_result"
    }
   ],
   "source": [
    "metrics.accuracy_score(y_test, y_pred)"
   ]
  },
  {
   "cell_type": "code",
   "execution_count": 97,
   "metadata": {},
   "outputs": [
    {
     "data": {
      "text/plain": [
       "<sklearn.metrics._plot.roc_curve.RocCurveDisplay at 0x7f8e5c0c3d60>"
      ]
     },
     "execution_count": 97,
     "metadata": {},
     "output_type": "execute_result"
    },
    {
     "data": {
      "image/png": "[encoded data removed]",
      "text/plain": [
       "<Figure size 864x720 with 1 Axes>"
      ]
     },
     "metadata": {
      "needs_background": "light"
     },
     "output_type": "display_data"
    }
   ],
   "source": [
    "fig, ax = plt.subplots(figsize = (12,10))\n",
    "plot_roc_curve(logreg,X_test,y_test, ax = ax, color = 'orange')\n",
    "plot_roc_curve(rfc, X_test, y_test, ax=ax, color = 'green')\n",
    "plot_roc_curve(clf, X_test, y_test, ax=ax, color = 'pink')\n",
    "plot_roc_curve(knn, X_test, y_test, ax=ax, color = 'purple')"
   ]
  },
  {
   "cell_type": "code",
   "execution_count": 98,
   "metadata": {},
   "outputs": [
    {
     "data": {
      "text/plain": [
       "Index(['h1n1_vaccine', 'seasonal_vaccine', 'h1n1_concern', 'h1n1_knowledge',\n",
       "       'behavioral_antiviral_meds', 'behavioral_avoidance',\n",
       "       'behavioral_face_mask', 'behavioral_wash_hands',\n",
       "       'behavioral_large_gatherings', 'behavioral_outside_home',\n",
       "       ...\n",
       "       'opinion_h1n1_sick_from_vacc_1.0', 'opinion_h1n1_sick_from_vacc_2.0',\n",
       "       'opinion_h1n1_sick_from_vacc_3.0', 'opinion_h1n1_sick_from_vacc_4.0',\n",
       "       'opinion_h1n1_sick_from_vacc_5.0', 'opinion_seas_vacc_effective_1.0',\n",
       "       'opinion_seas_vacc_effective_2.0', 'opinion_seas_vacc_effective_3.0',\n",
       "       'opinion_seas_vacc_effective_4.0', 'opinion_seas_vacc_effective_5.0'],\n",
       "      dtype='object', length=109)"
      ]
     },
     "execution_count": 98,
     "metadata": {},
     "output_type": "execute_result"
    }
   ],
   "source": [
    "df.columns"
   ]
  },
  {
   "cell_type": "code",
   "execution_count": 99,
   "metadata": {},
   "outputs": [
    {
     "data": {
      "text/html": [
       "<div>\n",
       "<style scoped>\n",
       "    .dataframe tbody tr th:only-of-type {\n",
       "        vertical-align: middle;\n",
       "    }\n",
       "\n",
       "    .dataframe tbody tr th {\n",
       "        vertical-align: top;\n",
       "    }\n",
       "\n",
       "    .dataframe thead th {\n",
       "        text-align: right;\n",
       "    }\n",
       "</style>\n",
       "<table border=\"1\" class=\"dataframe\">\n",
       "  <thead>\n",
       "    <tr style=\"text-align: right;\">\n",
       "      <th>seasonal_vaccine</th>\n",
       "      <th>0.0</th>\n",
       "      <th>1.0</th>\n",
       "    </tr>\n",
       "    <tr>\n",
       "      <th>opinion_seas_risk</th>\n",
       "      <th></th>\n",
       "      <th></th>\n",
       "    </tr>\n",
       "  </thead>\n",
       "  <tbody>\n",
       "    <tr>\n",
       "      <th>1.0</th>\n",
       "      <td>4723</td>\n",
       "      <td>1251</td>\n",
       "    </tr>\n",
       "    <tr>\n",
       "      <th>2.0</th>\n",
       "      <td>5926</td>\n",
       "      <td>3542</td>\n",
       "    </tr>\n",
       "    <tr>\n",
       "      <th>3.0</th>\n",
       "      <td>300</td>\n",
       "      <td>377</td>\n",
       "    </tr>\n",
       "    <tr>\n",
       "      <th>4.0</th>\n",
       "      <td>2568</td>\n",
       "      <td>5062</td>\n",
       "    </tr>\n",
       "    <tr>\n",
       "      <th>5.0</th>\n",
       "      <td>755</td>\n",
       "      <td>2203</td>\n",
       "    </tr>\n",
       "  </tbody>\n",
       "</table>\n",
       "</div>"
      ],
      "text/plain": [
       "seasonal_vaccine    0.0   1.0\n",
       "opinion_seas_risk            \n",
       "1.0                4723  1251\n",
       "2.0                5926  3542\n",
       "3.0                 300   377\n",
       "4.0                2568  5062\n",
       "5.0                 755  2203"
      ]
     },
     "execution_count": 99,
     "metadata": {},
     "output_type": "execute_result"
    }
   ],
   "source": [
    "\n",
    "counts = (df[['opinion_seas_risk', 'seasonal_vaccine']]\n",
    "              .groupby(['opinion_seas_risk', 'seasonal_vaccine'])\n",
    "              .size()\n",
    "              .unstack('seasonal_vaccine')\n",
    "         )\n",
    "counts"
   ]
  },
  {
   "cell_type": "code",
   "execution_count": 100,
   "metadata": {},
   "outputs": [
    {
     "data": {
      "text/plain": [
       "0.2051231527093596"
      ]
     },
     "execution_count": 100,
     "metadata": {},
     "output_type": "execute_result"
    }
   ],
   "source": [
    "1041/(4034+1041)"
   ]
  },
  {
   "cell_type": "code",
   "execution_count": 101,
   "metadata": {},
   "outputs": [
    {
     "data": {
      "text/plain": [
       "0.3777491961414791"
      ]
     },
     "execution_count": 101,
     "metadata": {},
     "output_type": "execute_result"
    }
   ],
   "source": [
    "2937/(4838+2937)"
   ]
  },
  {
   "cell_type": "code",
   "execution_count": 102,
   "metadata": {},
   "outputs": [
    {
     "data": {
      "text/plain": [
       "0.5859030837004405"
      ]
     },
     "execution_count": 102,
     "metadata": {},
     "output_type": "execute_result"
    }
   ],
   "source": [
    "266/(188+266)"
   ]
  },
  {
   "cell_type": "code",
   "execution_count": 103,
   "metadata": {},
   "outputs": [
    {
     "data": {
      "text/plain": [
       "0.6775161241937903"
      ]
     },
     "execution_count": 103,
     "metadata": {},
     "output_type": "execute_result"
    }
   ],
   "source": [
    "4517/(2150+4517)"
   ]
  },
  {
   "cell_type": "code",
   "execution_count": 104,
   "metadata": {},
   "outputs": [
    {
     "data": {
      "text/plain": [
       "0.7678501755754975"
      ]
     },
     "execution_count": 104,
     "metadata": {},
     "output_type": "execute_result"
    }
   ],
   "source": [
    "1968/(595+1968)"
   ]
  },
  {
   "cell_type": "code",
   "execution_count": 105,
   "metadata": {},
   "outputs": [],
   "source": [
    "y = [0.2051231527093596,0.3777491961414791,0.5859030837004405,0.6775161241937903,0.7678501755754975]"
   ]
  },
  {
   "cell_type": "code",
   "execution_count": 106,
   "metadata": {},
   "outputs": [],
   "source": [
    "x = ['very low','somewhat low',\"don't know\",'somewhat high',\"very high\"]"
   ]
  },
  {
   "cell_type": "code",
   "execution_count": 107,
   "metadata": {},
   "outputs": [
    {
     "data": {
      "text/plain": [
       "Text(0, 0.5, 'Vaccine Rates')"
      ]
     },
     "execution_count": 107,
     "metadata": {},
     "output_type": "execute_result"
    },
    {
     "data": {
      "image/png": "[encoded data removed]",
      "text/plain": [
       "<Figure size 432x288 with 1 Axes>"
      ]
     },
     "metadata": {
      "needs_background": "light"
     },
     "output_type": "display_data"
    }
   ],
   "source": [
    "plt.plot(x,y)\n",
    "plt.title(\"Flu Risk Opinion and Vaccine Rates\")\n",
    "plt.xlabel(\"Opinion About Flu Risk\")\n",
    "plt.ylabel(\"Vaccine Rates\")"
   ]
  },
  {
   "cell_type": "code",
   "execution_count": 108,
   "metadata": {},
   "outputs": [],
   "source": [
    "y1 = [25,65]"
   ]
  },
  {
   "cell_type": "code",
   "execution_count": 109,
   "metadata": {},
   "outputs": [],
   "source": [
    "x1 = ['No', 'Yes']"
   ]
  },
  {
   "cell_type": "code",
   "execution_count": 110,
   "metadata": {},
   "outputs": [
    {
     "data": {
      "text/plain": [
       "<Figure size 432x288 with 0 Axes>"
      ]
     },
     "metadata": {},
     "output_type": "display_data"
    }
   ],
   "source": [
    "fig = plt.figure()"
   ]
  },
  {
   "cell_type": "code",
   "execution_count": 111,
   "metadata": {},
   "outputs": [],
   "source": [
    "ax = fig.add_axes([0,0,1,1])"
   ]
  },
  {
   "cell_type": "code",
   "execution_count": 112,
   "metadata": {},
   "outputs": [
    {
     "data": {
      "text/plain": [
       "Text(0, 0.5, 'Vaccine Rates')"
      ]
     },
     "execution_count": 112,
     "metadata": {},
     "output_type": "execute_result"
    },
    {
     "data": {
      "image/png": "[encoded data removed]",
      "text/plain": [
       "<Figure size 432x288 with 1 Axes>"
      ]
     },
     "metadata": {
      "needs_background": "light"
     },
     "output_type": "display_data"
    }
   ],
   "source": [
    "plt.bar(x1,y1, color = 'darkorange')\n",
    "plt.title(\"Doctor Recommendation and Vaccine Rates\")\n",
    "plt.xlabel(\"Did doctor recommend?\")\n",
    "plt.ylabel(\"Vaccine Rates\")"
   ]
  },
  {
   "cell_type": "code",
   "execution_count": null,
   "metadata": {},
   "outputs": [],
   "source": []
  },
  {
   "cell_type": "markdown",
   "metadata": {},
   "source": [
    "# Grid Search with Knn Classifier"
   ]
  },
  {
   "cell_type": "code",
   "execution_count": 113,
   "metadata": {},
   "outputs": [],
   "source": [
    "knn_gridSearch = KNeighborsClassifier()"
   ]
  },
  {
   "cell_type": "code",
   "execution_count": 114,
   "metadata": {},
   "outputs": [],
   "source": [
    "params = [{'n_neighbors' : [3,5,7,9],'weights' : ['uniform','distance'],'leaf_size' : [15,20]}]"
   ]
  },
  {
   "cell_type": "code",
   "execution_count": 115,
   "metadata": {},
   "outputs": [],
   "source": [
    "gs_knn = GridSearchCV(knn_gridSearch, param_grid = params, scoring = 'accuracy', cv = 5)"
   ]
  },
  {
   "cell_type": "code",
   "execution_count": 116,
   "metadata": {},
   "outputs": [
    {
     "data": {
      "text/plain": [
       "GridSearchCV(cv=5, estimator=KNeighborsClassifier(),\n",
       "             param_grid=[{'leaf_size': [15, 20], 'n_neighbors': [3, 5, 7, 9],\n",
       "                          'weights': ['uniform', 'distance']}],\n",
       "             scoring='accuracy')"
      ]
     },
     "execution_count": 116,
     "metadata": {},
     "output_type": "execute_result"
    }
   ],
   "source": [
    "gs_knn.fit(X_train,y_train)"
   ]
  },
  {
   "cell_type": "code",
   "execution_count": 117,
   "metadata": {},
   "outputs": [
    {
     "data": {
      "text/plain": [
       "{'leaf_size': 15, 'n_neighbors': 9, 'weights': 'distance'}"
      ]
     },
     "execution_count": 117,
     "metadata": {},
     "output_type": "execute_result"
    }
   ],
   "source": [
    "gs_knn.best_params_"
   ]
  },
  {
   "cell_type": "code",
   "execution_count": 118,
   "metadata": {},
   "outputs": [
    {
     "name": "stdout",
     "output_type": "stream",
     "text": [
      "tuned hyperparameters :(best parameters)  {'leaf_size': 15, 'n_neighbors': 9, 'weights': 'distance'}\n",
      "accuracy : 1.0\n"
     ]
    }
   ],
   "source": [
    "print(\"tuned hyperparameters :(best parameters) \",gs_knn.best_params_)\n",
    "print(\"accuracy :\",gs_knn.score(X_train, y_train))"
   ]
  },
  {
   "cell_type": "markdown",
   "metadata": {},
   "source": [
    "# Grid Search with Logistic Regression"
   ]
  },
  {
   "cell_type": "code",
   "execution_count": 119,
   "metadata": {},
   "outputs": [],
   "source": [
    "logistic_gridSearch = LogisticRegression()"
   ]
  },
  {
   "cell_type": "code",
   "execution_count": 120,
   "metadata": {},
   "outputs": [],
   "source": [
    "params = {\"penalty\":[\"l1\",\"l2\"]}"
   ]
  },
  {
   "cell_type": "code",
   "execution_count": 121,
   "metadata": {},
   "outputs": [],
   "source": [
    "gs_logistic = GridSearchCV(estimator = logistic_gridSearch,param_grid = params,cv=10)"
   ]
  },
  {
   "cell_type": "code",
   "execution_count": 122,
   "metadata": {},
   "outputs": [
    {
     "name": "stderr",
     "output_type": "stream",
     "text": [
      "/Users/aishabaitemirova/opt/anaconda3/envs/learn-env/lib/python3.8/site-packages/sklearn/model_selection/_validation.py:548: FitFailedWarning: Estimator fit failed. The score on this train-test partition for these parameters will be set to nan. Details: \n",
      "Traceback (most recent call last):\n",
      "  File \"/Users/aishabaitemirova/opt/anaconda3/envs/learn-env/lib/python3.8/site-packages/sklearn/model_selection/_validation.py\", line 531, in _fit_and_score\n",
      "    estimator.fit(X_train, y_train, **fit_params)\n",
      "  File \"/Users/aishabaitemirova/opt/anaconda3/envs/learn-env/lib/python3.8/site-packages/sklearn/linear_model/_logistic.py\", line 1304, in fit\n",
      "    solver = _check_solver(self.solver, self.penalty, self.dual)\n",
      "  File \"/Users/aishabaitemirova/opt/anaconda3/envs/learn-env/lib/python3.8/site-packages/sklearn/linear_model/_logistic.py\", line 442, in _check_solver\n",
      "    raise ValueError(\"Solver %s supports only 'l2' or 'none' penalties, \"\n",
      "ValueError: Solver lbfgs supports only 'l2' or 'none' penalties, got l1 penalty.\n",
      "\n",
      "  warnings.warn(\"Estimator fit failed. The score on this train-test\"\n",
      "/Users/aishabaitemirova/opt/anaconda3/envs/learn-env/lib/python3.8/site-packages/sklearn/linear_model/_logistic.py:762: ConvergenceWarning: lbfgs failed to converge (status=1):\n",
      "STOP: TOTAL NO. of ITERATIONS REACHED LIMIT.\n",
      "\n",
      "Increase the number of iterations (max_iter) or scale the data as shown in:\n",
      "    https://scikit-learn.org/stable/modules/preprocessing.html\n",
      "Please also refer to the documentation for alternative solver options:\n",
      "    https://scikit-learn.org/stable/modules/linear_model.html#logistic-regression\n",
      "  n_iter_i = _check_optimize_result(\n",
      "/Users/aishabaitemirova/opt/anaconda3/envs/learn-env/lib/python3.8/site-packages/sklearn/linear_model/_logistic.py:762: ConvergenceWarning: lbfgs failed to converge (status=1):\n",
      "STOP: TOTAL NO. of ITERATIONS REACHED LIMIT.\n",
      "\n",
      "Increase the number of iterations (max_iter) or scale the data as shown in:\n",
      "    https://scikit-learn.org/stable/modules/preprocessing.html\n",
      "Please also refer to the documentation for alternative solver options:\n",
      "    https://scikit-learn.org/stable/modules/linear_model.html#logistic-regression\n",
      "  n_iter_i = _check_optimize_result(\n",
      "/Users/aishabaitemirova/opt/anaconda3/envs/learn-env/lib/python3.8/site-packages/sklearn/linear_model/_logistic.py:762: ConvergenceWarning: lbfgs failed to converge (status=1):\n",
      "STOP: TOTAL NO. of ITERATIONS REACHED LIMIT.\n",
      "\n",
      "Increase the number of iterations (max_iter) or scale the data as shown in:\n",
      "    https://scikit-learn.org/stable/modules/preprocessing.html\n",
      "Please also refer to the documentation for alternative solver options:\n",
      "    https://scikit-learn.org/stable/modules/linear_model.html#logistic-regression\n",
      "  n_iter_i = _check_optimize_result(\n",
      "/Users/aishabaitemirova/opt/anaconda3/envs/learn-env/lib/python3.8/site-packages/sklearn/linear_model/_logistic.py:762: ConvergenceWarning: lbfgs failed to converge (status=1):\n",
      "STOP: TOTAL NO. of ITERATIONS REACHED LIMIT.\n",
      "\n",
      "Increase the number of iterations (max_iter) or scale the data as shown in:\n",
      "    https://scikit-learn.org/stable/modules/preprocessing.html\n",
      "Please also refer to the documentation for alternative solver options:\n",
      "    https://scikit-learn.org/stable/modules/linear_model.html#logistic-regression\n",
      "  n_iter_i = _check_optimize_result(\n",
      "/Users/aishabaitemirova/opt/anaconda3/envs/learn-env/lib/python3.8/site-packages/sklearn/linear_model/_logistic.py:762: ConvergenceWarning: lbfgs failed to converge (status=1):\n",
      "STOP: TOTAL NO. of ITERATIONS REACHED LIMIT.\n",
      "\n",
      "Increase the number of iterations (max_iter) or scale the data as shown in:\n",
      "    https://scikit-learn.org/stable/modules/preprocessing.html\n",
      "Please also refer to the documentation for alternative solver options:\n",
      "    https://scikit-learn.org/stable/modules/linear_model.html#logistic-regression\n",
      "  n_iter_i = _check_optimize_result(\n",
      "/Users/aishabaitemirova/opt/anaconda3/envs/learn-env/lib/python3.8/site-packages/sklearn/linear_model/_logistic.py:762: ConvergenceWarning: lbfgs failed to converge (status=1):\n",
      "STOP: TOTAL NO. of ITERATIONS REACHED LIMIT.\n",
      "\n",
      "Increase the number of iterations (max_iter) or scale the data as shown in:\n",
      "    https://scikit-learn.org/stable/modules/preprocessing.html\n",
      "Please also refer to the documentation for alternative solver options:\n",
      "    https://scikit-learn.org/stable/modules/linear_model.html#logistic-regression\n",
      "  n_iter_i = _check_optimize_result(\n",
      "/Users/aishabaitemirova/opt/anaconda3/envs/learn-env/lib/python3.8/site-packages/sklearn/linear_model/_logistic.py:762: ConvergenceWarning: lbfgs failed to converge (status=1):\n",
      "STOP: TOTAL NO. of ITERATIONS REACHED LIMIT.\n",
      "\n",
      "Increase the number of iterations (max_iter) or scale the data as shown in:\n",
      "    https://scikit-learn.org/stable/modules/preprocessing.html\n",
      "Please also refer to the documentation for alternative solver options:\n",
      "    https://scikit-learn.org/stable/modules/linear_model.html#logistic-regression\n",
      "  n_iter_i = _check_optimize_result(\n",
      "/Users/aishabaitemirova/opt/anaconda3/envs/learn-env/lib/python3.8/site-packages/sklearn/linear_model/_logistic.py:762: ConvergenceWarning: lbfgs failed to converge (status=1):\n",
      "STOP: TOTAL NO. of ITERATIONS REACHED LIMIT.\n",
      "\n",
      "Increase the number of iterations (max_iter) or scale the data as shown in:\n",
      "    https://scikit-learn.org/stable/modules/preprocessing.html\n",
      "Please also refer to the documentation for alternative solver options:\n",
      "    https://scikit-learn.org/stable/modules/linear_model.html#logistic-regression\n",
      "  n_iter_i = _check_optimize_result(\n",
      "/Users/aishabaitemirova/opt/anaconda3/envs/learn-env/lib/python3.8/site-packages/sklearn/linear_model/_logistic.py:762: ConvergenceWarning: lbfgs failed to converge (status=1):\n",
      "STOP: TOTAL NO. of ITERATIONS REACHED LIMIT.\n",
      "\n",
      "Increase the number of iterations (max_iter) or scale the data as shown in:\n",
      "    https://scikit-learn.org/stable/modules/preprocessing.html\n",
      "Please also refer to the documentation for alternative solver options:\n",
      "    https://scikit-learn.org/stable/modules/linear_model.html#logistic-regression\n",
      "  n_iter_i = _check_optimize_result(\n",
      "/Users/aishabaitemirova/opt/anaconda3/envs/learn-env/lib/python3.8/site-packages/sklearn/linear_model/_logistic.py:762: ConvergenceWarning: lbfgs failed to converge (status=1):\n",
      "STOP: TOTAL NO. of ITERATIONS REACHED LIMIT.\n",
      "\n",
      "Increase the number of iterations (max_iter) or scale the data as shown in:\n",
      "    https://scikit-learn.org/stable/modules/preprocessing.html\n",
      "Please also refer to the documentation for alternative solver options:\n",
      "    https://scikit-learn.org/stable/modules/linear_model.html#logistic-regression\n",
      "  n_iter_i = _check_optimize_result(\n",
      "/Users/aishabaitemirova/opt/anaconda3/envs/learn-env/lib/python3.8/site-packages/sklearn/linear_model/_logistic.py:762: ConvergenceWarning: lbfgs failed to converge (status=1):\n",
      "STOP: TOTAL NO. of ITERATIONS REACHED LIMIT.\n",
      "\n",
      "Increase the number of iterations (max_iter) or scale the data as shown in:\n",
      "    https://scikit-learn.org/stable/modules/preprocessing.html\n",
      "Please also refer to the documentation for alternative solver options:\n",
      "    https://scikit-learn.org/stable/modules/linear_model.html#logistic-regression\n",
      "  n_iter_i = _check_optimize_result(\n"
     ]
    },
    {
     "data": {
      "text/plain": [
       "GridSearchCV(cv=10, estimator=LogisticRegression(),\n",
       "             param_grid={'penalty': ['l1', 'l2']})"
      ]
     },
     "execution_count": 122,
     "metadata": {},
     "output_type": "execute_result"
    }
   ],
   "source": [
    "gs_logistic.fit(X_train,y_train)"
   ]
  },
  {
   "cell_type": "code",
   "execution_count": 123,
   "metadata": {},
   "outputs": [
    {
     "data": {
      "text/plain": [
       "{'penalty': 'l2'}"
      ]
     },
     "execution_count": 123,
     "metadata": {},
     "output_type": "execute_result"
    }
   ],
   "source": [
    "gs_logistic.best_params_"
   ]
  },
  {
   "cell_type": "code",
   "execution_count": 124,
   "metadata": {},
   "outputs": [
    {
     "name": "stdout",
     "output_type": "stream",
     "text": [
      "tuned hyperparameters :(best parameters)  {'penalty': 'l2'}\n",
      "accuracy : 0.8002570837757782\n"
     ]
    }
   ],
   "source": [
    "print(\"tuned hyperparameters :(best parameters) \",gs_logistic.best_params_)\n",
    "print(\"accuracy :\",gs_logistic.score(X_train,y_train))"
   ]
  },
  {
   "cell_type": "code",
   "execution_count": null,
   "metadata": {},
   "outputs": [],
   "source": []
  }
 ],
 "metadata": {
  "kernelspec": {
   "display_name": "Python (learn-env)",
   "language": "python",
   "name": "learn-env"
  },
  "language_info": {
   "codemirror_mode": {
    "name": "ipython",
    "version": 3
   },
   "file_extension": ".py",
   "mimetype": "text/x-python",
   "name": "python",
   "nbconvert_exporter": "python",
   "pygments_lexer": "ipython3",
   "version": "3.8.5"
  }
 },
 "nbformat": 4,
 "nbformat_minor": 4
}
